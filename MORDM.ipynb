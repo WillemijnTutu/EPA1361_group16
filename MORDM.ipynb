{
 "cells": [
  {
   "cell_type": "markdown",
   "id": "49723759-2706-48a1-936b-689a1ce2fecb",
   "metadata": {
    "jp-MarkdownHeadingCollapsed": true,
    "tags": []
   },
   "source": [
    "# Room for the river: Gorssel "
   ]
  },
  {
   "cell_type": "code",
   "execution_count": 1,
   "id": "9bda1d00-9961-40a9-b730-d53d2a8ddf6f",
   "metadata": {},
   "outputs": [
    {
     "name": "stdout",
     "output_type": "stream",
     "text": [
      "User Current Version:- 3.9.7 (default, Sep 16 2021, 16:59:28) [MSC v.1916 64 bit (AMD64)]\n"
     ]
    }
   ],
   "source": [
    "import sys\n",
    "\n",
    "print(\"User Current Version:-\", sys.version)"
   ]
  },
  {
   "cell_type": "code",
   "execution_count": 2,
   "id": "8dc46da0-a4ae-4f9a-bc37-de03d4ce51c7",
   "metadata": {},
   "outputs": [],
   "source": [
    "#imports\n",
    "import numpy as np\n",
    "import scipy as sp\n",
    "import pandas as pd\n",
    "import matplotlib.pyplot as plt\n",
    "import seaborn as sns\n",
    "import networkx as nx\n",
    "\n",
    "from ema_workbench import (Model, CategoricalParameter,ScalarOutcome, IntegerParameter, RealParameter,\n",
    "                           MultiprocessingEvaluator, ema_logging, Constant, Policy, Scenario,\n",
    "                           perform_experiments, SequentialEvaluator,Constraint)\n",
    "from problem_formulation import get_model_for_problem_formulation\n",
    "\n",
    "from dike_model_function import DikeNetwork  # @UnresolvedImport\n",
    "\n",
    "from ema_workbench.em_framework.optimization import (HyperVolume, EpsilonProgress,GenerationalBorg)\n",
    "from ema_workbench.em_framework.evaluators import perform_experiments\n",
    "from ema_workbench.em_framework.samplers import sample_uncertainties\n",
    "from ema_workbench.util import ema_logging\n",
    "from ema_workbench.analysis import plotting, plotting_util, parcoords, feature_scoring, prim\n",
    "from ema_workbench import load_results \n",
    "\n",
    "from mpl_toolkits.mplot3d import Axes3D \n",
    "\n",
    "from sklearn import preprocessing\n",
    "\n",
    "import time\n",
    "import copy\n",
    "\n",
    "import itertools\n",
    "\n",
    "from concurrent.futures import ProcessPoolExecutor\n",
    "from concurrent.futures import ThreadPoolExecutor\n",
    "import os\n",
    "import functools\n",
    "\n",
    "import random"
   ]
  },
  {
   "cell_type": "code",
   "execution_count": 3,
   "id": "a29254f4-6620-4566-a931-fe5580f10f96",
   "metadata": {},
   "outputs": [],
   "source": [
    "from scipy.spatial.distance import pdist, squareform\n",
    "\n",
    "def evaluate_diversity_single(indices, distances, weight=0.5, distance='euclidean'):\n",
    "    '''\n",
    "    takes the outcomes and selected scenario set (decision variables), \n",
    "    returns a single 'diversity' value for the scenario set.\n",
    "    outcomes : outcomes dictionary of the scenario ensemble\n",
    "    decision vars : indices of the scenario set\n",
    "    weight : weight given to the mean in the diversity metric. If 0, only minimum; if 1, only mean\n",
    "    '''\n",
    "    i, j = [e for e in zip(*itertools.combinations(indices, 2))]\n",
    "    subset_distances = distances[i, j]\n",
    "    minimum = np.min(subset_distances)\n",
    "    mean = np.mean(subset_distances)\n",
    "    diversity = (1-weight)*minimum + weight*mean\n",
    "    \n",
    "    return [diversity]\n",
    "\n",
    "\n",
    "def find_maxdiverse_scenarios(distances, combinations):\n",
    "    scores = []\n",
    "    for indices in combinations:\n",
    "        diversity = evaluate_diversity_single(indices, distances)\n",
    "        scores.append((diversity, indices))\n",
    "\n",
    "    return scores\n",
    "\n",
    "def optimize(scenario, nfe, model, converge_metrics, epsilons):\n",
    "\n",
    "\n",
    "    with SequentialEvaluator(model) as evaluator:\n",
    "        results, convergence = evaluator.optimize(nfe=nfe, searchover='levers',\n",
    "                                     convergence=convergence_metrics,\n",
    "                                     epsilons=epsilons,\n",
    "                                     reference=scenario)\n",
    "    return results, convergence\n"
   ]
  },
  {
   "cell_type": "markdown",
   "id": "e566a2f5-69ed-47c2-9b74-9e19e7de1327",
   "metadata": {
    "jp-MarkdownHeadingCollapsed": true,
    "tags": []
   },
   "source": [
    "# Scenario Selection "
   ]
  },
  {
   "cell_type": "code",
   "execution_count": 4,
   "id": "54e1fe78",
   "metadata": {},
   "outputs": [],
   "source": [
    "#running the model through EMA workbench\n",
    "ema_logging.log_to_stderr(ema_logging.INFO)\n",
    "\n",
    "#choose problem formulation number, between 0-5\n",
    "#each problem formulation has its own list of outcomes\n",
    "dike_model, planning_steps = get_model_for_problem_formulation(3) \n"
   ]
  },
  {
   "cell_type": "code",
   "execution_count": 5,
   "id": "3a07f38f-d9fd-4375-9b8c-f1f09053c225",
   "metadata": {},
   "outputs": [
    {
     "name": "stderr",
     "output_type": "stream",
     "text": [
      "[MainProcess/INFO] performing 10 scenarios * 5 policies * 1 model(s) = 50 experiments\n",
      "  0%|                                                   | 0/50 [00:00<?, ?it/s][MainProcess/INFO] performing experiments sequentially\n",
      "100%|██████████████████████████████████████████| 50/50 [03:50<00:00,  4.61s/it]\n",
      "[MainProcess/INFO] experiments finished\n"
     ]
    }
   ],
   "source": [
    "with SequentialEvaluator(dike_model) as evaluator:\n",
    "    results_MORDM = evaluator.perform_experiments(scenarios=10, policies=5) \n",
    "    #s for number of scenarios, p for number of experiments \n",
    "    \n",
    "experiments_MORDM, outcomes_MORDM = results_MORDM \n",
    "#s for number of scenarios, p for number of experiments "
   ]
  },
  {
   "cell_type": "code",
   "execution_count": null,
   "id": "d1738de0-b23e-43a6-afc8-6f6c6047f2d3",
   "metadata": {},
   "outputs": [],
   "source": []
  },
  {
   "cell_type": "code",
   "execution_count": 6,
   "id": "58fb5955",
   "metadata": {},
   "outputs": [],
   "source": [
    "#save the initial results to be sure the original can be reused without having to run the model again \n",
    "raw_outcomes    = outcomes_MORDM.copy()\n",
    "raw_experiments = experiments_MORDM.copy()"
   ]
  },
  {
   "cell_type": "code",
   "execution_count": 7,
   "id": "1c63b5fd",
   "metadata": {},
   "outputs": [
    {
     "data": {
      "text/plain": [
       "Index(['A.0_ID flood wave shape', 'A.1_Bmax', 'A.1_Brate', 'A.1_pfail',\n",
       "       'A.2_Bmax', 'A.2_Brate', 'A.2_pfail', 'A.3_Bmax', 'A.3_Brate',\n",
       "       'A.3_pfail', 'A.4_Bmax', 'A.4_Brate', 'A.4_pfail', 'A.5_Bmax',\n",
       "       'A.5_Brate', 'A.5_pfail', 'discount rate 0', 'discount rate 1',\n",
       "       'discount rate 2', '0_RfR 0', '0_RfR 1', '0_RfR 2', '1_RfR 0',\n",
       "       '1_RfR 1', '1_RfR 2', '2_RfR 0', '2_RfR 1', '2_RfR 2', '3_RfR 0',\n",
       "       '3_RfR 1', '3_RfR 2', '4_RfR 0', '4_RfR 1', '4_RfR 2',\n",
       "       'A.1_DikeIncrease 0', 'A.1_DikeIncrease 1', 'A.1_DikeIncrease 2',\n",
       "       'A.2_DikeIncrease 0', 'A.2_DikeIncrease 1', 'A.2_DikeIncrease 2',\n",
       "       'A.3_DikeIncrease 0', 'A.3_DikeIncrease 1', 'A.3_DikeIncrease 2',\n",
       "       'A.4_DikeIncrease 0', 'A.4_DikeIncrease 1', 'A.4_DikeIncrease 2',\n",
       "       'A.5_DikeIncrease 0', 'A.5_DikeIncrease 1', 'A.5_DikeIncrease 2',\n",
       "       'EWS_DaysToThreat', 'scenario', 'policy', 'model'],\n",
       "      dtype='object')"
      ]
     },
     "execution_count": 7,
     "metadata": {},
     "output_type": "execute_result"
    }
   ],
   "source": [
    "df_experiments = pd.DataFrame(experiments_MORDM)\n",
    "\n",
    "df_outcomes =pd.DataFrame()\n",
    "for outcome in outcomes_MORDM.keys():\n",
    "    df_outcomes[outcome] = outcomes_MORDM[outcome]\n",
    "\n",
    "df_experiments\n",
    "df_experiments.columns"
   ]
  },
  {
   "cell_type": "code",
   "execution_count": 8,
   "id": "4ac56730-dbee-40b1-b63b-a54eb780c00e",
   "metadata": {},
   "outputs": [],
   "source": [
    "experiments = df_experiments.copy()\n",
    "outcomes = df_outcomes.copy()"
   ]
  },
  {
   "cell_type": "code",
   "execution_count": 9,
   "id": "0fbf78f2-5ebf-4826-8b44-cb5c01b08830",
   "metadata": {},
   "outputs": [
    {
     "data": {
      "text/plain": [
       "Index(['A.1_Expected Annual Damage', 'A.1_Dike Investment Costs',\n",
       "       'A.1_Expected Number of Deaths', 'A.2_Expected Annual Damage',\n",
       "       'A.2_Dike Investment Costs', 'A.2_Expected Number of Deaths',\n",
       "       'A.3_Expected Annual Damage', 'A.3_Dike Investment Costs',\n",
       "       'A.3_Expected Number of Deaths', 'A.4_Expected Annual Damage',\n",
       "       'A.4_Dike Investment Costs', 'A.4_Expected Number of Deaths',\n",
       "       'A.5_Expected Annual Damage', 'A.5_Dike Investment Costs',\n",
       "       'A.5_Expected Number of Deaths', 'RfR Total Costs',\n",
       "       'Expected Evacuation Costs'],\n",
       "      dtype='object')"
      ]
     },
     "execution_count": 9,
     "metadata": {},
     "output_type": "execute_result"
    }
   ],
   "source": [
    "outcomes.keys()"
   ]
  },
  {
   "cell_type": "code",
   "execution_count": 10,
   "id": "44e0b539-d808-4fbf-b09f-64f4e30dac14",
   "metadata": {},
   "outputs": [],
   "source": [
    "#determine thresholds \n",
    "max_evacuation_costs = 5000\n",
    "max_expected_annual_damage = 1\n"
   ]
  },
  {
   "cell_type": "code",
   "execution_count": 11,
   "id": "2ffd19c8-ce73-43c0-96dd-d88fdb2cf4db",
   "metadata": {
    "tags": []
   },
   "outputs": [],
   "source": [
    "outcomes[['A.4_Expected Annual Damage','A.4_Dike Investment Costs', 'A.4_Expected Number of Deaths',\n",
    "          'RfR Total Costs','Expected Evacuation Costs']]\n",
    "\n",
    "outcomes_of_interest = outcomes[(outcomes['A.4_Expected Annual Damage']< max_expected_annual_damage) \n",
    "                                &( outcomes['Expected Evacuation Costs']<max_evacuation_costs)]\n",
    "\n",
    "y = (outcomes['A.4_Expected Annual Damage']< max_expected_annual_damage)&( outcomes['Expected Evacuation Costs']<max_evacuation_costs)\n",
    "#y"
   ]
  },
  {
   "cell_type": "code",
   "execution_count": 12,
   "id": "5fd621e9-9a81-4651-9e33-a7b02d6b885f",
   "metadata": {
    "tags": []
   },
   "outputs": [
    {
     "data": {
      "text/html": [
       "<div>\n",
       "<style scoped>\n",
       "    .dataframe tbody tr th:only-of-type {\n",
       "        vertical-align: middle;\n",
       "    }\n",
       "\n",
       "    .dataframe tbody tr th {\n",
       "        vertical-align: top;\n",
       "    }\n",
       "\n",
       "    .dataframe thead th {\n",
       "        text-align: right;\n",
       "    }\n",
       "</style>\n",
       "<table border=\"1\" class=\"dataframe\">\n",
       "  <thead>\n",
       "    <tr style=\"text-align: right;\">\n",
       "      <th></th>\n",
       "      <th>A.1_Expected Annual Damage</th>\n",
       "      <th>A.1_Dike Investment Costs</th>\n",
       "      <th>A.1_Expected Number of Deaths</th>\n",
       "      <th>A.2_Expected Annual Damage</th>\n",
       "      <th>A.2_Dike Investment Costs</th>\n",
       "      <th>A.2_Expected Number of Deaths</th>\n",
       "      <th>A.3_Expected Annual Damage</th>\n",
       "      <th>A.3_Dike Investment Costs</th>\n",
       "      <th>A.3_Expected Number of Deaths</th>\n",
       "      <th>A.4_Expected Annual Damage</th>\n",
       "      <th>A.4_Dike Investment Costs</th>\n",
       "      <th>A.4_Expected Number of Deaths</th>\n",
       "      <th>A.5_Expected Annual Damage</th>\n",
       "      <th>A.5_Dike Investment Costs</th>\n",
       "      <th>A.5_Expected Number of Deaths</th>\n",
       "      <th>RfR Total Costs</th>\n",
       "      <th>Expected Evacuation Costs</th>\n",
       "    </tr>\n",
       "  </thead>\n",
       "  <tbody>\n",
       "    <tr>\n",
       "      <th>0</th>\n",
       "      <td>0.0</td>\n",
       "      <td>2.463876e+08</td>\n",
       "      <td>0.0</td>\n",
       "      <td>2.589972e+07</td>\n",
       "      <td>1.417416e+08</td>\n",
       "      <td>0.002801</td>\n",
       "      <td>0.0</td>\n",
       "      <td>1.478623e+08</td>\n",
       "      <td>0.0</td>\n",
       "      <td>0.0</td>\n",
       "      <td>2.842355e+07</td>\n",
       "      <td>0.0</td>\n",
       "      <td>0.0</td>\n",
       "      <td>1.352925e+08</td>\n",
       "      <td>0.0</td>\n",
       "      <td>883800000.0</td>\n",
       "      <td>1379.410586</td>\n",
       "    </tr>\n",
       "    <tr>\n",
       "      <th>1</th>\n",
       "      <td>0.0</td>\n",
       "      <td>2.463876e+08</td>\n",
       "      <td>0.0</td>\n",
       "      <td>2.943106e+06</td>\n",
       "      <td>1.417416e+08</td>\n",
       "      <td>0.000424</td>\n",
       "      <td>0.0</td>\n",
       "      <td>1.478623e+08</td>\n",
       "      <td>0.0</td>\n",
       "      <td>0.0</td>\n",
       "      <td>2.842355e+07</td>\n",
       "      <td>0.0</td>\n",
       "      <td>0.0</td>\n",
       "      <td>1.352925e+08</td>\n",
       "      <td>0.0</td>\n",
       "      <td>883800000.0</td>\n",
       "      <td>193.021557</td>\n",
       "    </tr>\n",
       "    <tr>\n",
       "      <th>3</th>\n",
       "      <td>0.0</td>\n",
       "      <td>2.463876e+08</td>\n",
       "      <td>0.0</td>\n",
       "      <td>4.287804e+07</td>\n",
       "      <td>1.417416e+08</td>\n",
       "      <td>0.004622</td>\n",
       "      <td>0.0</td>\n",
       "      <td>1.478623e+08</td>\n",
       "      <td>0.0</td>\n",
       "      <td>0.0</td>\n",
       "      <td>2.842355e+07</td>\n",
       "      <td>0.0</td>\n",
       "      <td>0.0</td>\n",
       "      <td>1.352925e+08</td>\n",
       "      <td>0.0</td>\n",
       "      <td>883800000.0</td>\n",
       "      <td>2286.996179</td>\n",
       "    </tr>\n",
       "    <tr>\n",
       "      <th>4</th>\n",
       "      <td>0.0</td>\n",
       "      <td>2.463876e+08</td>\n",
       "      <td>0.0</td>\n",
       "      <td>4.735309e+06</td>\n",
       "      <td>1.417416e+08</td>\n",
       "      <td>0.000415</td>\n",
       "      <td>0.0</td>\n",
       "      <td>1.478623e+08</td>\n",
       "      <td>0.0</td>\n",
       "      <td>0.0</td>\n",
       "      <td>2.842355e+07</td>\n",
       "      <td>0.0</td>\n",
       "      <td>0.0</td>\n",
       "      <td>1.352925e+08</td>\n",
       "      <td>0.0</td>\n",
       "      <td>883800000.0</td>\n",
       "      <td>191.405676</td>\n",
       "    </tr>\n",
       "    <tr>\n",
       "      <th>7</th>\n",
       "      <td>0.0</td>\n",
       "      <td>2.463876e+08</td>\n",
       "      <td>0.0</td>\n",
       "      <td>1.209086e+07</td>\n",
       "      <td>1.417416e+08</td>\n",
       "      <td>0.002050</td>\n",
       "      <td>0.0</td>\n",
       "      <td>1.478623e+08</td>\n",
       "      <td>0.0</td>\n",
       "      <td>0.0</td>\n",
       "      <td>2.842355e+07</td>\n",
       "      <td>0.0</td>\n",
       "      <td>0.0</td>\n",
       "      <td>1.352925e+08</td>\n",
       "      <td>0.0</td>\n",
       "      <td>883800000.0</td>\n",
       "      <td>978.249678</td>\n",
       "    </tr>\n",
       "  </tbody>\n",
       "</table>\n",
       "</div>"
      ],
      "text/plain": [
       "   A.1_Expected Annual Damage  A.1_Dike Investment Costs  \\\n",
       "0                         0.0               2.463876e+08   \n",
       "1                         0.0               2.463876e+08   \n",
       "3                         0.0               2.463876e+08   \n",
       "4                         0.0               2.463876e+08   \n",
       "7                         0.0               2.463876e+08   \n",
       "\n",
       "   A.1_Expected Number of Deaths  A.2_Expected Annual Damage  \\\n",
       "0                            0.0                2.589972e+07   \n",
       "1                            0.0                2.943106e+06   \n",
       "3                            0.0                4.287804e+07   \n",
       "4                            0.0                4.735309e+06   \n",
       "7                            0.0                1.209086e+07   \n",
       "\n",
       "   A.2_Dike Investment Costs  A.2_Expected Number of Deaths  \\\n",
       "0               1.417416e+08                       0.002801   \n",
       "1               1.417416e+08                       0.000424   \n",
       "3               1.417416e+08                       0.004622   \n",
       "4               1.417416e+08                       0.000415   \n",
       "7               1.417416e+08                       0.002050   \n",
       "\n",
       "   A.3_Expected Annual Damage  A.3_Dike Investment Costs  \\\n",
       "0                         0.0               1.478623e+08   \n",
       "1                         0.0               1.478623e+08   \n",
       "3                         0.0               1.478623e+08   \n",
       "4                         0.0               1.478623e+08   \n",
       "7                         0.0               1.478623e+08   \n",
       "\n",
       "   A.3_Expected Number of Deaths  A.4_Expected Annual Damage  \\\n",
       "0                            0.0                         0.0   \n",
       "1                            0.0                         0.0   \n",
       "3                            0.0                         0.0   \n",
       "4                            0.0                         0.0   \n",
       "7                            0.0                         0.0   \n",
       "\n",
       "   A.4_Dike Investment Costs  A.4_Expected Number of Deaths  \\\n",
       "0               2.842355e+07                            0.0   \n",
       "1               2.842355e+07                            0.0   \n",
       "3               2.842355e+07                            0.0   \n",
       "4               2.842355e+07                            0.0   \n",
       "7               2.842355e+07                            0.0   \n",
       "\n",
       "   A.5_Expected Annual Damage  A.5_Dike Investment Costs  \\\n",
       "0                         0.0               1.352925e+08   \n",
       "1                         0.0               1.352925e+08   \n",
       "3                         0.0               1.352925e+08   \n",
       "4                         0.0               1.352925e+08   \n",
       "7                         0.0               1.352925e+08   \n",
       "\n",
       "   A.5_Expected Number of Deaths  RfR Total Costs  Expected Evacuation Costs  \n",
       "0                            0.0      883800000.0                1379.410586  \n",
       "1                            0.0      883800000.0                 193.021557  \n",
       "3                            0.0      883800000.0                2286.996179  \n",
       "4                            0.0      883800000.0                 191.405676  \n",
       "7                            0.0      883800000.0                 978.249678  "
      ]
     },
     "execution_count": 12,
     "metadata": {},
     "output_type": "execute_result"
    }
   ],
   "source": [
    "outcomes_of_interest.head()\n",
    "#shape(outcomes_of_interest) "
   ]
  },
  {
   "cell_type": "code",
   "execution_count": 13,
   "id": "a7267880-5a50-4f34-9596-c73b18d76579",
   "metadata": {
    "tags": []
   },
   "outputs": [
    {
     "data": {
      "text/html": [
       "<div>\n",
       "<style scoped>\n",
       "    .dataframe tbody tr th:only-of-type {\n",
       "        vertical-align: middle;\n",
       "    }\n",
       "\n",
       "    .dataframe tbody tr th {\n",
       "        vertical-align: top;\n",
       "    }\n",
       "\n",
       "    .dataframe thead th {\n",
       "        text-align: right;\n",
       "    }\n",
       "</style>\n",
       "<table border=\"1\" class=\"dataframe\">\n",
       "  <thead>\n",
       "    <tr style=\"text-align: right;\">\n",
       "      <th></th>\n",
       "      <th>A.0_ID flood wave shape</th>\n",
       "      <th>A.1_Bmax</th>\n",
       "      <th>A.1_Brate</th>\n",
       "      <th>A.1_pfail</th>\n",
       "      <th>A.2_Bmax</th>\n",
       "      <th>A.2_Brate</th>\n",
       "      <th>A.2_pfail</th>\n",
       "      <th>A.3_Bmax</th>\n",
       "      <th>A.3_Brate</th>\n",
       "      <th>A.3_pfail</th>\n",
       "      <th>...</th>\n",
       "      <th>A.4_DikeIncrease 0</th>\n",
       "      <th>A.4_DikeIncrease 1</th>\n",
       "      <th>A.4_DikeIncrease 2</th>\n",
       "      <th>A.5_DikeIncrease 0</th>\n",
       "      <th>A.5_DikeIncrease 1</th>\n",
       "      <th>A.5_DikeIncrease 2</th>\n",
       "      <th>EWS_DaysToThreat</th>\n",
       "      <th>scenario</th>\n",
       "      <th>policy</th>\n",
       "      <th>model</th>\n",
       "    </tr>\n",
       "  </thead>\n",
       "  <tbody>\n",
       "    <tr>\n",
       "      <th>0</th>\n",
       "      <td>113.0</td>\n",
       "      <td>245.389093</td>\n",
       "      <td>10</td>\n",
       "      <td>0.551521</td>\n",
       "      <td>155.740733</td>\n",
       "      <td>1.5</td>\n",
       "      <td>0.377944</td>\n",
       "      <td>276.429924</td>\n",
       "      <td>1.5</td>\n",
       "      <td>0.143022</td>\n",
       "      <td>...</td>\n",
       "      <td>4.0</td>\n",
       "      <td>2.0</td>\n",
       "      <td>3.0</td>\n",
       "      <td>4.0</td>\n",
       "      <td>3.0</td>\n",
       "      <td>9.0</td>\n",
       "      <td>3.0</td>\n",
       "      <td>5</td>\n",
       "      <td>0</td>\n",
       "      <td>dikesnet</td>\n",
       "    </tr>\n",
       "    <tr>\n",
       "      <th>1</th>\n",
       "      <td>64.0</td>\n",
       "      <td>286.591730</td>\n",
       "      <td>1.5</td>\n",
       "      <td>0.185900</td>\n",
       "      <td>164.493228</td>\n",
       "      <td>10</td>\n",
       "      <td>0.833925</td>\n",
       "      <td>296.658337</td>\n",
       "      <td>1.0</td>\n",
       "      <td>0.458840</td>\n",
       "      <td>...</td>\n",
       "      <td>4.0</td>\n",
       "      <td>2.0</td>\n",
       "      <td>3.0</td>\n",
       "      <td>4.0</td>\n",
       "      <td>3.0</td>\n",
       "      <td>9.0</td>\n",
       "      <td>3.0</td>\n",
       "      <td>6</td>\n",
       "      <td>0</td>\n",
       "      <td>dikesnet</td>\n",
       "    </tr>\n",
       "    <tr>\n",
       "      <th>2</th>\n",
       "      <td>1.0</td>\n",
       "      <td>340.626373</td>\n",
       "      <td>10</td>\n",
       "      <td>0.913145</td>\n",
       "      <td>204.119082</td>\n",
       "      <td>10</td>\n",
       "      <td>0.994911</td>\n",
       "      <td>115.315255</td>\n",
       "      <td>10</td>\n",
       "      <td>0.588699</td>\n",
       "      <td>...</td>\n",
       "      <td>4.0</td>\n",
       "      <td>2.0</td>\n",
       "      <td>3.0</td>\n",
       "      <td>4.0</td>\n",
       "      <td>3.0</td>\n",
       "      <td>9.0</td>\n",
       "      <td>3.0</td>\n",
       "      <td>7</td>\n",
       "      <td>0</td>\n",
       "      <td>dikesnet</td>\n",
       "    </tr>\n",
       "    <tr>\n",
       "      <th>3</th>\n",
       "      <td>27.0</td>\n",
       "      <td>184.236210</td>\n",
       "      <td>1.0</td>\n",
       "      <td>0.090132</td>\n",
       "      <td>273.135991</td>\n",
       "      <td>1.0</td>\n",
       "      <td>0.297745</td>\n",
       "      <td>142.490633</td>\n",
       "      <td>1.0</td>\n",
       "      <td>0.328798</td>\n",
       "      <td>...</td>\n",
       "      <td>4.0</td>\n",
       "      <td>2.0</td>\n",
       "      <td>3.0</td>\n",
       "      <td>4.0</td>\n",
       "      <td>3.0</td>\n",
       "      <td>9.0</td>\n",
       "      <td>3.0</td>\n",
       "      <td>8</td>\n",
       "      <td>0</td>\n",
       "      <td>dikesnet</td>\n",
       "    </tr>\n",
       "    <tr>\n",
       "      <th>4</th>\n",
       "      <td>130.0</td>\n",
       "      <td>72.576689</td>\n",
       "      <td>10</td>\n",
       "      <td>0.302170</td>\n",
       "      <td>292.225061</td>\n",
       "      <td>1.5</td>\n",
       "      <td>0.773962</td>\n",
       "      <td>46.438151</td>\n",
       "      <td>10</td>\n",
       "      <td>0.275168</td>\n",
       "      <td>...</td>\n",
       "      <td>4.0</td>\n",
       "      <td>2.0</td>\n",
       "      <td>3.0</td>\n",
       "      <td>4.0</td>\n",
       "      <td>3.0</td>\n",
       "      <td>9.0</td>\n",
       "      <td>3.0</td>\n",
       "      <td>9</td>\n",
       "      <td>0</td>\n",
       "      <td>dikesnet</td>\n",
       "    </tr>\n",
       "  </tbody>\n",
       "</table>\n",
       "<p>5 rows × 53 columns</p>\n",
       "</div>"
      ],
      "text/plain": [
       "   A.0_ID flood wave shape    A.1_Bmax A.1_Brate  A.1_pfail    A.2_Bmax  \\\n",
       "0                    113.0  245.389093        10   0.551521  155.740733   \n",
       "1                     64.0  286.591730       1.5   0.185900  164.493228   \n",
       "2                      1.0  340.626373        10   0.913145  204.119082   \n",
       "3                     27.0  184.236210       1.0   0.090132  273.135991   \n",
       "4                    130.0   72.576689        10   0.302170  292.225061   \n",
       "\n",
       "  A.2_Brate  A.2_pfail    A.3_Bmax A.3_Brate  A.3_pfail  ...  \\\n",
       "0       1.5   0.377944  276.429924       1.5   0.143022  ...   \n",
       "1        10   0.833925  296.658337       1.0   0.458840  ...   \n",
       "2        10   0.994911  115.315255        10   0.588699  ...   \n",
       "3       1.0   0.297745  142.490633       1.0   0.328798  ...   \n",
       "4       1.5   0.773962   46.438151        10   0.275168  ...   \n",
       "\n",
       "   A.4_DikeIncrease 0 A.4_DikeIncrease 1  A.4_DikeIncrease 2  \\\n",
       "0                 4.0                2.0                 3.0   \n",
       "1                 4.0                2.0                 3.0   \n",
       "2                 4.0                2.0                 3.0   \n",
       "3                 4.0                2.0                 3.0   \n",
       "4                 4.0                2.0                 3.0   \n",
       "\n",
       "   A.5_DikeIncrease 0 A.5_DikeIncrease 1  A.5_DikeIncrease 2 EWS_DaysToThreat  \\\n",
       "0                 4.0                3.0                 9.0              3.0   \n",
       "1                 4.0                3.0                 9.0              3.0   \n",
       "2                 4.0                3.0                 9.0              3.0   \n",
       "3                 4.0                3.0                 9.0              3.0   \n",
       "4                 4.0                3.0                 9.0              3.0   \n",
       "\n",
       "  scenario policy     model  \n",
       "0        5      0  dikesnet  \n",
       "1        6      0  dikesnet  \n",
       "2        7      0  dikesnet  \n",
       "3        8      0  dikesnet  \n",
       "4        9      0  dikesnet  \n",
       "\n",
       "[5 rows x 53 columns]"
      ]
     },
     "execution_count": 13,
     "metadata": {},
     "output_type": "execute_result"
    }
   ],
   "source": [
    "experiments.head()"
   ]
  },
  {
   "cell_type": "code",
   "execution_count": 14,
   "id": "65e83ac4-032f-4a93-b9d7-fcf0e91b804d",
   "metadata": {},
   "outputs": [],
   "source": [
    "experiments_of_interest = experiments.loc[y]\n",
    "outcomes_df = pd.DataFrame({k:v[y] for k,v in outcomes.items()})\n",
    "\n",
    "#normalize outcomes on unit interval to ensure equal weighting of outcomes\n",
    "x = outcomes_df.values \n",
    "min_max_scaler = preprocessing.MinMaxScaler()\n",
    "x_scaled = min_max_scaler.fit_transform(x)\n",
    "normalized_outcomes = pd.DataFrame(x_scaled, columns=outcomes_df.columns)"
   ]
  },
  {
   "cell_type": "code",
   "execution_count": 15,
   "id": "ede023c8-4373-4595-833d-559b38e60551",
   "metadata": {},
   "outputs": [],
   "source": [
    "n_scen = experiments.loc[y].shape[0]\n",
    "indices = range(n_scen)\n",
    "set_size = 5\n",
    "\n",
    "n_scen\n",
    "combinations = itertools.combinations(indices, set_size)\n",
    "combinations = list(combinations)"
   ]
  },
  {
   "cell_type": "code",
   "execution_count": 16,
   "id": "9447a716-bb75-4830-9bd7-abd1444a55ba",
   "metadata": {},
   "outputs": [
    {
     "name": "stdout",
     "output_type": "stream",
     "text": [
      "324632\n"
     ]
    }
   ],
   "source": [
    "#combinations\n",
    "print(len(combinations))"
   ]
  },
  {
   "cell_type": "code",
   "execution_count": 17,
   "id": "47718137-77ac-42d6-b9a6-e8b90853c1af",
   "metadata": {},
   "outputs": [],
   "source": [
    "sampled_combinations = random.sample(combinations, 100)"
   ]
  },
  {
   "cell_type": "code",
   "execution_count": 18,
   "id": "610304cc-1287-428e-be10-1a12f611dac9",
   "metadata": {},
   "outputs": [],
   "source": [
    "distances = squareform(pdist(normalized_outcomes.values))\n",
    "\n",
    "cores = os.cpu_count()\n",
    "partial_function = functools.partial(find_maxdiverse_scenarios, distances)\n",
    "\n",
    "\n",
    "#Difference ProcessPool en ThreadPool \n",
    "# https://superfastpython.com/threadpoolexecutor-vs-processpoolexecutor/#Comparison_of_ThreadPoolExecutor_vs_ProcessPoolExecutor\n",
    "#with ProcessPoolExecutor(max_workers=cores) as executor:\n",
    "with ThreadPoolExecutor(max_workers=cores) as executor:\n",
    "    worker_data = np.array_split(combinations, cores)\n",
    "    results = [e for e in executor.map(partial_function, worker_data)]\n",
    "    results = list(itertools.chain.from_iterable(results))"
   ]
  },
  {
   "cell_type": "code",
   "execution_count": 19,
   "id": "e5fd9fa1-dc8e-4680-b134-4094c57712ff",
   "metadata": {},
   "outputs": [
    {
     "data": {
      "text/plain": [
       "([1.840231314035805], array([ 2,  3,  7, 25, 32]))"
      ]
     },
     "execution_count": 19,
     "metadata": {},
     "output_type": "execute_result"
    }
   ],
   "source": [
    "results.sort(key=lambda entry:entry[0], reverse=True)\n",
    "most_diverse = results[0]\n",
    "most_diverse"
   ]
  },
  {
   "cell_type": "code",
   "execution_count": null,
   "id": "29b63371-ee21-416e-98bb-41289465231e",
   "metadata": {},
   "outputs": [],
   "source": []
  },
  {
   "cell_type": "code",
   "execution_count": 20,
   "id": "a2d91ea3-2e7c-412c-8740-20178309429e",
   "metadata": {},
   "outputs": [],
   "source": [
    "selected = experiments.loc[most_diverse[1], ['A.0_ID flood wave shape', 'A.1_Bmax', 'A.1_Brate', 'A.1_pfail',\n",
    "       'A.2_Bmax', 'A.2_Brate', 'A.2_pfail', 'A.3_Bmax', 'A.3_Brate',\n",
    "       'A.3_pfail', 'A.4_Bmax', 'A.4_Brate', 'A.4_pfail', 'A.5_Bmax',\n",
    "       'A.5_Brate', 'A.5_pfail', 'discount rate 0', 'discount rate 1',\n",
    "       'discount rate 2', '0_RfR 0', '0_RfR 1', '0_RfR 2', '1_RfR 0',\n",
    "       '1_RfR 1', '1_RfR 2', '2_RfR 0', '2_RfR 1', '2_RfR 2', '3_RfR 0',\n",
    "       '3_RfR 1', '3_RfR 2', '4_RfR 0', '4_RfR 1', '4_RfR 2',\n",
    "       'A.1_DikeIncrease 0', 'A.1_DikeIncrease 1', 'A.1_DikeIncrease 2',\n",
    "       'A.2_DikeIncrease 0', 'A.2_DikeIncrease 1', 'A.2_DikeIncrease 2',\n",
    "       'A.3_DikeIncrease 0', 'A.3_DikeIncrease 1', 'A.3_DikeIncrease 2',\n",
    "       'A.4_DikeIncrease 0', 'A.4_DikeIncrease 1', 'A.4_DikeIncrease 2',\n",
    "       'A.5_DikeIncrease 0', 'A.5_DikeIncrease 1', 'A.5_DikeIncrease 2',\n",
    "       'EWS_DaysToThreat', 'scenario', 'policy', 'model']]\n",
    "scenarios = [Scenario(f\"{index}\", **row) for index, row in selected.iterrows()]"
   ]
  },
  {
   "cell_type": "code",
   "execution_count": 21,
   "id": "7e96f40e-0725-4170-aee8-28bca0af1d7c",
   "metadata": {},
   "outputs": [
    {
     "data": {
      "text/plain": [
       "[Scenario({'A.0_ID flood wave shape': 1.0, 'A.1_Bmax': 340.62637262693175, 'A.1_Brate': 10, 'A.1_pfail': 0.913145496620031, 'A.2_Bmax': 204.11908227240033, 'A.2_Brate': 10, 'A.2_pfail': 0.9949108542863907, 'A.3_Bmax': 115.315254772352, 'A.3_Brate': 10, 'A.3_pfail': 0.5886986842715578, 'A.4_Bmax': 99.43796664804417, 'A.4_Brate': 1.5, 'A.4_pfail': 0.13262790446644135, 'A.5_Bmax': 81.12625575700396, 'A.5_Brate': 1.5, 'A.5_pfail': 0.08075859704079529, 'discount rate 0': 1.5, 'discount rate 1': 4.5, 'discount rate 2': 3.5, '0_RfR 0': 1.0, '0_RfR 1': 0.0, '0_RfR 2': 0.0, '1_RfR 0': 0.0, '1_RfR 1': 1.0, '1_RfR 2': 1.0, '2_RfR 0': 0.0, '2_RfR 1': 0.0, '2_RfR 2': 0.0, '3_RfR 0': 1.0, '3_RfR 1': 1.0, '3_RfR 2': 1.0, '4_RfR 0': 0.0, '4_RfR 1': 0.0, '4_RfR 2': 0.0, 'A.1_DikeIncrease 0': 9.0, 'A.1_DikeIncrease 1': 8.0, 'A.1_DikeIncrease 2': 1.0, 'A.2_DikeIncrease 0': 0.0, 'A.2_DikeIncrease 1': 9.0, 'A.2_DikeIncrease 2': 1.0, 'A.3_DikeIncrease 0': 8.0, 'A.3_DikeIncrease 1': 10.0, 'A.3_DikeIncrease 2': 5.0, 'A.4_DikeIncrease 0': 4.0, 'A.4_DikeIncrease 1': 2.0, 'A.4_DikeIncrease 2': 3.0, 'A.5_DikeIncrease 0': 4.0, 'A.5_DikeIncrease 1': 3.0, 'A.5_DikeIncrease 2': 9.0, 'EWS_DaysToThreat': 3.0, 'scenario': 7, 'policy': 0, 'model': 'dikesnet'}),\n",
       " Scenario({'A.0_ID flood wave shape': 27.0, 'A.1_Bmax': 184.23621044982974, 'A.1_Brate': 1.0, 'A.1_pfail': 0.09013183743910387, 'A.2_Bmax': 273.1359908260606, 'A.2_Brate': 1.0, 'A.2_pfail': 0.2977445032392588, 'A.3_Bmax': 142.49063324782878, 'A.3_Brate': 1.0, 'A.3_pfail': 0.3287978551568727, 'A.4_Bmax': 340.8988545414272, 'A.4_Brate': 1.0, 'A.4_pfail': 0.3803822460038812, 'A.5_Bmax': 222.99654758195084, 'A.5_Brate': 10, 'A.5_pfail': 0.9463432210867778, 'discount rate 0': 2.5, 'discount rate 1': 3.5, 'discount rate 2': 2.5, '0_RfR 0': 1.0, '0_RfR 1': 0.0, '0_RfR 2': 0.0, '1_RfR 0': 0.0, '1_RfR 1': 1.0, '1_RfR 2': 1.0, '2_RfR 0': 0.0, '2_RfR 1': 0.0, '2_RfR 2': 0.0, '3_RfR 0': 1.0, '3_RfR 1': 1.0, '3_RfR 2': 1.0, '4_RfR 0': 0.0, '4_RfR 1': 0.0, '4_RfR 2': 0.0, 'A.1_DikeIncrease 0': 9.0, 'A.1_DikeIncrease 1': 8.0, 'A.1_DikeIncrease 2': 1.0, 'A.2_DikeIncrease 0': 0.0, 'A.2_DikeIncrease 1': 9.0, 'A.2_DikeIncrease 2': 1.0, 'A.3_DikeIncrease 0': 8.0, 'A.3_DikeIncrease 1': 10.0, 'A.3_DikeIncrease 2': 5.0, 'A.4_DikeIncrease 0': 4.0, 'A.4_DikeIncrease 1': 2.0, 'A.4_DikeIncrease 2': 3.0, 'A.5_DikeIncrease 0': 4.0, 'A.5_DikeIncrease 1': 3.0, 'A.5_DikeIncrease 2': 9.0, 'EWS_DaysToThreat': 3.0, 'scenario': 8, 'policy': 0, 'model': 'dikesnet'}),\n",
       " Scenario({'A.0_ID flood wave shape': 91.0, 'A.1_Bmax': 147.746208109061, 'A.1_Brate': 1.0, 'A.1_pfail': 0.7148068013542521, 'A.2_Bmax': 110.3629592453448, 'A.2_Brate': 1.0, 'A.2_pfail': 0.49374742742808975, 'A.3_Bmax': 86.97379681997735, 'A.3_Brate': 1.5, 'A.3_pfail': 0.8146920524667496, 'A.4_Bmax': 242.21070643657228, 'A.4_Brate': 10, 'A.4_pfail': 0.6481613090397284, 'A.5_Bmax': 118.03652408334062, 'A.5_Brate': 1.5, 'A.5_pfail': 0.18081375627369325, 'discount rate 0': 4.5, 'discount rate 1': 1.5, 'discount rate 2': 1.5, '0_RfR 0': 1.0, '0_RfR 1': 0.0, '0_RfR 2': 0.0, '1_RfR 0': 0.0, '1_RfR 1': 1.0, '1_RfR 2': 1.0, '2_RfR 0': 0.0, '2_RfR 1': 0.0, '2_RfR 2': 0.0, '3_RfR 0': 1.0, '3_RfR 1': 1.0, '3_RfR 2': 1.0, '4_RfR 0': 0.0, '4_RfR 1': 0.0, '4_RfR 2': 0.0, 'A.1_DikeIncrease 0': 9.0, 'A.1_DikeIncrease 1': 8.0, 'A.1_DikeIncrease 2': 1.0, 'A.2_DikeIncrease 0': 0.0, 'A.2_DikeIncrease 1': 9.0, 'A.2_DikeIncrease 2': 1.0, 'A.3_DikeIncrease 0': 8.0, 'A.3_DikeIncrease 1': 10.0, 'A.3_DikeIncrease 2': 5.0, 'A.4_DikeIncrease 0': 4.0, 'A.4_DikeIncrease 1': 2.0, 'A.4_DikeIncrease 2': 3.0, 'A.5_DikeIncrease 0': 4.0, 'A.5_DikeIncrease 1': 3.0, 'A.5_DikeIncrease 2': 9.0, 'EWS_DaysToThreat': 3.0, 'scenario': 12, 'policy': 0, 'model': 'dikesnet'}),\n",
       " Scenario({'A.0_ID flood wave shape': 19.0, 'A.1_Bmax': 48.8374778306778, 'A.1_Brate': 1.5, 'A.1_pfail': 0.4459303503029166, 'A.2_Bmax': 38.88379310814003, 'A.2_Brate': 1.0, 'A.2_pfail': 0.07102574772927327, 'A.3_Bmax': 323.7395926620237, 'A.3_Brate': 1.0, 'A.3_pfail': 0.7012279804294839, 'A.4_Bmax': 216.703158359572, 'A.4_Brate': 1.0, 'A.4_pfail': 3.498509134161054e-05, 'A.5_Bmax': 332.903032981284, 'A.5_Brate': 10, 'A.5_pfail': 0.35321495810942277, 'discount rate 0': 1.5, 'discount rate 1': 1.5, 'discount rate 2': 4.5, '0_RfR 0': 1.0, '0_RfR 1': 1.0, '0_RfR 2': 0.0, '1_RfR 0': 0.0, '1_RfR 1': 1.0, '1_RfR 2': 1.0, '2_RfR 0': 0.0, '2_RfR 1': 1.0, '2_RfR 2': 1.0, '3_RfR 0': 1.0, '3_RfR 1': 1.0, '3_RfR 2': 0.0, '4_RfR 0': 1.0, '4_RfR 1': 1.0, '4_RfR 2': 0.0, 'A.1_DikeIncrease 0': 2.0, 'A.1_DikeIncrease 1': 6.0, 'A.1_DikeIncrease 2': 10.0, 'A.2_DikeIncrease 0': 4.0, 'A.2_DikeIncrease 1': 3.0, 'A.2_DikeIncrease 2': 10.0, 'A.3_DikeIncrease 0': 4.0, 'A.3_DikeIncrease 1': 2.0, 'A.3_DikeIncrease 2': 9.0, 'A.4_DikeIncrease 0': 8.0, 'A.4_DikeIncrease 1': 7.0, 'A.4_DikeIncrease 2': 4.0, 'A.5_DikeIncrease 0': 6.0, 'A.5_DikeIncrease 1': 5.0, 'A.5_DikeIncrease 2': 5.0, 'EWS_DaysToThreat': 2.0, 'scenario': 10, 'policy': 2, 'model': 'dikesnet'}),\n",
       " Scenario({'A.0_ID flood wave shape': 1.0, 'A.1_Bmax': 340.62637262693175, 'A.1_Brate': 10, 'A.1_pfail': 0.913145496620031, 'A.2_Bmax': 204.11908227240033, 'A.2_Brate': 10, 'A.2_pfail': 0.9949108542863907, 'A.3_Bmax': 115.315254772352, 'A.3_Brate': 10, 'A.3_pfail': 0.5886986842715578, 'A.4_Bmax': 99.43796664804417, 'A.4_Brate': 1.5, 'A.4_pfail': 0.13262790446644135, 'A.5_Bmax': 81.12625575700396, 'A.5_Brate': 1.5, 'A.5_pfail': 0.08075859704079529, 'discount rate 0': 1.5, 'discount rate 1': 4.5, 'discount rate 2': 3.5, '0_RfR 0': 0.0, '0_RfR 1': 1.0, '0_RfR 2': 0.0, '1_RfR 0': 1.0, '1_RfR 1': 0.0, '1_RfR 2': 1.0, '2_RfR 0': 1.0, '2_RfR 1': 1.0, '2_RfR 2': 1.0, '3_RfR 0': 1.0, '3_RfR 1': 0.0, '3_RfR 2': 1.0, '4_RfR 0': 1.0, '4_RfR 1': 0.0, '4_RfR 2': 1.0, 'A.1_DikeIncrease 0': 6.0, 'A.1_DikeIncrease 1': 0.0, 'A.1_DikeIncrease 2': 4.0, 'A.2_DikeIncrease 0': 6.0, 'A.2_DikeIncrease 1': 5.0, 'A.2_DikeIncrease 2': 3.0, 'A.3_DikeIncrease 0': 9.0, 'A.3_DikeIncrease 1': 8.0, 'A.3_DikeIncrease 2': 2.0, 'A.4_DikeIncrease 0': 10.0, 'A.4_DikeIncrease 1': 10.0, 'A.4_DikeIncrease 2': 8.0, 'A.5_DikeIncrease 0': 2.0, 'A.5_DikeIncrease 1': 0.0, 'A.5_DikeIncrease 2': 7.0, 'EWS_DaysToThreat': 0.0, 'scenario': 7, 'policy': 3, 'model': 'dikesnet'})]"
      ]
     },
     "execution_count": 21,
     "metadata": {},
     "output_type": "execute_result"
    }
   ],
   "source": [
    "scenarios"
   ]
  },
  {
   "cell_type": "code",
   "execution_count": null,
   "id": "52560ec7-51f8-4809-94a5-3cd4299611e7",
   "metadata": {},
   "outputs": [],
   "source": []
  },
  {
   "cell_type": "code",
   "execution_count": null,
   "id": "051669c2-616f-4575-addc-a157768b1934",
   "metadata": {},
   "outputs": [],
   "source": []
  },
  {
   "cell_type": "code",
   "execution_count": null,
   "id": "92da0452-e1a2-47c3-b0c0-147ecbdbf098",
   "metadata": {},
   "outputs": [],
   "source": []
  },
  {
   "cell_type": "markdown",
   "id": "ce63545b-5636-45b7-b771-7366dc3432a0",
   "metadata": {},
   "source": [
    "# Mordm Run "
   ]
  },
  {
   "cell_type": "code",
   "execution_count": 22,
   "id": "11d538f1-b737-4786-93b3-e7761400852d",
   "metadata": {},
   "outputs": [],
   "source": [
    "dike_model.outcomes = [ScalarOutcome('A.4_Expected Annual Damage', kind=ScalarOutcome.MINIMIZE),\n",
    "                       ScalarOutcome('A.4_Dike Investment Costs', kind=ScalarOutcome.MINIMIZE),\n",
    "                       ScalarOutcome('A.4_Expected Number of Deaths', kind=ScalarOutcome.MINIMIZE),\n",
    "                       ScalarOutcome('RfR Total Costs', kind=ScalarOutcome.MINIMIZE),\n",
    "                       ScalarOutcome('Expected Evacuation Costs', kind=ScalarOutcome.MINIMIZE)] "
   ]
  },
  {
   "cell_type": "code",
   "execution_count": 28,
   "id": "2f6ec61e-f41e-423e-a07c-6bf73ebc0a26",
   "metadata": {
    "tags": []
   },
   "outputs": [],
   "source": [
    "#outcomes[['A.4_Expected Annual Damage','A.4_Dike Investment Costs', 'A.4_Expected Number of Deaths',\n",
    " #         'RfR Total Costs','Expected Evacuation Costs']]"
   ]
  },
  {
   "cell_type": "code",
   "execution_count": 24,
   "id": "89301dd0-c798-4180-b151-09c981b0fb92",
   "metadata": {
    "tags": []
   },
   "outputs": [],
   "source": [
    "levers = ['A.0_ID flood wave shape', \n",
    "        'A.1_Bmax', 'A.1_Brate', 'A.1_pfail',\n",
    "        'A.2_Bmax', 'A.2_Brate', 'A.2_pfail', \n",
    "        'A.3_Bmax', 'A.3_Brate', 'A.3_pfail', \n",
    "        'A.4_Bmax', 'A.4_Brate', 'A.4_pfail', \n",
    "        'A.5_Bmax', 'A.5_Brate', 'A.5_pfail', \n",
    "          'discount rate 0', 'discount rate 1','discount rate 2', \n",
    "          '0_RfR 0', '0_RfR 1', '0_RfR 2', \n",
    "          '1_RfR 0','1_RfR 1', '1_RfR 2', \n",
    "          '2_RfR 0', '2_RfR 1', '2_RfR 2', \n",
    "          '3_RfR 0','3_RfR 1', '3_RfR 2', \n",
    "          '4_RfR 0', '4_RfR 1', '4_RfR 2',\n",
    "       'A.1_DikeIncrease 0', 'A.1_DikeIncrease 1', 'A.1_DikeIncrease 2',\n",
    "       'A.2_DikeIncrease 0', 'A.2_DikeIncrease 1', 'A.2_DikeIncrease 2',\n",
    "       'A.3_DikeIncrease 0', 'A.3_DikeIncrease 1', 'A.3_DikeIncrease 2',\n",
    "       'A.4_DikeIncrease 0', 'A.4_DikeIncrease 1', 'A.4_DikeIncrease 2',\n",
    "       'A.5_DikeIncrease 0', 'A.5_DikeIncrease 1', 'A.5_DikeIncrease 2',\n",
    "       'EWS_DaysToThreat', 'scenario', 'policy', 'model']\n",
    "\n",
    "\n",
    "\n",
    "levers_of_interest = ['A.4_Bmax', 'A.4_Brate', 'A.4_pfail',\n",
    "        '0_RfR 0', '0_RfR 1', '0_RfR 2', \n",
    "        '1_RfR 0','1_RfR 1', '1_RfR 2', \n",
    "        '2_RfR 0','2_RfR 1', '2_RfR 2', \n",
    "        '3_RfR 0','3_RfR 1', '3_RfR 2', \n",
    "        '4_RfR 0','4_RfR 1', '4_RfR 2',\n",
    "       'A.1_DikeIncrease 0', 'A.1_DikeIncrease 1', 'A.1_DikeIncrease 2',\n",
    "       'A.2_DikeIncrease 0', 'A.2_DikeIncrease 1', 'A.2_DikeIncrease 2',\n",
    "       'A.3_DikeIncrease 0', 'A.3_DikeIncrease 1', 'A.3_DikeIncrease 2',\n",
    "       'A.4_DikeIncrease 0', 'A.4_DikeIncrease 1', 'A.4_DikeIncrease 2',\n",
    "       'A.5_DikeIncrease 0', 'A.5_DikeIncrease 1', 'A.5_DikeIncrease 2']\n",
    "\n",
    "names_outcomes = ['A.1_Expected Annual Damage', 'A.1_Dike Investment Costs',\n",
    "       'A.1_Expected Number of Deaths', 'A.2_Expected Annual Damage',\n",
    "       'A.2_Dike Investment Costs', 'A.2_Expected Number of Deaths',\n",
    "       'A.3_Expected Annual Damage', 'A.3_Dike Investment Costs',\n",
    "       'A.3_Expected Number of Deaths', 'A.4_Expected Annual Damage',\n",
    "       'A.4_Dike Investment Costs', 'A.4_Expected Number of Deaths',\n",
    "       'A.5_Expected Annual Damage', 'A.5_Dike Investment Costs',\n",
    "       'A.5_Expected Number of Deaths', 'RfR Total Costs',\n",
    "       'Expected Evacuation Costs']"
   ]
  },
  {
   "cell_type": "code",
   "execution_count": 25,
   "id": "32a6c493-651d-4f43-b2cd-cb7975418b03",
   "metadata": {
    "tags": []
   },
   "outputs": [],
   "source": [
    "#Identify policies based on open exploration \n",
    "\n",
    "# policies = [Policy('policy 1', **{'A.0_ID flood wave shape':, 'A.1_Bmax', 'A.1_Brate', 'A.1_pfail',\n",
    "#        'A.2_Bmax', 'A.2_Brate', 'A.2_pfail', 'A.3_Bmax', 'A.3_Brate',\n",
    "#        'A.3_pfail', 'A.4_Bmax', 'A.4_Brate', 'A.4_pfail', 'A.5_Bmax',\n",
    "#        'A.5_Brate', 'A.5_pfail', 'discount rate 0', 'discount rate 1',\n",
    "#        'discount rate 2', '0_RfR 0', '0_RfR 1', '0_RfR 2', '1_RfR 0',\n",
    "#        '1_RfR 1', '1_RfR 2', '2_RfR 0', '2_RfR 1', '2_RfR 2', '3_RfR 0',\n",
    "#        '3_RfR 1', '3_RfR 2', '4_RfR 0', '4_RfR 1', '4_RfR 2',\n",
    "#        'A.1_DikeIncrease 0', 'A.1_DikeIncrease 1', 'A.1_DikeIncrease 2',\n",
    "#        'A.2_DikeIncrease 0', 'A.2_DikeIncrease 1', 'A.2_DikeIncrease 2',\n",
    "#        'A.3_DikeIncrease 0', 'A.3_DikeIncrease 1', 'A.3_DikeIncrease 2',\n",
    "#        'A.4_DikeIncrease 0', 'A.4_DikeIncrease 1', 'A.4_DikeIncrease 2',\n",
    "#        'A.5_DikeIncrease 0', 'A.5_DikeIncrease 1', 'A.5_DikeIncrease 2',\n",
    "#        'EWS_DaysToThreat', 'scenario', 'policy', 'model'})]\n",
    "\n",
    "\n",
    "#            Policy('policy 2', **{'4_RfR 0':1,\n",
    "#                                   '4_RfR 1':1,\n",
    "#                                   '4_RfR 2':1,\n",
    "#                                   'A.5_DikeIncrease 0':5}),\n",
    "#            Policy('policy 3', **{'1_RfR 0':1,\n",
    "#                                   '2_RfR 1':1,\n",
    "#                                   '3_RfR 2':1,\n",
    "#                                   'A.3_DikeIncrease 0':5})]\n",
    "\n"
   ]
  },
  {
   "cell_type": "code",
   "execution_count": 26,
   "id": "5926325d-6746-4e00-8aa1-3f2665f66165",
   "metadata": {},
   "outputs": [
    {
     "data": {
      "text/plain": [
       "<Logger EMA (DEBUG)>"
      ]
     },
     "execution_count": 26,
     "metadata": {},
     "output_type": "execute_result"
    }
   ],
   "source": [
    "ema_logging.log_to_stderr(ema_logging.INFO)"
   ]
  },
  {
   "cell_type": "code",
   "execution_count": 27,
   "id": "f1b489b7-0830-4156-b3f6-766a251305e8",
   "metadata": {
    "tags": []
   },
   "outputs": [
    {
     "name": "stderr",
     "output_type": "stream",
     "text": [
      "  0%|                                                | 0/10000 [00:00<?, ?it/s][MainProcess/ERROR] 'A.4_Expected Annual Damage'\n",
      "Traceback (most recent call last):\n",
      "  File \"C:\\Users\\SIDTUDelft\\miniconda3\\lib\\site-packages\\ema_workbench\\em_framework\\experiment_runner.py\", line 92, in run_experiment\n",
      "    model.run_model(scenario, policy)\n",
      "  File \"C:\\Users\\SIDTUDelft\\miniconda3\\lib\\site-packages\\ema_workbench\\util\\ema_logging.py\", line 152, in wrapper\n",
      "    res = func(*args, **kwargs)\n",
      "  File \"C:\\Users\\SIDTUDelft\\miniconda3\\lib\\site-packages\\ema_workbench\\em_framework\\model.py\", line 352, in run_model\n",
      "    self.outcomes_output = outputs\n",
      "  File \"C:\\Users\\SIDTUDelft\\miniconda3\\lib\\site-packages\\ema_workbench\\em_framework\\model.py\", line 67, in outcomes_output\n",
      "    data = [outputs[var] for var in outcome.variable_name]\n",
      "  File \"C:\\Users\\SIDTUDelft\\miniconda3\\lib\\site-packages\\ema_workbench\\em_framework\\model.py\", line 67, in <listcomp>\n",
      "    data = [outputs[var] for var in outcome.variable_name]\n",
      "KeyError: 'A.4_Expected Annual Damage'\n",
      "C:\\Users\\SIDTUDelft\\miniconda3\\lib\\site-packages\\platypus\\algorithms.py:1065: SyntaxWarning: \"is\" with a literal. Did you mean \"==\"?\n",
      "  if indicator is \"hypervolume\":\n",
      "C:\\Users\\SIDTUDelft\\miniconda3\\lib\\site-packages\\platypus\\algorithms.py:1065: SyntaxWarning: \"is\" with a literal. Did you mean \"==\"?\n",
      "  if indicator is \"hypervolume\":\n",
      "C:\\Users\\SIDTUDelft\\miniconda3\\lib\\site-packages\\platypus\\algorithms.py:1065: SyntaxWarning: \"is\" with a literal. Did you mean \"==\"?\n",
      "  if indicator is \"hypervolume\":\n",
      "C:\\Users\\SIDTUDelft\\miniconda3\\lib\\site-packages\\platypus\\algorithms.py:1065: SyntaxWarning: \"is\" with a literal. Did you mean \"==\"?\n",
      "  if indicator is \"hypervolume\":\n",
      "C:\\Users\\SIDTUDelft\\miniconda3\\lib\\site-packages\\platypus\\algorithms.py:1065: SyntaxWarning: \"is\" with a literal. Did you mean \"==\"?\n",
      "  if indicator is \"hypervolume\":\n",
      "C:\\Users\\SIDTUDelft\\miniconda3\\lib\\site-packages\\platypus\\algorithms.py:1065: SyntaxWarning: \"is\" with a literal. Did you mean \"==\"?\n",
      "  if indicator is \"hypervolume\":\n",
      "C:\\Users\\SIDTUDelft\\miniconda3\\lib\\site-packages\\platypus\\algorithms.py:1065: SyntaxWarning: \"is\" with a literal. Did you mean \"==\"?\n",
      "  if indicator is \"hypervolume\":\n",
      "C:\\Users\\SIDTUDelft\\miniconda3\\lib\\site-packages\\platypus\\algorithms.py:1065: SyntaxWarning: \"is\" with a literal. Did you mean \"==\"?\n",
      "  if indicator is \"hypervolume\":\n",
      "C:\\Users\\SIDTUDelft\\miniconda3\\lib\\site-packages\\platypus\\algorithms.py:1065: SyntaxWarning: \"is\" with a literal. Did you mean \"==\"?\n",
      "  if indicator is \"hypervolume\":\n"
     ]
    },
    {
     "ename": "EMAError",
     "evalue": "exception in run_model\nCaused by: KeyError: 'A.4_Expected Annual Damage'",
     "output_type": "error",
     "traceback": [
      "\u001b[1;31m---------------------------------------------------------------------------\u001b[0m",
      "\u001b[1;31mKeyError\u001b[0m                                  Traceback (most recent call last)",
      "File \u001b[1;32m~\\miniconda3\\lib\\site-packages\\ema_workbench\\em_framework\\experiment_runner.py:92\u001b[0m, in \u001b[0;36mExperimentRunner.run_experiment\u001b[1;34m(self, experiment)\u001b[0m\n\u001b[0;32m     91\u001b[0m \u001b[38;5;28;01mtry\u001b[39;00m:\n\u001b[1;32m---> 92\u001b[0m     \u001b[43mmodel\u001b[49m\u001b[38;5;241;43m.\u001b[39;49m\u001b[43mrun_model\u001b[49m\u001b[43m(\u001b[49m\u001b[43mscenario\u001b[49m\u001b[43m,\u001b[49m\u001b[43m \u001b[49m\u001b[43mpolicy\u001b[49m\u001b[43m)\u001b[49m\n\u001b[0;32m     93\u001b[0m \u001b[38;5;28;01mexcept\u001b[39;00m CaseError \u001b[38;5;28;01mas\u001b[39;00m e:\n",
      "File \u001b[1;32m~\\miniconda3\\lib\\site-packages\\ema_workbench\\util\\ema_logging.py:152\u001b[0m, in \u001b[0;36mmethod_logger.<locals>.real_decorator.<locals>.wrapper\u001b[1;34m(*args, **kwargs)\u001b[0m\n\u001b[0;32m    151\u001b[0m logger\u001b[38;5;241m.\u001b[39mdebug(\u001b[38;5;124m\"\u001b[39m\u001b[38;5;124mcalling \u001b[39m\u001b[38;5;132;01m{}\u001b[39;00m\u001b[38;5;124m on \u001b[39m\u001b[38;5;132;01m{}\u001b[39;00m\u001b[38;5;124m\"\u001b[39m\u001b[38;5;241m.\u001b[39mformat(func\u001b[38;5;241m.\u001b[39m\u001b[38;5;18m__name__\u001b[39m, classname))\n\u001b[1;32m--> 152\u001b[0m res \u001b[38;5;241m=\u001b[39m func(\u001b[38;5;241m*\u001b[39margs, \u001b[38;5;241m*\u001b[39m\u001b[38;5;241m*\u001b[39mkwargs)\n\u001b[0;32m    153\u001b[0m logger\u001b[38;5;241m.\u001b[39mdebug(\u001b[38;5;124m\"\u001b[39m\u001b[38;5;124mcompleted calling \u001b[39m\u001b[38;5;132;01m{}\u001b[39;00m\u001b[38;5;124m on \u001b[39m\u001b[38;5;132;01m{}\u001b[39;00m\u001b[38;5;124m\"\u001b[39m\u001b[38;5;241m.\u001b[39mformat(func\u001b[38;5;241m.\u001b[39m\u001b[38;5;18m__name__\u001b[39m, classname))\n",
      "File \u001b[1;32m~\\miniconda3\\lib\\site-packages\\ema_workbench\\em_framework\\model.py:352\u001b[0m, in \u001b[0;36mSingleReplication.run_model\u001b[1;34m(self, scenario, policy)\u001b[0m\n\u001b[0;32m    350\u001b[0m outputs \u001b[38;5;241m=\u001b[39m \u001b[38;5;28mself\u001b[39m\u001b[38;5;241m.\u001b[39mrun_experiment(experiment)\n\u001b[1;32m--> 352\u001b[0m \u001b[38;5;28mself\u001b[39m\u001b[38;5;241m.\u001b[39moutcomes_output \u001b[38;5;241m=\u001b[39m outputs\n\u001b[0;32m    353\u001b[0m \u001b[38;5;28mself\u001b[39m\u001b[38;5;241m.\u001b[39mconstraints_output \u001b[38;5;241m=\u001b[39m (experiment, \u001b[38;5;28mself\u001b[39m\u001b[38;5;241m.\u001b[39moutcomes_output)\n",
      "File \u001b[1;32m~\\miniconda3\\lib\\site-packages\\ema_workbench\\em_framework\\model.py:67\u001b[0m, in \u001b[0;36mAbstractModel.outcomes_output\u001b[1;34m(self, outputs)\u001b[0m\n\u001b[0;32m     66\u001b[0m \u001b[38;5;28;01mfor\u001b[39;00m outcome \u001b[38;5;129;01min\u001b[39;00m \u001b[38;5;28mself\u001b[39m\u001b[38;5;241m.\u001b[39moutcomes:\n\u001b[1;32m---> 67\u001b[0m     data \u001b[38;5;241m=\u001b[39m [outputs[var] \u001b[38;5;28;01mfor\u001b[39;00m var \u001b[38;5;129;01min\u001b[39;00m outcome\u001b[38;5;241m.\u001b[39mvariable_name]\n\u001b[0;32m     68\u001b[0m     \u001b[38;5;28mself\u001b[39m\u001b[38;5;241m.\u001b[39m_outcomes_output[outcome\u001b[38;5;241m.\u001b[39mname] \u001b[38;5;241m=\u001b[39m outcome\u001b[38;5;241m.\u001b[39mprocess(data)\n",
      "File \u001b[1;32m~\\miniconda3\\lib\\site-packages\\ema_workbench\\em_framework\\model.py:67\u001b[0m, in \u001b[0;36m<listcomp>\u001b[1;34m(.0)\u001b[0m\n\u001b[0;32m     66\u001b[0m \u001b[38;5;28;01mfor\u001b[39;00m outcome \u001b[38;5;129;01min\u001b[39;00m \u001b[38;5;28mself\u001b[39m\u001b[38;5;241m.\u001b[39moutcomes:\n\u001b[1;32m---> 67\u001b[0m     data \u001b[38;5;241m=\u001b[39m [\u001b[43moutputs\u001b[49m\u001b[43m[\u001b[49m\u001b[43mvar\u001b[49m\u001b[43m]\u001b[49m \u001b[38;5;28;01mfor\u001b[39;00m var \u001b[38;5;129;01min\u001b[39;00m outcome\u001b[38;5;241m.\u001b[39mvariable_name]\n\u001b[0;32m     68\u001b[0m     \u001b[38;5;28mself\u001b[39m\u001b[38;5;241m.\u001b[39m_outcomes_output[outcome\u001b[38;5;241m.\u001b[39mname] \u001b[38;5;241m=\u001b[39m outcome\u001b[38;5;241m.\u001b[39mprocess(data)\n",
      "\u001b[1;31mKeyError\u001b[0m: 'A.4_Expected Annual Damage'",
      "\nDuring handling of the above exception, another exception occurred:\n",
      "\u001b[1;31mEMAError\u001b[0m                                  Traceback (most recent call last)",
      "Input \u001b[1;32mIn [27]\u001b[0m, in \u001b[0;36m<cell line: 2>\u001b[1;34m()\u001b[0m\n\u001b[0;32m      3\u001b[0m convergence_metrics \u001b[38;5;241m=\u001b[39m [HyperVolume(minimum\u001b[38;5;241m=\u001b[39m[\u001b[38;5;241m0\u001b[39m,\u001b[38;5;241m0\u001b[39m,\u001b[38;5;241m0\u001b[39m,\u001b[38;5;241m0\u001b[39m,\u001b[38;5;241m0\u001b[39m], maximum\u001b[38;5;241m=\u001b[39m[\u001b[38;5;241m130000000\u001b[39m,\u001b[38;5;241m570000000\u001b[39m,\u001b[38;5;241m0.03\u001b[39m,\u001b[38;5;241m1900000000\u001b[39m,\u001b[38;5;241m45000\u001b[39m]),\n\u001b[0;32m      4\u001b[0m                        EpsilonProgress()]\n\u001b[0;32m      5\u001b[0m epsilons \u001b[38;5;241m=\u001b[39m [\u001b[38;5;241m0.1\u001b[39m,]\u001b[38;5;241m*\u001b[39m\u001b[38;5;28mlen\u001b[39m(dike_model\u001b[38;5;241m.\u001b[39moutcomes)\n\u001b[1;32m----> 7\u001b[0m results\u001b[38;5;241m.\u001b[39mappend(\u001b[43moptimize\u001b[49m\u001b[43m(\u001b[49m\u001b[43mscenario\u001b[49m\u001b[43m,\u001b[49m\u001b[43m \u001b[49m\u001b[38;5;241;43m1e4\u001b[39;49m\u001b[43m,\u001b[49m\u001b[43m \u001b[49m\u001b[43mdike_model\u001b[49m\u001b[43m,\u001b[49m\u001b[43m \u001b[49m\u001b[43mconvergence_metrics\u001b[49m\u001b[43m,\u001b[49m\u001b[43m \u001b[49m\u001b[43mepsilons\u001b[49m\u001b[43m)\u001b[49m)\n",
      "Input \u001b[1;32mIn [3]\u001b[0m, in \u001b[0;36moptimize\u001b[1;34m(scenario, nfe, model, converge_metrics, epsilons)\u001b[0m\n\u001b[0;32m     28\u001b[0m \u001b[38;5;28;01mdef\u001b[39;00m \u001b[38;5;21moptimize\u001b[39m(scenario, nfe, model, converge_metrics, epsilons):\n\u001b[0;32m     31\u001b[0m     \u001b[38;5;28;01mwith\u001b[39;00m SequentialEvaluator(model) \u001b[38;5;28;01mas\u001b[39;00m evaluator:\n\u001b[1;32m---> 32\u001b[0m         results, convergence \u001b[38;5;241m=\u001b[39m \u001b[43mevaluator\u001b[49m\u001b[38;5;241;43m.\u001b[39;49m\u001b[43moptimize\u001b[49m\u001b[43m(\u001b[49m\u001b[43mnfe\u001b[49m\u001b[38;5;241;43m=\u001b[39;49m\u001b[43mnfe\u001b[49m\u001b[43m,\u001b[49m\u001b[43m \u001b[49m\u001b[43msearchover\u001b[49m\u001b[38;5;241;43m=\u001b[39;49m\u001b[38;5;124;43m'\u001b[39;49m\u001b[38;5;124;43mlevers\u001b[39;49m\u001b[38;5;124;43m'\u001b[39;49m\u001b[43m,\u001b[49m\n\u001b[0;32m     33\u001b[0m \u001b[43m                                     \u001b[49m\u001b[43mconvergence\u001b[49m\u001b[38;5;241;43m=\u001b[39;49m\u001b[43mconvergence_metrics\u001b[49m\u001b[43m,\u001b[49m\n\u001b[0;32m     34\u001b[0m \u001b[43m                                     \u001b[49m\u001b[43mepsilons\u001b[49m\u001b[38;5;241;43m=\u001b[39;49m\u001b[43mepsilons\u001b[49m\u001b[43m,\u001b[49m\n\u001b[0;32m     35\u001b[0m \u001b[43m                                     \u001b[49m\u001b[43mreference\u001b[49m\u001b[38;5;241;43m=\u001b[39;49m\u001b[43mscenario\u001b[49m\u001b[43m)\u001b[49m\n\u001b[0;32m     36\u001b[0m     \u001b[38;5;28;01mreturn\u001b[39;00m results, convergence\n",
      "File \u001b[1;32m~\\miniconda3\\lib\\site-packages\\ema_workbench\\em_framework\\evaluators.py:234\u001b[0m, in \u001b[0;36mBaseEvaluator.optimize\u001b[1;34m(self, algorithm, nfe, searchover, reference, constraints, convergence_freq, logging_freq, **kwargs)\u001b[0m\n\u001b[0;32m    217\u001b[0m \u001b[38;5;28;01mdef\u001b[39;00m \u001b[38;5;21moptimize\u001b[39m(\n\u001b[0;32m    218\u001b[0m     \u001b[38;5;28mself\u001b[39m,\n\u001b[0;32m    219\u001b[0m     algorithm\u001b[38;5;241m=\u001b[39mEpsNSGAII,\n\u001b[1;32m   (...)\u001b[0m\n\u001b[0;32m    226\u001b[0m     \u001b[38;5;241m*\u001b[39m\u001b[38;5;241m*\u001b[39mkwargs,\n\u001b[0;32m    227\u001b[0m ):\n\u001b[0;32m    228\u001b[0m     \u001b[38;5;124;03m\"\"\"convenience method for outcome optimization.\u001b[39;00m\n\u001b[0;32m    229\u001b[0m \n\u001b[0;32m    230\u001b[0m \u001b[38;5;124;03m    is forwarded to :func:optimize, with evaluator and models\u001b[39;00m\n\u001b[0;32m    231\u001b[0m \u001b[38;5;124;03m    arguments added in.\u001b[39;00m\n\u001b[0;32m    232\u001b[0m \n\u001b[0;32m    233\u001b[0m \u001b[38;5;124;03m    \"\"\"\u001b[39;00m\n\u001b[1;32m--> 234\u001b[0m     \u001b[38;5;28;01mreturn\u001b[39;00m optimize(\n\u001b[0;32m    235\u001b[0m         \u001b[38;5;28mself\u001b[39m\u001b[38;5;241m.\u001b[39m_msis,\n\u001b[0;32m    236\u001b[0m         algorithm\u001b[38;5;241m=\u001b[39malgorithm,\n\u001b[0;32m    237\u001b[0m         nfe\u001b[38;5;241m=\u001b[39m\u001b[38;5;28mint\u001b[39m(nfe),\n\u001b[0;32m    238\u001b[0m         searchover\u001b[38;5;241m=\u001b[39msearchover,\n\u001b[0;32m    239\u001b[0m         evaluator\u001b[38;5;241m=\u001b[39m\u001b[38;5;28mself\u001b[39m,\n\u001b[0;32m    240\u001b[0m         reference\u001b[38;5;241m=\u001b[39mreference,\n\u001b[0;32m    241\u001b[0m         constraints\u001b[38;5;241m=\u001b[39mconstraints,\n\u001b[0;32m    242\u001b[0m         convergence_freq\u001b[38;5;241m=\u001b[39mconvergence_freq,\n\u001b[0;32m    243\u001b[0m         logging_freq\u001b[38;5;241m=\u001b[39mlogging_freq,\n\u001b[0;32m    244\u001b[0m         \u001b[38;5;241m*\u001b[39m\u001b[38;5;241m*\u001b[39mkwargs,\n\u001b[0;32m    245\u001b[0m     )\n",
      "File \u001b[1;32m~\\miniconda3\\lib\\site-packages\\ema_workbench\\em_framework\\evaluators.py:718\u001b[0m, in \u001b[0;36moptimize\u001b[1;34m(models, algorithm, nfe, searchover, evaluator, reference, convergence, constraints, convergence_freq, logging_freq, **kwargs)\u001b[0m\n\u001b[0;32m    715\u001b[0m \u001b[38;5;28;01mif\u001b[39;00m \u001b[38;5;129;01mnot\u001b[39;00m evaluator:\n\u001b[0;32m    716\u001b[0m     evaluator \u001b[38;5;241m=\u001b[39m SequentialEvaluator(models)\n\u001b[1;32m--> 718\u001b[0m \u001b[38;5;28;01mreturn\u001b[39;00m _optimize(\n\u001b[0;32m    719\u001b[0m     problem,\n\u001b[0;32m    720\u001b[0m     evaluator,\n\u001b[0;32m    721\u001b[0m     algorithm,\n\u001b[0;32m    722\u001b[0m     convergence,\n\u001b[0;32m    723\u001b[0m     nfe,\n\u001b[0;32m    724\u001b[0m     convergence_freq,\n\u001b[0;32m    725\u001b[0m     logging_freq,\n\u001b[0;32m    726\u001b[0m     \u001b[38;5;241m*\u001b[39m\u001b[38;5;241m*\u001b[39mkwargs,\n\u001b[0;32m    727\u001b[0m )\n",
      "File \u001b[1;32m~\\miniconda3\\lib\\site-packages\\ema_workbench\\em_framework\\optimization.py:869\u001b[0m, in \u001b[0;36m_optimize\u001b[1;34m(problem, evaluator, algorithm, convergence, nfe, convergence_freq, logging_freq, **kwargs)\u001b[0m\n\u001b[0;32m    866\u001b[0m evaluator\u001b[38;5;241m.\u001b[39mcallback \u001b[38;5;241m=\u001b[39m callback\n\u001b[0;32m    868\u001b[0m \u001b[38;5;28;01mwith\u001b[39;00m temporary_filter(name\u001b[38;5;241m=\u001b[39m[callbacks\u001b[38;5;241m.\u001b[39m\u001b[38;5;18m__name__\u001b[39m, evaluators\u001b[38;5;241m.\u001b[39m\u001b[38;5;18m__name__\u001b[39m], level\u001b[38;5;241m=\u001b[39mINFO):\n\u001b[1;32m--> 869\u001b[0m     \u001b[43moptimizer\u001b[49m\u001b[38;5;241;43m.\u001b[39;49m\u001b[43mrun\u001b[49m\u001b[43m(\u001b[49m\u001b[43mnfe\u001b[49m\u001b[43m)\u001b[49m\n\u001b[0;32m    871\u001b[0m convergence(optimizer)\n\u001b[0;32m    873\u001b[0m \u001b[38;5;66;03m# convergence.pbar.__exit__(None, None, None)\u001b[39;00m\n",
      "File \u001b[1;32m~\\miniconda3\\lib\\site-packages\\platypus\\core.py:408\u001b[0m, in \u001b[0;36mAlgorithm.run\u001b[1;34m(self, condition, callback)\u001b[0m\n\u001b[0;32m    405\u001b[0m LOGGER\u001b[38;5;241m.\u001b[39mlog(logging\u001b[38;5;241m.\u001b[39mINFO, \u001b[38;5;124m\"\u001b[39m\u001b[38;5;132;01m%s\u001b[39;00m\u001b[38;5;124m starting\u001b[39m\u001b[38;5;124m\"\u001b[39m, \u001b[38;5;28mtype\u001b[39m(\u001b[38;5;28mself\u001b[39m)\u001b[38;5;241m.\u001b[39m\u001b[38;5;18m__name__\u001b[39m)\n\u001b[0;32m    407\u001b[0m \u001b[38;5;28;01mwhile\u001b[39;00m \u001b[38;5;129;01mnot\u001b[39;00m condition(\u001b[38;5;28mself\u001b[39m):\n\u001b[1;32m--> 408\u001b[0m     \u001b[38;5;28;43mself\u001b[39;49m\u001b[38;5;241;43m.\u001b[39;49m\u001b[43mstep\u001b[49m\u001b[43m(\u001b[49m\u001b[43m)\u001b[49m\n\u001b[0;32m    410\u001b[0m     \u001b[38;5;28;01mif\u001b[39;00m \u001b[38;5;28mself\u001b[39m\u001b[38;5;241m.\u001b[39mlog_frequency \u001b[38;5;129;01mis\u001b[39;00m \u001b[38;5;129;01mnot\u001b[39;00m \u001b[38;5;28;01mNone\u001b[39;00m \u001b[38;5;129;01mand\u001b[39;00m \u001b[38;5;28mself\u001b[39m\u001b[38;5;241m.\u001b[39mnfe \u001b[38;5;241m>\u001b[39m\u001b[38;5;241m=\u001b[39m last_log \u001b[38;5;241m+\u001b[39m \u001b[38;5;28mself\u001b[39m\u001b[38;5;241m.\u001b[39mlog_frequency:\n\u001b[0;32m    411\u001b[0m         LOGGER\u001b[38;5;241m.\u001b[39mlog(logging\u001b[38;5;241m.\u001b[39mINFO,\n\u001b[0;32m    412\u001b[0m                    \u001b[38;5;124m\"\u001b[39m\u001b[38;5;132;01m%s\u001b[39;00m\u001b[38;5;124m running; NFE Complete: \u001b[39m\u001b[38;5;132;01m%d\u001b[39;00m\u001b[38;5;124m, Elapsed Time: \u001b[39m\u001b[38;5;132;01m%s\u001b[39;00m\u001b[38;5;124m\"\u001b[39m,\n\u001b[0;32m    413\u001b[0m                    \u001b[38;5;28mtype\u001b[39m(\u001b[38;5;28mself\u001b[39m)\u001b[38;5;241m.\u001b[39m\u001b[38;5;18m__name__\u001b[39m,\n\u001b[0;32m    414\u001b[0m                    \u001b[38;5;28mself\u001b[39m\u001b[38;5;241m.\u001b[39mnfe,\n\u001b[0;32m    415\u001b[0m                    datetime\u001b[38;5;241m.\u001b[39mtimedelta(seconds\u001b[38;5;241m=\u001b[39mtime\u001b[38;5;241m.\u001b[39mtime()\u001b[38;5;241m-\u001b[39mstart_time))\n",
      "File \u001b[1;32m~\\miniconda3\\lib\\site-packages\\platypus\\algorithms.py:1522\u001b[0m, in \u001b[0;36mPeriodicAction.step\u001b[1;34m(self)\u001b[0m\n\u001b[0;32m   1521\u001b[0m \u001b[38;5;28;01mdef\u001b[39;00m \u001b[38;5;21mstep\u001b[39m(\u001b[38;5;28mself\u001b[39m):\n\u001b[1;32m-> 1522\u001b[0m     \u001b[38;5;28;43mself\u001b[39;49m\u001b[38;5;241;43m.\u001b[39;49m\u001b[43malgorithm\u001b[49m\u001b[38;5;241;43m.\u001b[39;49m\u001b[43mstep\u001b[49m\u001b[43m(\u001b[49m\u001b[43m)\u001b[49m\n\u001b[0;32m   1523\u001b[0m     \u001b[38;5;28mself\u001b[39m\u001b[38;5;241m.\u001b[39miteration \u001b[38;5;241m+\u001b[39m\u001b[38;5;241m=\u001b[39m \u001b[38;5;241m1\u001b[39m\n\u001b[0;32m   1524\u001b[0m     \u001b[38;5;28mself\u001b[39m\u001b[38;5;241m.\u001b[39mnfe \u001b[38;5;241m=\u001b[39m \u001b[38;5;28mself\u001b[39m\u001b[38;5;241m.\u001b[39malgorithm\u001b[38;5;241m.\u001b[39mnfe\n",
      "File \u001b[1;32m~\\miniconda3\\lib\\site-packages\\platypus\\algorithms.py:181\u001b[0m, in \u001b[0;36mNSGAII.step\u001b[1;34m(self)\u001b[0m\n\u001b[0;32m    179\u001b[0m \u001b[38;5;28;01mdef\u001b[39;00m \u001b[38;5;21mstep\u001b[39m(\u001b[38;5;28mself\u001b[39m):\n\u001b[0;32m    180\u001b[0m     \u001b[38;5;28;01mif\u001b[39;00m \u001b[38;5;28mself\u001b[39m\u001b[38;5;241m.\u001b[39mnfe \u001b[38;5;241m==\u001b[39m \u001b[38;5;241m0\u001b[39m:\n\u001b[1;32m--> 181\u001b[0m         \u001b[38;5;28;43mself\u001b[39;49m\u001b[38;5;241;43m.\u001b[39;49m\u001b[43minitialize\u001b[49m\u001b[43m(\u001b[49m\u001b[43m)\u001b[49m\n\u001b[0;32m    182\u001b[0m     \u001b[38;5;28;01melse\u001b[39;00m:\n\u001b[0;32m    183\u001b[0m         \u001b[38;5;28mself\u001b[39m\u001b[38;5;241m.\u001b[39miterate()\n",
      "File \u001b[1;32m~\\miniconda3\\lib\\site-packages\\platypus\\algorithms.py:191\u001b[0m, in \u001b[0;36mNSGAII.initialize\u001b[1;34m(self)\u001b[0m\n\u001b[0;32m    190\u001b[0m \u001b[38;5;28;01mdef\u001b[39;00m \u001b[38;5;21minitialize\u001b[39m(\u001b[38;5;28mself\u001b[39m):\n\u001b[1;32m--> 191\u001b[0m     \u001b[38;5;28;43msuper\u001b[39;49m\u001b[43m(\u001b[49m\u001b[43mNSGAII\u001b[49m\u001b[43m,\u001b[49m\u001b[43m \u001b[49m\u001b[38;5;28;43mself\u001b[39;49m\u001b[43m)\u001b[49m\u001b[38;5;241;43m.\u001b[39;49m\u001b[43minitialize\u001b[49m\u001b[43m(\u001b[49m\u001b[43m)\u001b[49m\n\u001b[0;32m    193\u001b[0m     \u001b[38;5;28;01mif\u001b[39;00m \u001b[38;5;28mself\u001b[39m\u001b[38;5;241m.\u001b[39marchive \u001b[38;5;129;01mis\u001b[39;00m \u001b[38;5;129;01mnot\u001b[39;00m \u001b[38;5;28;01mNone\u001b[39;00m:\n\u001b[0;32m    194\u001b[0m         \u001b[38;5;28mself\u001b[39m\u001b[38;5;241m.\u001b[39marchive \u001b[38;5;241m+\u001b[39m\u001b[38;5;241m=\u001b[39m \u001b[38;5;28mself\u001b[39m\u001b[38;5;241m.\u001b[39mpopulation\n",
      "File \u001b[1;32m~\\miniconda3\\lib\\site-packages\\platypus\\algorithms.py:72\u001b[0m, in \u001b[0;36mAbstractGeneticAlgorithm.initialize\u001b[1;34m(self)\u001b[0m\n\u001b[0;32m     70\u001b[0m \u001b[38;5;28;01mdef\u001b[39;00m \u001b[38;5;21minitialize\u001b[39m(\u001b[38;5;28mself\u001b[39m):\n\u001b[0;32m     71\u001b[0m     \u001b[38;5;28mself\u001b[39m\u001b[38;5;241m.\u001b[39mpopulation \u001b[38;5;241m=\u001b[39m [\u001b[38;5;28mself\u001b[39m\u001b[38;5;241m.\u001b[39mgenerator\u001b[38;5;241m.\u001b[39mgenerate(\u001b[38;5;28mself\u001b[39m\u001b[38;5;241m.\u001b[39mproblem) \u001b[38;5;28;01mfor\u001b[39;00m _ \u001b[38;5;129;01min\u001b[39;00m \u001b[38;5;28mrange\u001b[39m(\u001b[38;5;28mself\u001b[39m\u001b[38;5;241m.\u001b[39mpopulation_size)]\n\u001b[1;32m---> 72\u001b[0m     \u001b[38;5;28;43mself\u001b[39;49m\u001b[38;5;241;43m.\u001b[39;49m\u001b[43mevaluate_all\u001b[49m\u001b[43m(\u001b[49m\u001b[38;5;28;43mself\u001b[39;49m\u001b[38;5;241;43m.\u001b[39;49m\u001b[43mpopulation\u001b[49m\u001b[43m)\u001b[49m\n",
      "File \u001b[1;32m~\\miniconda3\\lib\\site-packages\\platypus\\core.py:381\u001b[0m, in \u001b[0;36mAlgorithm.evaluate_all\u001b[1;34m(self, solutions)\u001b[0m\n\u001b[0;32m    378\u001b[0m unevaluated \u001b[38;5;241m=\u001b[39m [s \u001b[38;5;28;01mfor\u001b[39;00m s \u001b[38;5;129;01min\u001b[39;00m solutions \u001b[38;5;28;01mif\u001b[39;00m \u001b[38;5;129;01mnot\u001b[39;00m s\u001b[38;5;241m.\u001b[39mevaluated]\n\u001b[0;32m    380\u001b[0m jobs \u001b[38;5;241m=\u001b[39m [_EvaluateJob(s) \u001b[38;5;28;01mfor\u001b[39;00m s \u001b[38;5;129;01min\u001b[39;00m unevaluated]\n\u001b[1;32m--> 381\u001b[0m results \u001b[38;5;241m=\u001b[39m \u001b[38;5;28;43mself\u001b[39;49m\u001b[38;5;241;43m.\u001b[39;49m\u001b[43mevaluator\u001b[49m\u001b[38;5;241;43m.\u001b[39;49m\u001b[43mevaluate_all\u001b[49m\u001b[43m(\u001b[49m\u001b[43mjobs\u001b[49m\u001b[43m)\u001b[49m\n\u001b[0;32m    383\u001b[0m \u001b[38;5;66;03m# if needed, update the original solution with the results\u001b[39;00m\n\u001b[0;32m    384\u001b[0m \u001b[38;5;28;01mfor\u001b[39;00m i, result \u001b[38;5;129;01min\u001b[39;00m \u001b[38;5;28menumerate\u001b[39m(results):\n",
      "File \u001b[1;32m~\\miniconda3\\lib\\site-packages\\ema_workbench\\em_framework\\evaluators.py:162\u001b[0m, in \u001b[0;36mBaseEvaluator.evaluate_all\u001b[1;34m(self, jobs, **kwargs)\u001b[0m\n\u001b[0;32m    159\u001b[0m     \u001b[38;5;28;01mraise\u001b[39;00m \u001b[38;5;167;01mNotImplementedError\u001b[39;00m()\n\u001b[0;32m    161\u001b[0m \u001b[38;5;66;03m# overwrite the default 10 progress reports  with 5 reports\u001b[39;00m\n\u001b[1;32m--> 162\u001b[0m callback \u001b[38;5;241m=\u001b[39m \u001b[43mperform_experiments\u001b[49m\u001b[43m(\u001b[49m\n\u001b[0;32m    163\u001b[0m \u001b[43m    \u001b[49m\u001b[38;5;28;43mself\u001b[39;49m\u001b[38;5;241;43m.\u001b[39;49m\u001b[43m_msis\u001b[49m\u001b[43m,\u001b[49m\n\u001b[0;32m    164\u001b[0m \u001b[43m    \u001b[49m\u001b[43mevaluator\u001b[49m\u001b[38;5;241;43m=\u001b[39;49m\u001b[38;5;28;43mself\u001b[39;49m\u001b[43m,\u001b[49m\n\u001b[0;32m    165\u001b[0m \u001b[43m    \u001b[49m\u001b[43mreporting_frequency\u001b[49m\u001b[38;5;241;43m=\u001b[39;49m\u001b[38;5;28;43mself\u001b[39;49m\u001b[38;5;241;43m.\u001b[39;49m\u001b[43mreporting_frequency\u001b[49m\u001b[43m,\u001b[49m\n\u001b[0;32m    166\u001b[0m \u001b[43m    \u001b[49m\u001b[43mscenarios\u001b[49m\u001b[38;5;241;43m=\u001b[39;49m\u001b[43mscenarios\u001b[49m\u001b[43m,\u001b[49m\n\u001b[0;32m    167\u001b[0m \u001b[43m    \u001b[49m\u001b[43mpolicies\u001b[49m\u001b[38;5;241;43m=\u001b[39;49m\u001b[43mpolicies\u001b[49m\u001b[43m,\u001b[49m\n\u001b[0;32m    168\u001b[0m \u001b[43m    \u001b[49m\u001b[43mreturn_callback\u001b[49m\u001b[38;5;241;43m=\u001b[39;49m\u001b[38;5;28;43;01mTrue\u001b[39;49;00m\u001b[43m,\u001b[49m\n\u001b[0;32m    169\u001b[0m \u001b[43m    \u001b[49m\u001b[43mlog_progress\u001b[49m\u001b[38;5;241;43m=\u001b[39;49m\u001b[38;5;28;43;01mTrue\u001b[39;49;00m\u001b[43m,\u001b[49m\n\u001b[0;32m    170\u001b[0m \u001b[43m\u001b[49m\u001b[43m)\u001b[49m\n\u001b[0;32m    172\u001b[0m experiments, outcomes \u001b[38;5;241m=\u001b[39m callback\u001b[38;5;241m.\u001b[39mget_results()\n\u001b[0;32m    174\u001b[0m \u001b[38;5;28;01mif\u001b[39;00m searchover \u001b[38;5;129;01min\u001b[39;00m (\u001b[38;5;124m\"\u001b[39m\u001b[38;5;124mlevers\u001b[39m\u001b[38;5;124m\"\u001b[39m, \u001b[38;5;124m\"\u001b[39m\u001b[38;5;124muncertainties\u001b[39m\u001b[38;5;124m\"\u001b[39m):\n",
      "File \u001b[1;32m~\\miniconda3\\lib\\site-packages\\ema_workbench\\em_framework\\evaluators.py:539\u001b[0m, in \u001b[0;36mperform_experiments\u001b[1;34m(models, scenarios, policies, evaluator, reporting_interval, reporting_frequency, uncertainty_union, lever_union, outcome_union, uncertainty_sampling, lever_sampling, callback, return_callback, combine, log_progress)\u001b[0m\n\u001b[0;32m    536\u001b[0m \u001b[38;5;28;01mif\u001b[39;00m \u001b[38;5;129;01mnot\u001b[39;00m evaluator:\n\u001b[0;32m    537\u001b[0m     evaluator \u001b[38;5;241m=\u001b[39m SequentialEvaluator(models)\n\u001b[1;32m--> 539\u001b[0m \u001b[43mevaluator\u001b[49m\u001b[38;5;241;43m.\u001b[39;49m\u001b[43mevaluate_experiments\u001b[49m\u001b[43m(\u001b[49m\u001b[43mscenarios\u001b[49m\u001b[43m,\u001b[49m\u001b[43m \u001b[49m\u001b[43mpolicies\u001b[49m\u001b[43m,\u001b[49m\u001b[43m \u001b[49m\u001b[43mcallback\u001b[49m\u001b[43m,\u001b[49m\u001b[43m \u001b[49m\u001b[43mcombine\u001b[49m\u001b[38;5;241;43m=\u001b[39;49m\u001b[43mcombine\u001b[49m\u001b[43m)\u001b[49m\n\u001b[0;32m    541\u001b[0m \u001b[38;5;28;01mif\u001b[39;00m callback\u001b[38;5;241m.\u001b[39mi \u001b[38;5;241m!=\u001b[39m nr_of_exp:\n\u001b[0;32m    542\u001b[0m     \u001b[38;5;28;01mraise\u001b[39;00m EMAError(\n\u001b[0;32m    543\u001b[0m         (\n\u001b[0;32m    544\u001b[0m             \u001b[38;5;124m\"\u001b[39m\u001b[38;5;124msome fatal error has occurred while \u001b[39m\u001b[38;5;124m\"\u001b[39m\n\u001b[1;32m   (...)\u001b[0m\n\u001b[0;32m    547\u001b[0m         )\u001b[38;5;241m.\u001b[39mformat(nr_of_exp, callback\u001b[38;5;241m.\u001b[39mi)\n\u001b[0;32m    548\u001b[0m     )\n",
      "File \u001b[1;32m~\\miniconda3\\lib\\site-packages\\ema_workbench\\em_framework\\evaluators.py:299\u001b[0m, in \u001b[0;36mSequentialEvaluator.evaluate_experiments\u001b[1;34m(self, scenarios, policies, callback, combine)\u001b[0m\n\u001b[0;32m    296\u001b[0m runner \u001b[38;5;241m=\u001b[39m ExperimentRunner(models)\n\u001b[0;32m    298\u001b[0m \u001b[38;5;28;01mfor\u001b[39;00m experiment \u001b[38;5;129;01min\u001b[39;00m ex_gen:\n\u001b[1;32m--> 299\u001b[0m     outcomes \u001b[38;5;241m=\u001b[39m \u001b[43mrunner\u001b[49m\u001b[38;5;241;43m.\u001b[39;49m\u001b[43mrun_experiment\u001b[49m\u001b[43m(\u001b[49m\u001b[43mexperiment\u001b[49m\u001b[43m)\u001b[49m\n\u001b[0;32m    300\u001b[0m     callback(experiment, outcomes)\n\u001b[0;32m    301\u001b[0m runner\u001b[38;5;241m.\u001b[39mcleanup()\n",
      "File \u001b[1;32m~\\miniconda3\\lib\\site-packages\\ema_workbench\\util\\ema_logging.py:152\u001b[0m, in \u001b[0;36mmethod_logger.<locals>.real_decorator.<locals>.wrapper\u001b[1;34m(*args, **kwargs)\u001b[0m\n\u001b[0;32m    147\u001b[0m \u001b[38;5;129m@wraps\u001b[39m(func)\n\u001b[0;32m    148\u001b[0m \u001b[38;5;28;01mdef\u001b[39;00m \u001b[38;5;21mwrapper\u001b[39m(\u001b[38;5;241m*\u001b[39margs, \u001b[38;5;241m*\u001b[39m\u001b[38;5;241m*\u001b[39mkwargs):\n\u001b[0;32m    149\u001b[0m     \u001b[38;5;66;03m# hack, because log is applied to methods, we can get\u001b[39;00m\n\u001b[0;32m    150\u001b[0m     \u001b[38;5;66;03m# object instance as first arguments in args\u001b[39;00m\n\u001b[0;32m    151\u001b[0m     logger\u001b[38;5;241m.\u001b[39mdebug(\u001b[38;5;124m\"\u001b[39m\u001b[38;5;124mcalling \u001b[39m\u001b[38;5;132;01m{}\u001b[39;00m\u001b[38;5;124m on \u001b[39m\u001b[38;5;132;01m{}\u001b[39;00m\u001b[38;5;124m\"\u001b[39m\u001b[38;5;241m.\u001b[39mformat(func\u001b[38;5;241m.\u001b[39m\u001b[38;5;18m__name__\u001b[39m, classname))\n\u001b[1;32m--> 152\u001b[0m     res \u001b[38;5;241m=\u001b[39m func(\u001b[38;5;241m*\u001b[39margs, \u001b[38;5;241m*\u001b[39m\u001b[38;5;241m*\u001b[39mkwargs)\n\u001b[0;32m    153\u001b[0m     logger\u001b[38;5;241m.\u001b[39mdebug(\u001b[38;5;124m\"\u001b[39m\u001b[38;5;124mcompleted calling \u001b[39m\u001b[38;5;132;01m{}\u001b[39;00m\u001b[38;5;124m on \u001b[39m\u001b[38;5;132;01m{}\u001b[39;00m\u001b[38;5;124m\"\u001b[39m\u001b[38;5;241m.\u001b[39mformat(func\u001b[38;5;241m.\u001b[39m\u001b[38;5;18m__name__\u001b[39m, classname))\n\u001b[0;32m    154\u001b[0m     \u001b[38;5;28;01mreturn\u001b[39;00m res\n",
      "File \u001b[1;32m~\\miniconda3\\lib\\site-packages\\ema_workbench\\em_framework\\experiment_runner.py:108\u001b[0m, in \u001b[0;36mExperimentRunner.run_experiment\u001b[1;34m(self, experiment)\u001b[0m\n\u001b[0;32m    102\u001b[0m     \u001b[38;5;66;03m#             exception = traceback.print_exc()\u001b[39;00m\n\u001b[0;32m    103\u001b[0m     \u001b[38;5;66;03m#             if exception:\u001b[39;00m\n\u001b[0;32m    104\u001b[0m     \u001b[38;5;66;03m#                 sys.stderr.write(exception)\u001b[39;00m\n\u001b[0;32m    105\u001b[0m     \u001b[38;5;66;03m#                 sys.stderr.write(\"\\n\")\u001b[39;00m\n\u001b[0;32m    107\u001b[0m     errortype \u001b[38;5;241m=\u001b[39m \u001b[38;5;28mtype\u001b[39m(e)\u001b[38;5;241m.\u001b[39m\u001b[38;5;18m__name__\u001b[39m\n\u001b[1;32m--> 108\u001b[0m     \u001b[38;5;28;01mraise\u001b[39;00m EMAError(\n\u001b[0;32m    109\u001b[0m         (\n\u001b[0;32m    110\u001b[0m             \u001b[38;5;124m\"\u001b[39m\u001b[38;5;124mexception in run_model\u001b[39m\u001b[38;5;124m\"\u001b[39m\n\u001b[0;32m    111\u001b[0m             \u001b[38;5;124m\"\u001b[39m\u001b[38;5;130;01m\\n\u001b[39;00m\u001b[38;5;124mCaused by: \u001b[39m\u001b[38;5;132;01m{}\u001b[39;00m\u001b[38;5;124m: \u001b[39m\u001b[38;5;132;01m{}\u001b[39;00m\u001b[38;5;124m\"\u001b[39m\u001b[38;5;241m.\u001b[39mformat(errortype, \u001b[38;5;28mstr\u001b[39m(e))\n\u001b[0;32m    112\u001b[0m         )\n\u001b[0;32m    113\u001b[0m     )\n\u001b[0;32m    115\u001b[0m outcomes \u001b[38;5;241m=\u001b[39m model\u001b[38;5;241m.\u001b[39moutcomes_output\n\u001b[0;32m    116\u001b[0m model\u001b[38;5;241m.\u001b[39mreset_model()\n",
      "\u001b[1;31mEMAError\u001b[0m: exception in run_model\nCaused by: KeyError: 'A.4_Expected Annual Damage'"
     ]
    }
   ],
   "source": [
    "results = []\n",
    "for scenario in scenarios:\n",
    "    convergence_metrics = [HyperVolume(minimum=[0,0,0,0,0], maximum=[130000000,570000000,0.03,1900000000,45000]),\n",
    "                           EpsilonProgress()]\n",
    "    epsilons = [0.1,]*len(dike_model.outcomes)\n",
    "    \n",
    "    results.append(optimize(scenario, 1e4, dike_model, convergence_metrics, epsilons))"
   ]
  },
  {
   "cell_type": "markdown",
   "id": "ce66b3c9-9548-41b8-abee-57b8b4915194",
   "metadata": {},
   "source": [
    "## Plots "
   ]
  },
  {
   "cell_type": "code",
   "execution_count": null,
   "id": "0d2a0d66-7bfc-4755-aa2d-b90649e86a4e",
   "metadata": {},
   "outputs": [],
   "source": [
    "fig, (ax1, ax2) = plt.subplots(ncols=2)\n",
    "for i, (_, convergence) in enumerate(results):\n",
    "    ax1.plot(convergence.nfe, convergence.hypervolume, label=f'scenario {i}')\n",
    "    ax2.plot(convergence.nfe, convergence.epsilon_progress, label=f'scenario {i}')\n",
    "\n",
    "ax1.set_ylabel('hypervolume')\n",
    "ax1.set_xlabel('nfe')\n",
    "ax2.set_ylabel('$\\epsilon$ progress')\n",
    "ax2.set_xlabel('nfe')\n",
    "fig.legend()\n",
    "plt.show()"
   ]
  },
  {
   "cell_type": "code",
   "execution_count": null,
   "id": "d3a9c6d8-4eda-4ddc-b9b8-107ea8d9fad1",
   "metadata": {},
   "outputs": [],
   "source": [
    "colors = iter(sns.color_palette())\n",
    "\n",
    "data = results[0][0].iloc[:, 5::]\n",
    "limits = parcoords.get_limits(data)\n",
    "\n",
    "limits.loc[0, ['inertia', 'reliability']] = 1\n",
    "limits.loc[0, 'max_P'] = 4 # max over results based on quick inspection not shown here\n",
    "limits.loc[0, 'utility'] = 1 # max over results based on quick inspection not shown here\n",
    "limits.loc[1, :] = 0\n",
    "paraxes = parcoords.ParallelAxes(limits)\n",
    "\n",
    "\n",
    "for i, (result, _) in enumerate(results):\n",
    "    color = next(colors)\n",
    "    data = result.iloc[:, 5::]\n",
    "    paraxes.plot(data, label=f'scenario {i}', color=color)\n",
    "\n",
    "paraxes.legend()\n",
    "plt.show()\n",
    "\n"
   ]
  },
  {
   "cell_type": "markdown",
   "id": "d7b6a8f9-c1c8-4638-a21f-7d3b2dd5f922",
   "metadata": {},
   "source": [
    "## Deep Uncertainty "
   ]
  },
  {
   "cell_type": "code",
   "execution_count": null,
   "id": "4f3e9f08-7bb3-4af1-a9a8-0e8951d15eeb",
   "metadata": {},
   "outputs": [],
   "source": [
    "#specify the policies \n",
    "\n",
    "policies = []\n",
    "for i, (result, _) in enumerate(results):\n",
    "    result = result.iloc[:, 0:5]\n",
    "    for j, row in result.iterrows():\n",
    "        policy = Policy(f'scenario {i} option {j}', **row.to_dict())\n",
    "        policies.append(policy)\n",
    "        \n",
    "## Our way: \n",
    "\n",
    "#Identify policies based on open exploration \n",
    "\n",
    "policies = [Policy('policy 1', **{'0_RfR 0':1,\n",
    "                                  '0_RfR 1':1,\n",
    "                                  '0_RfR 2':1,\n",
    "                                  'A.1_DikeIncrease 0':5,\n",
    "                                 'A.1_DikeIncrease 1':5}),\n",
    "           Policy('policy 2', **{'4_RfR 0':1,\n",
    "                                  '4_RfR 1':1,\n",
    "                                  '4_RfR 2':1,\n",
    "                                  'A.5_DikeIncrease 0':5}),\n",
    "           Policy('policy 3', **{'1_RfR 0':1,\n",
    "                                  '2_RfR 1':1,\n",
    "                                  '3_RfR 2':1,\n",
    "                                  'A.3_DikeIncrease 0':5})]\n",
    "        "
   ]
  },
  {
   "cell_type": "code",
   "execution_count": null,
   "id": "15409fc9-83f8-49e6-a59e-3488b64ea26a",
   "metadata": {},
   "outputs": [],
   "source": [
    "with MultiprocessingEvaluator(model) as evaluator:\n",
    "    reeevaluation_results = evaluator.perform_experiments(1000, policies=policies)"
   ]
  },
  {
   "cell_type": "markdown",
   "id": "a992936f-2fca-4360-9127-5eaa43533e96",
   "metadata": {},
   "source": [
    "Calculate both the maximum regret, and the domain criterion using the values provided in [Bartholomew and Kwakkel (2020)](https://doi.org/10.1016/j.envsoft.2020.104699). Ignore the max_P objective.\n",
    "\n"
   ]
  },
  {
   "cell_type": "code",
   "execution_count": null,
   "id": "2ca8d56b-c902-4b28-abe6-96c60c22cd3d",
   "metadata": {},
   "outputs": [],
   "source": [
    "\n",
    "experiments, outcomes = reeevaluation_results\n",
    "\n",
    "#as defined earlier: \n",
    "thresholds = {'utility':0.75, 'inertia':0.99, 'reliability':0.8}\n",
    "\n",
    "overall_scores = {}\n",
    "for policy in experiments.policy.unique():\n",
    "    logical = experiments.policy == policy\n",
    "    scores = {}\n",
    "    for k, v in outcomes.items():\n",
    "        try:\n",
    "            n = np.sum(v[logical]>=thresholds[k])\n",
    "        except KeyError:\n",
    "            continue\n",
    "        scores[k] = n/1000 \n",
    "    overall_scores[policy] = scores\n",
    "        \n",
    "overall_scores = pd.DataFrame(overall_scores).T"
   ]
  },
  {
   "cell_type": "code",
   "execution_count": null,
   "id": "090f3177-4a3d-44b9-96f3-45ad88384762",
   "metadata": {},
   "outputs": [],
   "source": [
    "limits = parcoords.get_limits(overall_scores)\n",
    "paraxes = parcoords.ParallelAxes(limits)\n",
    "paraxes.plot(overall_scores)\n",
    "plt.show()"
   ]
  },
  {
   "cell_type": "markdown",
   "id": "dabb2503-e873-4838-8c97-6aa3bbd843e2",
   "metadata": {},
   "source": [
    "Alternative way?? "
   ]
  },
  {
   "cell_type": "code",
   "execution_count": null,
   "id": "71369f7c-09a3-41ca-8caf-b6c7f3469ba4",
   "metadata": {},
   "outputs": [],
   "source": [
    "overall_scores = {}\n",
    "regret = []\n",
    "for scenario in experiments.scenario.unique():\n",
    "    logical = experiments.scenario==scenario\n",
    "    temp_results = {k:v[logical] for k,v in outcomes.items()}\n",
    "    temp_results = pd.DataFrame(temp_results)\n",
    "    temp_experiments = experiments[experiments.scenario==scenario]\n",
    "        \n",
    "    best = temp_results.max()\n",
    "    best['max_P'] = temp_results.max_P.min()\n",
    "    scenario_regret = a - best\n",
    "    scenario_regret['policy'] = temp_experiments.policy.values    \n",
    "    regret.append(scenario_regret)\n",
    "\n"
   ]
  },
  {
   "cell_type": "code",
   "execution_count": null,
   "id": "0c239c59-e4f5-4ccd-82c4-fae5945fc031",
   "metadata": {},
   "outputs": [],
   "source": [
    "regret = pd.concat(regret)\n",
    "maxregret = regret.groupby('policy').max()"
   ]
  },
  {
   "cell_type": "code",
   "execution_count": null,
   "id": "0899ce3d-88f6-49a0-8004-5aa6f613a6dd",
   "metadata": {},
   "outputs": [],
   "source": [
    "limits = parcoords.get_limits(maxregret)\n",
    "paraxes = parcoords.ParallelAxes(maxregret)\n",
    "paraxes.plot(maxregret)\n",
    "plt.show()"
   ]
  }
 ],
 "metadata": {
  "kernelspec": {
   "display_name": "Python 3 (ipykernel)",
   "language": "python",
   "name": "python3"
  },
  "language_info": {
   "codemirror_mode": {
    "name": "ipython",
    "version": 3
   },
   "file_extension": ".py",
   "mimetype": "text/x-python",
   "name": "python",
   "nbconvert_exporter": "python",
   "pygments_lexer": "ipython3",
   "version": "3.9.7"
  }
 },
 "nbformat": 4,
 "nbformat_minor": 5
}
