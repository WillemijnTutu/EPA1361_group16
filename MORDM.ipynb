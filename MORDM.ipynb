{
 "cells": [
  {
   "cell_type": "markdown",
   "id": "5d5b07ea",
   "metadata": {
    "tags": []
   },
   "source": [
    "# Room for the river: Gorssel "
   ]
  },
  {
   "cell_type": "markdown",
   "id": "3696bde3-f3c6-4cc2-9345-a20bf01784a4",
   "metadata": {
    "tags": []
   },
   "source": [
    "## Imports "
   ]
  },
  {
   "cell_type": "code",
   "execution_count": 1,
   "id": "b5c5fdfe",
   "metadata": {},
   "outputs": [],
   "source": [
    "#imports\n",
    "import numpy as np\n",
    "import scipy as sp\n",
    "import pandas as pd\n",
    "import matplotlib.pyplot as plt\n",
    "import seaborn as sns\n",
    "import networkx as nx\n",
    "import sys\n",
    "import time\n",
    "import copy\n",
    "import os\n",
    "import functools\n",
    "import random\n",
    "import itertools\n",
    "\n",
    "from ema_workbench import (Model, CategoricalParameter,ScalarOutcome, IntegerParameter, RealParameter,\n",
    "                           MultiprocessingEvaluator, ema_logging, Constant, Policy, Scenario,\n",
    "                           perform_experiments, SequentialEvaluator,Constraint)\n",
    "from problem_formulation import get_model_for_problem_formulation\n",
    "from dike_model_function import DikeNetwork  # @UnresolvedImport\n",
    "from ema_workbench.em_framework.optimization import (HyperVolume, EpsilonProgress,GenerationalBorg)\n",
    "from ema_workbench.em_framework.evaluators import (perform_experiments,BaseEvaluator)\n",
    "from ema_workbench.em_framework.samplers import sample_uncertainties\n",
    "from ema_workbench.util import ema_logging\n",
    "from ema_workbench.analysis import plotting, plotting_util, parcoords, feature_scoring, prim\n",
    "from ema_workbench import load_results \n",
    "from mpl_toolkits.mplot3d import Axes3D \n",
    "from sklearn import preprocessing\n",
    "from concurrent.futures import (ProcessPoolExecutor,ThreadPoolExecutor)\n",
    "from scipy.spatial.distance import pdist, squareform"
   ]
  },
  {
   "cell_type": "code",
   "execution_count": 27,
   "id": "550506d3",
   "metadata": {},
   "outputs": [],
   "source": [
    "def evaluate_diversity_single(indices, distances, weight=0.5, distance='euclidean'):\n",
    "    '''\n",
    "    takes the outcomes and selected scenario set (decision variables), \n",
    "    returns a single 'diversity' value for the scenario set.\n",
    "    outcomes : outcomes dictionary of the scenario ensemble\n",
    "    decision vars : indices of the scenario set\n",
    "    weight : weight given to the mean in the diversity metric. If 0, only minimum; if 1, only mean\n",
    "    '''\n",
    "    i, j = [e for e in zip(*itertools.combinations(indices, 2))]\n",
    "    subset_distances = distances[i, j]\n",
    "    minimum = np.min(subset_distances)\n",
    "    mean = np.mean(subset_distances)\n",
    "    diversity = (1-weight)*minimum + weight*mean\n",
    "    \n",
    "    return [diversity]\n",
    "\n",
    "\n",
    "def find_maxdiverse_scenarios(distances, combinations):\n",
    "    scores = []\n",
    "    for indices in combinations:\n",
    "        diversity = evaluate_diversity_single(indices, distances)\n",
    "        scores.append((diversity, indices))\n",
    "\n",
    "    return scores\n",
    "\n",
    "def optimize(scenario, nfe, model, converge_metrics, epsilons):\n",
    "    #with SequentialEvaluator(model) as evaluator:\n",
    "    with MultiprocessingEvaluator(model) as evaluator:\n",
    "        results, convergence = evaluator.optimize(nfe=nfe, searchover='levers',\n",
    "                                     convergence=convergence_metrics,\n",
    "                                     epsilons=epsilons,\n",
    "                                     reference=scenario)\n",
    "    return results, convergence\n",
    "\n",
    "def entries_to_remove(entries, the_dict):\n",
    "    for key in entries:\n",
    "        if key in the_dict:\n",
    "            del the_dict[key]"
   ]
  },
  {
   "cell_type": "code",
   "execution_count": 3,
   "id": "de8eca0e-9617-4c49-a750-d94729925605",
   "metadata": {},
   "outputs": [],
   "source": [
    "# import the correct dataframes of a long run with 1000 scenarios and 10 policies \n",
    "df_experiments_s1000_p10 = pd.read_csv(\"df_experiments_s1000_p10.csv\")\n",
    "df_outcomes_s1000_p10 = pd.read_csv(\"df_outcomes_s1000_p10.csv\")"
   ]
  },
  {
   "cell_type": "markdown",
   "id": "ad865d25",
   "metadata": {
    "tags": []
   },
   "source": [
    "## Set experiments and outcomes "
   ]
  },
  {
   "cell_type": "code",
   "execution_count": 4,
   "id": "cc263f97-3d16-456e-8d4f-5bcc31dc5224",
   "metadata": {},
   "outputs": [
    {
     "name": "stdout",
     "output_type": "stream",
     "text": [
      "(10000, 54)\n",
      "(10000, 18)\n"
     ]
    }
   ],
   "source": [
    "#check the size of the dataframes \n",
    "print(df_experiments_s1000_p10.shape) \n",
    "print(df_outcomes_s1000_p10.shape)"
   ]
  },
  {
   "cell_type": "code",
   "execution_count": 5,
   "id": "96d11f60",
   "metadata": {},
   "outputs": [],
   "source": [
    "#Run MORDM with the long run as imported, copy the data here so it doesn't have to be loaded in again \n",
    "experiments = df_experiments_s1000_p10.copy()\n",
    "outcomes = df_outcomes_s1000_p10.copy()"
   ]
  },
  {
   "cell_type": "markdown",
   "id": "6e08b309-3479-494b-8b3f-71253c6dbcea",
   "metadata": {
    "tags": []
   },
   "source": [
    "# Scenario Selection "
   ]
  },
  {
   "cell_type": "markdown",
   "id": "85c42931-5537-49df-866d-3f7484806754",
   "metadata": {
    "tags": []
   },
   "source": [
    "### Choose outcomes of interest \n",
    "\n",
    "While running the code below the prolem occured that the size of the outcomes was too large. The following error appeared: \"The kernel for Documents/GitHub/EPA1361_group16/MORDM.ipynb appears to have died. It will restart automatically.\". To prevent this from happening the choice was made to decrease the number of outcomes that will be used to 100. Ideally this wouldn't be necessary, since a large part of the data is not being used now. This can be improved upon. \n",
    "\n"
   ]
  },
  {
   "cell_type": "code",
   "execution_count": 6,
   "id": "68278c3a-8e40-4f72-913b-c44a0ad23bbd",
   "metadata": {},
   "outputs": [],
   "source": [
    "#Making it possible to randomly select outcomes \n",
    "set_seed = 1234567 \n",
    "random.seed(set_seed)"
   ]
  },
  {
   "cell_type": "code",
   "execution_count": 7,
   "id": "d57189e1",
   "metadata": {
    "tags": []
   },
   "outputs": [],
   "source": [
    "#with trial and error, the number of outcomes can be set to approximatly 100 to prevent the code from crashing \n",
    "number_of_outcomes = 100 \n",
    "outcomes_of_interest = outcomes.sample(n=number_of_outcomes, random_state = set_seed)\n",
    "\n",
    "y= (outcomes.index.isin(outcomes_of_interest.index))\n"
   ]
  },
  {
   "cell_type": "code",
   "execution_count": 8,
   "id": "9db12a75",
   "metadata": {
    "tags": []
   },
   "outputs": [],
   "source": [
    "experiments_of_interest = experiments.loc[y] \n",
    "outcomes_df = pd.DataFrame({k:v[y] for k,v in outcomes.items()})\n",
    "\n",
    "#normalize outcomes on unit interval to ensure equal weighting of outcomes\n",
    "x = outcomes_df.values \n",
    "min_max_scaler = preprocessing.MinMaxScaler()\n",
    "x_scaled = min_max_scaler.fit_transform(x)\n",
    "normalized_outcomes = pd.DataFrame(x_scaled, columns=outcomes_df.columns)"
   ]
  },
  {
   "cell_type": "code",
   "execution_count": 9,
   "id": "a5b13012-5b88-46f1-aab6-3983ce71a46f",
   "metadata": {},
   "outputs": [
    {
     "data": {
      "text/html": [
       "<div>\n",
       "<style scoped>\n",
       "    .dataframe tbody tr th:only-of-type {\n",
       "        vertical-align: middle;\n",
       "    }\n",
       "\n",
       "    .dataframe tbody tr th {\n",
       "        vertical-align: top;\n",
       "    }\n",
       "\n",
       "    .dataframe thead th {\n",
       "        text-align: right;\n",
       "    }\n",
       "</style>\n",
       "<table border=\"1\" class=\"dataframe\">\n",
       "  <thead>\n",
       "    <tr style=\"text-align: right;\">\n",
       "      <th></th>\n",
       "      <th>Unnamed: 0</th>\n",
       "      <th>A.0_ID flood wave shape</th>\n",
       "      <th>A.1_Bmax</th>\n",
       "      <th>A.1_Brate</th>\n",
       "      <th>A.1_pfail</th>\n",
       "      <th>A.2_Bmax</th>\n",
       "      <th>A.2_Brate</th>\n",
       "      <th>A.2_pfail</th>\n",
       "      <th>A.3_Bmax</th>\n",
       "      <th>A.3_Brate</th>\n",
       "      <th>...</th>\n",
       "      <th>A.4_DikeIncrease 0</th>\n",
       "      <th>A.4_DikeIncrease 1</th>\n",
       "      <th>A.4_DikeIncrease 2</th>\n",
       "      <th>A.5_DikeIncrease 0</th>\n",
       "      <th>A.5_DikeIncrease 1</th>\n",
       "      <th>A.5_DikeIncrease 2</th>\n",
       "      <th>EWS_DaysToThreat</th>\n",
       "      <th>scenario</th>\n",
       "      <th>policy</th>\n",
       "      <th>model</th>\n",
       "    </tr>\n",
       "  </thead>\n",
       "  <tbody>\n",
       "    <tr>\n",
       "      <th>106</th>\n",
       "      <td>106</td>\n",
       "      <td>31</td>\n",
       "      <td>321.087153</td>\n",
       "      <td>10.0</td>\n",
       "      <td>0.339356</td>\n",
       "      <td>94.394245</td>\n",
       "      <td>1.5</td>\n",
       "      <td>0.251813</td>\n",
       "      <td>194.392592</td>\n",
       "      <td>10.0</td>\n",
       "      <td>...</td>\n",
       "      <td>9</td>\n",
       "      <td>3</td>\n",
       "      <td>7</td>\n",
       "      <td>6</td>\n",
       "      <td>9</td>\n",
       "      <td>10</td>\n",
       "      <td>2</td>\n",
       "      <td>116</td>\n",
       "      <td>0</td>\n",
       "      <td>dikesnet</td>\n",
       "    </tr>\n",
       "    <tr>\n",
       "      <th>336</th>\n",
       "      <td>336</td>\n",
       "      <td>78</td>\n",
       "      <td>58.368824</td>\n",
       "      <td>1.5</td>\n",
       "      <td>0.585965</td>\n",
       "      <td>112.850913</td>\n",
       "      <td>10.0</td>\n",
       "      <td>0.609583</td>\n",
       "      <td>109.966911</td>\n",
       "      <td>1.0</td>\n",
       "      <td>...</td>\n",
       "      <td>9</td>\n",
       "      <td>3</td>\n",
       "      <td>7</td>\n",
       "      <td>6</td>\n",
       "      <td>9</td>\n",
       "      <td>10</td>\n",
       "      <td>2</td>\n",
       "      <td>346</td>\n",
       "      <td>0</td>\n",
       "      <td>dikesnet</td>\n",
       "    </tr>\n",
       "    <tr>\n",
       "      <th>490</th>\n",
       "      <td>490</td>\n",
       "      <td>116</td>\n",
       "      <td>221.408402</td>\n",
       "      <td>1.0</td>\n",
       "      <td>0.881096</td>\n",
       "      <td>96.943702</td>\n",
       "      <td>1.0</td>\n",
       "      <td>0.481245</td>\n",
       "      <td>238.827274</td>\n",
       "      <td>1.0</td>\n",
       "      <td>...</td>\n",
       "      <td>9</td>\n",
       "      <td>3</td>\n",
       "      <td>7</td>\n",
       "      <td>6</td>\n",
       "      <td>9</td>\n",
       "      <td>10</td>\n",
       "      <td>2</td>\n",
       "      <td>500</td>\n",
       "      <td>0</td>\n",
       "      <td>dikesnet</td>\n",
       "    </tr>\n",
       "    <tr>\n",
       "      <th>707</th>\n",
       "      <td>707</td>\n",
       "      <td>66</td>\n",
       "      <td>349.252960</td>\n",
       "      <td>1.5</td>\n",
       "      <td>0.565601</td>\n",
       "      <td>54.489702</td>\n",
       "      <td>10.0</td>\n",
       "      <td>0.399284</td>\n",
       "      <td>266.496110</td>\n",
       "      <td>10.0</td>\n",
       "      <td>...</td>\n",
       "      <td>9</td>\n",
       "      <td>3</td>\n",
       "      <td>7</td>\n",
       "      <td>6</td>\n",
       "      <td>9</td>\n",
       "      <td>10</td>\n",
       "      <td>2</td>\n",
       "      <td>717</td>\n",
       "      <td>0</td>\n",
       "      <td>dikesnet</td>\n",
       "    </tr>\n",
       "    <tr>\n",
       "      <th>744</th>\n",
       "      <td>744</td>\n",
       "      <td>93</td>\n",
       "      <td>278.838679</td>\n",
       "      <td>10.0</td>\n",
       "      <td>0.614562</td>\n",
       "      <td>142.773376</td>\n",
       "      <td>1.0</td>\n",
       "      <td>0.447878</td>\n",
       "      <td>213.345108</td>\n",
       "      <td>1.0</td>\n",
       "      <td>...</td>\n",
       "      <td>9</td>\n",
       "      <td>3</td>\n",
       "      <td>7</td>\n",
       "      <td>6</td>\n",
       "      <td>9</td>\n",
       "      <td>10</td>\n",
       "      <td>2</td>\n",
       "      <td>754</td>\n",
       "      <td>0</td>\n",
       "      <td>dikesnet</td>\n",
       "    </tr>\n",
       "  </tbody>\n",
       "</table>\n",
       "<p>5 rows × 54 columns</p>\n",
       "</div>"
      ],
      "text/plain": [
       "     Unnamed: 0  A.0_ID flood wave shape    A.1_Bmax  A.1_Brate  A.1_pfail  \\\n",
       "106         106                       31  321.087153       10.0   0.339356   \n",
       "336         336                       78   58.368824        1.5   0.585965   \n",
       "490         490                      116  221.408402        1.0   0.881096   \n",
       "707         707                       66  349.252960        1.5   0.565601   \n",
       "744         744                       93  278.838679       10.0   0.614562   \n",
       "\n",
       "       A.2_Bmax  A.2_Brate  A.2_pfail    A.3_Bmax  A.3_Brate  ...  \\\n",
       "106   94.394245        1.5   0.251813  194.392592       10.0  ...   \n",
       "336  112.850913       10.0   0.609583  109.966911        1.0  ...   \n",
       "490   96.943702        1.0   0.481245  238.827274        1.0  ...   \n",
       "707   54.489702       10.0   0.399284  266.496110       10.0  ...   \n",
       "744  142.773376        1.0   0.447878  213.345108        1.0  ...   \n",
       "\n",
       "     A.4_DikeIncrease 0  A.4_DikeIncrease 1  A.4_DikeIncrease 2  \\\n",
       "106                   9                   3                   7   \n",
       "336                   9                   3                   7   \n",
       "490                   9                   3                   7   \n",
       "707                   9                   3                   7   \n",
       "744                   9                   3                   7   \n",
       "\n",
       "     A.5_DikeIncrease 0  A.5_DikeIncrease 1  A.5_DikeIncrease 2  \\\n",
       "106                   6                   9                  10   \n",
       "336                   6                   9                  10   \n",
       "490                   6                   9                  10   \n",
       "707                   6                   9                  10   \n",
       "744                   6                   9                  10   \n",
       "\n",
       "     EWS_DaysToThreat  scenario  policy     model  \n",
       "106                 2       116       0  dikesnet  \n",
       "336                 2       346       0  dikesnet  \n",
       "490                 2       500       0  dikesnet  \n",
       "707                 2       717       0  dikesnet  \n",
       "744                 2       754       0  dikesnet  \n",
       "\n",
       "[5 rows x 54 columns]"
      ]
     },
     "execution_count": 9,
     "metadata": {},
     "output_type": "execute_result"
    }
   ],
   "source": [
    "outcomes_of_interest.head()\n",
    "experiments_of_interest.head()"
   ]
  },
  {
   "cell_type": "markdown",
   "id": "058a5b0d-b94b-4485-92ce-d79c4d9af06f",
   "metadata": {
    "tags": []
   },
   "source": [
    "### Create Combinations "
   ]
  },
  {
   "cell_type": "code",
   "execution_count": 10,
   "id": "1009aa87",
   "metadata": {},
   "outputs": [],
   "source": [
    "n_scen = experiments.loc[y].shape[0]\n",
    "indices = range(n_scen)\n",
    "set_size = 5\n",
    "\n",
    "n_scen\n",
    "combinations = itertools.combinations(indices, set_size)\n",
    "combinations = list(combinations)"
   ]
  },
  {
   "cell_type": "code",
   "execution_count": 11,
   "id": "2e039b1d",
   "metadata": {},
   "outputs": [
    {
     "data": {
      "text/plain": [
       "75287520"
      ]
     },
     "execution_count": 11,
     "metadata": {},
     "output_type": "execute_result"
    }
   ],
   "source": [
    "len(combinations)"
   ]
  },
  {
   "cell_type": "code",
   "execution_count": 12,
   "id": "67f6bba2",
   "metadata": {},
   "outputs": [],
   "source": [
    "#Identify the most diverse scenarios \n",
    "distances = squareform(pdist(normalized_outcomes.values))\n",
    "\n",
    "cores = os.cpu_count()\n",
    "partial_function = functools.partial(find_maxdiverse_scenarios, distances)\n",
    "\n",
    "with ThreadPoolExecutor(max_workers=cores) as executor: \n",
    "    worker_data = np.array_split(combinations, cores)\n",
    "    results = [e for e in executor.map(partial_function, worker_data)]\n",
    "    results = list(itertools.chain.from_iterable(results))"
   ]
  },
  {
   "cell_type": "code",
   "execution_count": 13,
   "id": "d4273343",
   "metadata": {},
   "outputs": [
    {
     "data": {
      "text/plain": [
       "([2.188436271412426], array([14, 45, 87, 90, 91]))"
      ]
     },
     "execution_count": 13,
     "metadata": {},
     "output_type": "execute_result"
    }
   ],
   "source": [
    "results.sort(key=lambda entry:entry[0], reverse=True)\n",
    "most_diverse = results[0]\n",
    "most_diverse"
   ]
  },
  {
   "cell_type": "markdown",
   "id": "d68bfcf2-9b99-4c2a-8d69-878cee4f1e32",
   "metadata": {
    "tags": []
   },
   "source": [
    "### create scenarios "
   ]
  },
  {
   "cell_type": "code",
   "execution_count": 14,
   "id": "98427f5d",
   "metadata": {},
   "outputs": [],
   "source": [
    "selected = experiments.loc[most_diverse[1], ['A.0_ID flood wave shape', 'A.1_Bmax', 'A.1_Brate', 'A.1_pfail',\n",
    "       'A.2_Bmax', 'A.2_Brate', 'A.2_pfail', 'A.3_Bmax', 'A.3_Brate',\n",
    "       'A.3_pfail', 'A.4_Bmax', 'A.4_Brate', 'A.4_pfail', 'A.5_Bmax',\n",
    "       'A.5_Brate', 'A.5_pfail', 'discount rate 0', 'discount rate 1',\n",
    "       'discount rate 2', '0_RfR 0', '0_RfR 1', '0_RfR 2', '1_RfR 0',\n",
    "       '1_RfR 1', '1_RfR 2', '2_RfR 0', '2_RfR 1', '2_RfR 2', '3_RfR 0',\n",
    "       '3_RfR 1', '3_RfR 2', '4_RfR 0', '4_RfR 1', '4_RfR 2',\n",
    "       'A.1_DikeIncrease 0', 'A.1_DikeIncrease 1', 'A.1_DikeIncrease 2',\n",
    "       'A.2_DikeIncrease 0', 'A.2_DikeIncrease 1', 'A.2_DikeIncrease 2',\n",
    "       'A.3_DikeIncrease 0', 'A.3_DikeIncrease 1', 'A.3_DikeIncrease 2',\n",
    "       'A.4_DikeIncrease 0', 'A.4_DikeIncrease 1', 'A.4_DikeIncrease 2',\n",
    "       'A.5_DikeIncrease 0', 'A.5_DikeIncrease 1', 'A.5_DikeIncrease 2',\n",
    "       'EWS_DaysToThreat', 'scenario', 'policy', 'model']]\n",
    "scenarios = [Scenario(f\"{index}\", **row) for index, row in selected.iterrows()]"
   ]
  },
  {
   "cell_type": "code",
   "execution_count": 15,
   "id": "f4eea637-f18a-4c44-8e87-64940ab09de3",
   "metadata": {},
   "outputs": [],
   "source": [
    "keys_policies = ['0_RfR 0', '0_RfR 1', '0_RfR 2', '1_RfR 0', '1_RfR 1', '1_RfR 2', \n",
    "               '2_RfR 0', '2_RfR 1', '2_RfR 2', '3_RfR 0', '3_RfR 1', '3_RfR 2', '4_RfR 0', \n",
    "               '4_RfR 1', '4_RfR 2', 'A.1_DikeIncrease 0', 'A.1_DikeIncrease 1', 'A.1_DikeIncrease 2', \n",
    "              'A.2_DikeIncrease 0', 'A.2_DikeIncrease 1', 'A.2_DikeIncrease 2', 'A.3_DikeIncrease 0', \n",
    "              'A.3_DikeIncrease 1', 'A.3_DikeIncrease 2', 'A.4_DikeIncrease 0', 'A.4_DikeIncrease 1', \n",
    "              'A.4_DikeIncrease 2', 'A.5_DikeIncrease 0', 'A.5_DikeIncrease 1', 'A.5_DikeIncrease 2', \n",
    "              'EWS_DaysToThreat', 'scenario', 'policy','model']"
   ]
  },
  {
   "cell_type": "code",
   "execution_count": 16,
   "id": "1c81fa6e-dc34-48eb-9694-65046189f864",
   "metadata": {
    "collapsed": true,
    "jupyter": {
     "outputs_hidden": true
    },
    "tags": []
   },
   "outputs": [
    {
     "data": {
      "text/plain": [
       "[Scenario({'A.0_ID flood wave shape': 22, 'A.1_Bmax': 181.16308821650483, 'A.1_Brate': 10.0, 'A.1_pfail': 0.5104251476977022, 'A.2_Bmax': 220.68878105905995, 'A.2_Brate': 10.0, 'A.2_pfail': 0.9786011735583656, 'A.3_Bmax': 218.1638917684424, 'A.3_Brate': 10.0, 'A.3_pfail': 0.4522507725200962, 'A.4_Bmax': 64.98261769390427, 'A.4_Brate': 1.0, 'A.4_pfail': 0.3837234873535599, 'A.5_Bmax': 167.88086310933343, 'A.5_Brate': 10.0, 'A.5_pfail': 0.1323735408571761, 'discount rate 0': 1.5, 'discount rate 1': 4.5, 'discount rate 2': 2.5}),\n",
       " Scenario({'A.0_ID flood wave shape': 117, 'A.1_Bmax': 242.9528297674285, 'A.1_Brate': 10.0, 'A.1_pfail': 0.4452023806799587, 'A.2_Bmax': 203.71891394602457, 'A.2_Brate': 1.0, 'A.2_pfail': 0.1579972966826894, 'A.3_Bmax': 85.60140905242505, 'A.3_Brate': 1.5, 'A.3_pfail': 0.3231152824709321, 'A.4_Bmax': 335.1887778239524, 'A.4_Brate': 1.0, 'A.4_pfail': 0.5415761667050393, 'A.5_Bmax': 30.373332625601503, 'A.5_Brate': 1.0, 'A.5_pfail': 0.4619960275175704, 'discount rate 0': 2.5, 'discount rate 1': 3.5, 'discount rate 2': 3.5}),\n",
       " Scenario({'A.0_ID flood wave shape': 1, 'A.1_Bmax': 79.68499619904976, 'A.1_Brate': 1.0, 'A.1_pfail': 0.8582479021448746, 'A.2_Bmax': 135.90095280273425, 'A.2_Brate': 10.0, 'A.2_pfail': 0.9850852112182784, 'A.3_Bmax': 310.6741727704457, 'A.3_Brate': 10.0, 'A.3_pfail': 0.9530799808966872, 'A.4_Bmax': 213.13665237800652, 'A.4_Brate': 1.5, 'A.4_pfail': 0.5648738649381646, 'A.5_Bmax': 166.25257461046442, 'A.5_Brate': 1.0, 'A.5_pfail': 0.8649634895140713, 'discount rate 0': 1.5, 'discount rate 1': 4.5, 'discount rate 2': 4.5}),\n",
       " Scenario({'A.0_ID flood wave shape': 101, 'A.1_Bmax': 309.8344853180444, 'A.1_Brate': 10.0, 'A.1_pfail': 0.4788628445932459, 'A.2_Bmax': 339.6199544609848, 'A.2_Brate': 1.0, 'A.2_pfail': 0.6080738526358137, 'A.3_Bmax': 137.97111569244083, 'A.3_Brate': 1.5, 'A.3_pfail': 0.0017962628418218, 'A.4_Bmax': 45.24229693509187, 'A.4_Brate': 10.0, 'A.4_pfail': 0.4735123979870804, 'A.5_Bmax': 296.41323643711473, 'A.5_Brate': 1.5, 'A.5_pfail': 0.011785277568704, 'discount rate 0': 4.5, 'discount rate 1': 2.5, 'discount rate 2': 3.5}),\n",
       " Scenario({'A.0_ID flood wave shape': 106, 'A.1_Bmax': 249.4846270889405, 'A.1_Brate': 10.0, 'A.1_pfail': 0.6612945323442119, 'A.2_Bmax': 78.74878428858054, 'A.2_Brate': 10.0, 'A.2_pfail': 0.4380083684708462, 'A.3_Bmax': 65.12771542404141, 'A.3_Brate': 1.5, 'A.3_pfail': 0.5154844288969587, 'A.4_Bmax': 345.5313015266089, 'A.4_Brate': 10.0, 'A.4_pfail': 0.2560097778585071, 'A.5_Bmax': 111.6377675026396, 'A.5_Brate': 10.0, 'A.5_pfail': 0.72621572837228, 'discount rate 0': 3.5, 'discount rate 1': 2.5, 'discount rate 2': 4.5})]"
      ]
     },
     "execution_count": 16,
     "metadata": {},
     "output_type": "execute_result"
    }
   ],
   "source": [
    "#create dictionary with only the uncertainties \n",
    "for i in range(0,5):\n",
    "    entries_to_remove(keys_policies, scenarios[i]) \n",
    "\n",
    "scenarios"
   ]
  },
  {
   "cell_type": "code",
   "execution_count": 17,
   "id": "e290ce5b-6bef-4a6d-9820-602e9a86673c",
   "metadata": {},
   "outputs": [],
   "source": [
    "df_scenarios = pd.DataFrame(scenarios) \n",
    "df_scenarios.to_csv(\"scenarios_100_s1000_p10.csv\") "
   ]
  },
  {
   "cell_type": "markdown",
   "id": "642ea2dc",
   "metadata": {},
   "source": [
    "# Mordm Run "
   ]
  },
  {
   "cell_type": "markdown",
   "id": "a6ef873f-6526-49a6-aed4-0e6cf49e400e",
   "metadata": {
    "tags": []
   },
   "source": [
    "### Hypervolume determination "
   ]
  },
  {
   "cell_type": "code",
   "execution_count": 18,
   "id": "d5788f19-dbea-4f0d-9e04-ee43dc299655",
   "metadata": {},
   "outputs": [],
   "source": [
    "#running the model through EMA workbench\n",
    "ema_logging.log_to_stderr(ema_logging.INFO)\n",
    "\n",
    "#choose problem formulation number, between 0-5\n",
    "#each problem formulation has its own list of outcomes\n",
    "dike_model, planning_steps = get_model_for_problem_formulation(3) "
   ]
  },
  {
   "cell_type": "code",
   "execution_count": 28,
   "id": "2cdeecc8-ca77-4fe7-afac-3a88b793d452",
   "metadata": {},
   "outputs": [],
   "source": [
    "start_seq_hyp = time.time()"
   ]
  },
  {
   "cell_type": "code",
   "execution_count": null,
   "id": "aa601d25",
   "metadata": {
    "tags": []
   },
   "outputs": [
    {
     "name": "stderr",
     "output_type": "stream",
     "text": [
      "\n",
      "  0%|                                                | 0/10000 [00:00<?, ?it/s]\u001b[A\n",
      "  1%|▍                                     | 100/10000 [00:28<46:58,  3.51it/s]\u001b[A\n",
      "  2%|▊                                     | 199/10000 [00:57<47:22,  3.45it/s]\u001b[A\n",
      "  3%|█▏                                    | 299/10000 [01:27<47:53,  3.38it/s]\u001b[A\n",
      "  4%|█▌                                    | 399/10000 [01:58<48:05,  3.33it/s]\u001b[A\n",
      "  5%|█▉                                    | 498/10000 [02:29<48:17,  3.28it/s]\u001b[A\n",
      "  6%|██▎                                   | 598/10000 [03:01<48:39,  3.22it/s]\u001b[A\n",
      "  7%|██▋                                   | 698/10000 [03:35<49:27,  3.13it/s]\u001b[A\n",
      "  8%|███                                   | 798/10000 [04:08<49:46,  3.08it/s]\u001b[A\n",
      "  9%|███▍                                  | 898/10000 [04:41<49:05,  3.09it/s]\u001b[A\n",
      " 10%|███▊                                  | 998/10000 [05:13<48:28,  3.10it/s]\u001b[A\n",
      " 11%|████                                 | 1098/10000 [05:45<47:55,  3.10it/s]\u001b[A\n",
      " 12%|████▍                                | 1198/10000 [06:18<47:28,  3.09it/s]\u001b[A\n",
      " 13%|████▊                                | 1298/10000 [06:50<47:09,  3.08it/s]\u001b[A\n",
      " 14%|█████▏                               | 1398/10000 [07:23<46:42,  3.07it/s]\u001b[A\n",
      " 15%|█████▌                               | 1498/10000 [07:56<46:17,  3.06it/s]\u001b[A\n",
      " 16%|█████▉                               | 1595/10000 [08:28<46:03,  3.04it/s]\u001b[A\n",
      " 17%|██████▎                              | 1695/10000 [09:01<45:29,  3.04it/s]\u001b[A\n",
      " 18%|██████▋                              | 1795/10000 [09:34<44:59,  3.04it/s]\u001b[A\n",
      " 19%|███████                              | 1894/10000 [10:07<44:39,  3.03it/s]\u001b[A\n",
      " 20%|███████▎                             | 1993/10000 [10:42<44:43,  2.98it/s]\u001b[A\n",
      " 21%|███████▋                             | 2093/10000 [11:15<44:11,  2.98it/s]\u001b[A\n",
      " 22%|████████                             | 2193/10000 [11:49<43:54,  2.96it/s]\u001b[A\n",
      " 23%|████████▍                            | 2293/10000 [12:23<43:13,  2.97it/s]\u001b[A\n",
      " 24%|████████▊                            | 2393/10000 [12:56<42:37,  2.97it/s]\u001b[A\n",
      " 25%|█████████▏                           | 2493/10000 [13:30<41:57,  2.98it/s]\u001b[A\n",
      " 26%|█████████▌                           | 2593/10000 [14:03<41:22,  2.98it/s]\u001b[A\n",
      " 27%|█████████▉                           | 2691/10000 [14:36<40:58,  2.97it/s]\u001b[A\n",
      " 28%|██████████▎                          | 2791/10000 [15:10<40:21,  2.98it/s]\u001b[A\n",
      " 29%|██████████▋                          | 2891/10000 [15:43<39:44,  2.98it/s]\u001b[A\n",
      " 30%|███████████                          | 2991/10000 [16:17<39:11,  2.98it/s]\u001b[A\n",
      " 31%|███████████▍                         | 3091/10000 [16:51<38:39,  2.98it/s]\u001b[A\n",
      " 32%|███████████▊                         | 3191/10000 [17:24<38:08,  2.98it/s]\u001b[A\n",
      " 33%|████████████▏                        | 3290/10000 [17:59<37:56,  2.95it/s]\u001b[A\n",
      " 34%|████████████▌                        | 3390/10000 [18:32<37:18,  2.95it/s]\u001b[A\n",
      " 35%|████████████▉                        | 3490/10000 [19:06<36:40,  2.96it/s]\u001b[A\n",
      " 36%|█████████████▎                       | 3590/10000 [19:40<36:06,  2.96it/s]\u001b[A\n",
      " 37%|█████████████▋                       | 3690/10000 [20:14<35:34,  2.96it/s]\u001b[A\n",
      " 38%|██████████████                       | 3790/10000 [20:48<35:06,  2.95it/s]\u001b[A\n",
      " 39%|██████████████▍                      | 3890/10000 [21:22<34:33,  2.95it/s]\u001b[A\n",
      " 40%|██████████████▊                      | 3990/10000 [21:56<33:59,  2.95it/s]\u001b[A\n",
      " 41%|███████████████▏                     | 4090/10000 [22:30<33:26,  2.95it/s]\u001b[A\n",
      " 42%|███████████████▌                     | 4190/10000 [23:04<32:53,  2.94it/s]\u001b[A\n",
      " 43%|███████████████▊                     | 4290/10000 [23:38<32:24,  2.94it/s]\u001b[A\n",
      " 44%|████████████████▏                    | 4390/10000 [24:13<32:10,  2.91it/s]\u001b[A\n",
      " 45%|████████████████▌                    | 4490/10000 [24:47<31:33,  2.91it/s]\u001b[A\n",
      " 46%|████████████████▉                    | 4590/10000 [25:22<30:55,  2.92it/s]\u001b[A\n",
      " 47%|█████████████████▎                   | 4690/10000 [25:56<30:21,  2.92it/s]\u001b[A\n",
      " 48%|█████████████████▋                   | 4790/10000 [26:30<29:44,  2.92it/s]\u001b[A\n",
      " 49%|██████████████████                   | 4890/10000 [27:04<29:11,  2.92it/s]\u001b[A\n",
      " 50%|██████████████████▍                  | 4990/10000 [27:39<28:40,  2.91it/s]\u001b[A\n",
      " 51%|██████████████████▊                  | 5090/10000 [28:13<28:07,  2.91it/s]\u001b[A\n",
      " 52%|███████████████████▏                 | 5190/10000 [28:48<27:33,  2.91it/s]\u001b[A\n",
      " 53%|███████████████████▌                 | 5290/10000 [29:22<27:00,  2.91it/s]\u001b[A\n",
      " 54%|███████████████████▉                 | 5390/10000 [29:56<26:25,  2.91it/s]\u001b[A\n",
      " 55%|████████████████████▎                | 5487/10000 [30:30<26:00,  2.89it/s]\u001b[A\n",
      " 56%|████████████████████▋                | 5587/10000 [31:05<25:23,  2.90it/s]\u001b[A\n",
      " 57%|█████████████████████                | 5687/10000 [31:39<24:49,  2.90it/s]\u001b[A\n",
      " 58%|█████████████████████▍               | 5785/10000 [32:14<24:23,  2.88it/s]\u001b[A\n",
      " 59%|█████████████████████▊               | 5885/10000 [32:48<23:46,  2.89it/s]\u001b[A\n",
      " 60%|██████████████████████▏              | 5985/10000 [33:23<23:10,  2.89it/s]\u001b[A\n",
      " 61%|██████████████████████▌              | 6085/10000 [33:58<22:37,  2.88it/s]\u001b[A\n",
      " 62%|██████████████████████▉              | 6185/10000 [34:33<22:09,  2.87it/s]\u001b[A\n",
      " 63%|███████████████████████▎             | 6285/10000 [35:08<21:33,  2.87it/s]\u001b[A\n",
      " 64%|███████████████████████▌             | 6385/10000 [35:43<21:02,  2.86it/s]\u001b[A\n",
      " 65%|███████████████████████▉             | 6485/10000 [36:19<20:38,  2.84it/s]\u001b[A\n",
      " 66%|████████████████████████▎            | 6585/10000 [36:55<20:13,  2.81it/s]\u001b[A\n",
      " 67%|████████████████████████▋            | 6685/10000 [37:32<19:56,  2.77it/s]\u001b[A\n",
      " 68%|█████████████████████████            | 6785/10000 [38:08<19:10,  2.79it/s]\u001b[A\n",
      " 69%|█████████████████████████▍           | 6885/10000 [38:43<18:29,  2.81it/s]\u001b[A\n",
      " 70%|█████████████████████████▊           | 6985/10000 [39:18<17:49,  2.82it/s]\u001b[A\n",
      " 71%|██████████████████████████▏          | 7085/10000 [39:53<17:12,  2.82it/s]\u001b[A\n",
      " 72%|██████████████████████████▌          | 7185/10000 [40:29<16:36,  2.83it/s]\u001b[A\n",
      " 73%|██████████████████████████▉          | 7285/10000 [41:04<16:03,  2.82it/s]\u001b[A\n",
      " 74%|███████████████████████████▎         | 7385/10000 [41:43<15:50,  2.75it/s]\u001b[A\n",
      " 75%|███████████████████████████▋         | 7484/10000 [42:19<15:20,  2.73it/s]\u001b[A\n",
      " 76%|████████████████████████████         | 7582/10000 [42:54<14:38,  2.75it/s]\u001b[A\n",
      " 77%|████████████████████████████▍        | 7682/10000 [43:30<13:54,  2.78it/s]\u001b[A\n",
      " 78%|████████████████████████████▊        | 7782/10000 [44:05<13:14,  2.79it/s]\u001b[A\n",
      " 79%|█████████████████████████████▏       | 7882/10000 [44:40<12:35,  2.80it/s]\u001b[A\n",
      " 80%|█████████████████████████████▌       | 7980/10000 [45:19<12:25,  2.71it/s]\u001b[A\n",
      " 81%|█████████████████████████████▉       | 8080/10000 [45:58<11:58,  2.67it/s]\u001b[A\n",
      " 82%|██████████████████████████████▎      | 8180/10000 [46:38<11:34,  2.62it/s]\u001b[A\n",
      " 83%|██████████████████████████████▋      | 8280/10000 [47:16<10:53,  2.63it/s]\u001b[A\n",
      " 84%|███████████████████████████████      | 8380/10000 [47:52<10:06,  2.67it/s]\u001b[A\n",
      " 85%|███████████████████████████████▍     | 8480/10000 [48:28<09:25,  2.69it/s]\u001b[A\n",
      " 86%|███████████████████████████████▋     | 8580/10000 [49:04<08:39,  2.73it/s]\u001b[A\n",
      " 87%|████████████████████████████████     | 8680/10000 [49:38<07:55,  2.77it/s]\u001b[A\n",
      " 88%|████████████████████████████████▍    | 8779/10000 [50:13<07:18,  2.79it/s]\u001b[A\n",
      " 89%|████████████████████████████████▊    | 8878/10000 [50:52<06:51,  2.72it/s]\u001b[A\n",
      " 90%|█████████████████████████████████▏   | 8978/10000 [51:28<06:13,  2.73it/s]\u001b[A\n",
      " 91%|█████████████████████████████████▌   | 9078/10000 [52:04<05:35,  2.75it/s]\u001b[A\n",
      " 92%|█████████████████████████████████▉   | 9178/10000 [52:41<05:00,  2.74it/s]\u001b[A\n",
      " 93%|██████████████████████████████████▎  | 9276/10000 [53:17<04:25,  2.73it/s]\u001b[A\n",
      " 94%|██████████████████████████████████▋  | 9376/10000 [53:57<03:54,  2.66it/s]\u001b[A\n",
      " 95%|███████████████████████████████████  | 9476/10000 [54:35<03:17,  2.65it/s]\u001b[A\n",
      " 96%|███████████████████████████████████▍ | 9576/10000 [55:12<02:39,  2.66it/s]\u001b[A\n",
      " 97%|███████████████████████████████████▊ | 9676/10000 [55:51<02:03,  2.62it/s]\u001b[A\n",
      " 98%|████████████████████████████████████▏| 9774/10000 [56:31<01:27,  2.58it/s]\u001b[A\n",
      " 99%|████████████████████████████████████▌| 9874/10000 [57:09<00:48,  2.59it/s]\u001b[A\n",
      "100%|████████████████████████████████████▉| 9972/10000 [57:48<00:10,  2.57it/s]\u001b[A\n",
      "10072it [58:29,  2.87it/s]                                                     \u001b[A\n",
      "[MainProcess/INFO] optimization completed, found 2695 solutions\n",
      "\n",
      "  0%|                                                | 0/10000 [00:00<?, ?it/s]\u001b[A\n",
      "  1%|▍                                     | 100/10000 [00:35<58:55,  2.80it/s]\u001b[A\n",
      "  2%|▊                                     | 200/10000 [01:12<59:04,  2.76it/s]\u001b[A\n",
      "  3%|█                                   | 300/10000 [01:50<1:00:15,  2.68it/s]\u001b[A\n",
      "  4%|█▍                                  | 399/10000 [02:29<1:00:34,  2.64it/s]\u001b[A\n",
      "  5%|█▊                                  | 499/10000 [03:07<1:00:15,  2.63it/s]\u001b[A\n",
      "  6%|██▎                                   | 598/10000 [03:43<58:44,  2.67it/s]\u001b[A\n",
      "  7%|██▋                                   | 697/10000 [04:19<57:21,  2.70it/s]\u001b[A\n",
      "  8%|███                                   | 797/10000 [04:54<56:05,  2.73it/s]\u001b[A\n",
      "  9%|███▍                                  | 897/10000 [05:30<55:09,  2.75it/s]\u001b[A\n",
      " 10%|███▊                                  | 997/10000 [06:06<54:18,  2.76it/s]\u001b[A\n",
      " 11%|████                                 | 1097/10000 [06:42<53:31,  2.77it/s]\u001b[A\n",
      " 12%|████▍                                | 1195/10000 [07:17<52:56,  2.77it/s]\u001b[A\n",
      " 13%|████▊                                | 1293/10000 [07:52<52:12,  2.78it/s]\u001b[A\n",
      " 14%|█████▏                               | 1393/10000 [08:28<51:26,  2.79it/s]\u001b[A\n",
      " 15%|█████▌                               | 1493/10000 [09:04<50:53,  2.79it/s]\u001b[A\n",
      " 16%|█████▉                               | 1593/10000 [09:42<51:26,  2.72it/s]\u001b[A\n",
      " 17%|██████▎                              | 1693/10000 [10:20<51:10,  2.71it/s]\u001b[A\n",
      " 18%|██████▋                              | 1792/10000 [10:57<50:47,  2.69it/s]\u001b[A\n",
      " 19%|███████                              | 1892/10000 [11:34<50:14,  2.69it/s]\u001b[A\n",
      " 20%|███████▎                             | 1990/10000 [12:13<50:35,  2.64it/s]\u001b[A\n",
      " 21%|███████▋                             | 2090/10000 [12:50<49:35,  2.66it/s]\u001b[A\n",
      " 22%|████████                             | 2190/10000 [13:31<50:17,  2.59it/s]\u001b[A\n",
      " 23%|████████▍                            | 2290/10000 [14:08<49:04,  2.62it/s]\u001b[A\n",
      " 24%|████████▊                            | 2390/10000 [14:44<47:36,  2.66it/s]\u001b[A\n",
      " 25%|█████████▏                           | 2489/10000 [15:19<46:05,  2.72it/s]\u001b[A\n",
      " 26%|█████████▌                           | 2589/10000 [15:54<44:44,  2.76it/s]\u001b[A\n",
      " 27%|█████████▉                           | 2687/10000 [16:28<43:46,  2.78it/s]\u001b[A\n",
      " 28%|██████████▎                          | 2787/10000 [17:03<42:44,  2.81it/s]\u001b[A\n",
      " 29%|██████████▋                          | 2887/10000 [17:38<41:55,  2.83it/s]\u001b[A\n",
      " 30%|███████████                          | 2987/10000 [18:13<41:08,  2.84it/s]\u001b[A\n",
      " 31%|███████████▍                         | 3087/10000 [18:48<40:28,  2.85it/s]\u001b[A\n",
      " 32%|███████████▊                         | 3187/10000 [19:23<39:47,  2.85it/s]\u001b[A\n",
      " 33%|████████████▏                        | 3286/10000 [19:57<39:10,  2.86it/s]\u001b[A\n",
      " 34%|████████████▌                        | 3386/10000 [20:32<38:33,  2.86it/s]\u001b[A\n",
      " 35%|████████████▉                        | 3486/10000 [21:07<37:54,  2.86it/s]\u001b[A\n",
      " 36%|█████████████▎                       | 3586/10000 [21:42<37:19,  2.86it/s]\u001b[A\n",
      " 37%|█████████████▋                       | 3685/10000 [22:17<36:49,  2.86it/s]\u001b[A\n",
      " 38%|██████████████                       | 3785/10000 [22:52<36:14,  2.86it/s]\u001b[A\n",
      " 39%|██████████████▎                      | 3885/10000 [23:27<35:36,  2.86it/s]\u001b[A\n",
      " 40%|██████████████▋                      | 3985/10000 [24:01<34:58,  2.87it/s]\u001b[A\n",
      " 41%|███████████████                      | 4085/10000 [24:36<34:20,  2.87it/s]\u001b[A\n",
      " 42%|███████████████▍                     | 4185/10000 [25:11<33:41,  2.88it/s]\u001b[A\n",
      " 43%|███████████████▊                     | 4284/10000 [25:45<33:12,  2.87it/s]\u001b[A\n",
      " 44%|████████████████▏                    | 4384/10000 [26:20<32:40,  2.86it/s]\u001b[A\n",
      " 45%|████████████████▌                    | 4484/10000 [26:55<32:08,  2.86it/s]\u001b[A\n",
      " 46%|████████████████▉                    | 4583/10000 [27:31<31:49,  2.84it/s]\u001b[A\n",
      " 47%|█████████████████▎                   | 4682/10000 [28:07<31:25,  2.82it/s]\u001b[A\n",
      " 48%|█████████████████▋                   | 4782/10000 [28:42<30:56,  2.81it/s]\u001b[A\n",
      " 49%|██████████████████                   | 4880/10000 [29:18<30:29,  2.80it/s]\u001b[A\n",
      " 50%|██████████████████▍                  | 4980/10000 [29:54<29:53,  2.80it/s]\u001b[A\n",
      " 51%|██████████████████▊                  | 5079/10000 [30:29<29:22,  2.79it/s]\u001b[A\n",
      " 52%|███████████████████▏                 | 5178/10000 [31:05<28:53,  2.78it/s]\u001b[A\n",
      " 53%|███████████████████▌                 | 5278/10000 [31:41<28:22,  2.77it/s]\u001b[A\n",
      " 54%|███████████████████▉                 | 5378/10000 [32:18<27:49,  2.77it/s]\u001b[A\n",
      " 55%|████████████████████▎                | 5478/10000 [32:54<27:14,  2.77it/s]\u001b[A\n",
      " 56%|████████████████████▋                | 5578/10000 [33:30<26:39,  2.76it/s]\u001b[A\n",
      " 57%|█████████████████████                | 5678/10000 [34:06<26:06,  2.76it/s]\u001b[A\n",
      " 58%|█████████████████████▍               | 5778/10000 [34:43<25:37,  2.75it/s]\u001b[A\n",
      " 59%|█████████████████████▋               | 5877/10000 [35:20<25:05,  2.74it/s]\u001b[A\n",
      " 60%|██████████████████████               | 5977/10000 [35:56<24:31,  2.73it/s]\u001b[A\n",
      " 61%|██████████████████████▍              | 6077/10000 [36:33<23:54,  2.74it/s]\u001b[A\n",
      " 62%|██████████████████████▊              | 6176/10000 [37:09<23:16,  2.74it/s]\u001b[A\n",
      " 63%|███████████████████████▏             | 6275/10000 [37:45<22:40,  2.74it/s]\u001b[A\n",
      " 64%|███████████████████████▌             | 6375/10000 [38:22<22:10,  2.73it/s]\u001b[A\n",
      " 65%|███████████████████████▉             | 6473/10000 [39:00<21:50,  2.69it/s]\u001b[A\n",
      " 66%|████████████████████████▎            | 6572/10000 [39:36<21:04,  2.71it/s]\u001b[A\n",
      " 67%|████████████████████████▋            | 6672/10000 [40:13<20:35,  2.69it/s]\u001b[A\n",
      " 68%|█████████████████████████            | 6770/10000 [40:49<19:52,  2.71it/s]\u001b[A\n",
      " 69%|█████████████████████████▍           | 6870/10000 [41:27<19:21,  2.70it/s]\u001b[A\n",
      " 70%|█████████████████████████▊           | 6969/10000 [42:03<18:40,  2.71it/s]\u001b[A\n",
      " 71%|██████████████████████████▏          | 7069/10000 [42:37<17:41,  2.76it/s]\u001b[A\n",
      " 72%|██████████████████████████▌          | 7169/10000 [43:13<17:00,  2.77it/s]\u001b[A\n",
      " 73%|██████████████████████████▉          | 7268/10000 [43:48<16:21,  2.78it/s]\u001b[A\n",
      " 74%|███████████████████████████▎         | 7368/10000 [44:24<15:43,  2.79it/s]\u001b[A\n",
      " 75%|███████████████████████████▌         | 7466/10000 [45:00<15:16,  2.76it/s]\u001b[A\n",
      " 76%|███████████████████████████▉         | 7566/10000 [45:37<14:44,  2.75it/s]\u001b[A\n",
      " 77%|████████████████████████████▎        | 7664/10000 [46:12<14:03,  2.77it/s]\u001b[A\n",
      " 78%|████████████████████████████▋        | 7762/10000 [46:47<13:25,  2.78it/s]\u001b[A\n",
      " 79%|█████████████████████████████        | 7862/10000 [47:23<12:48,  2.78it/s]\u001b[A\n",
      " 80%|█████████████████████████████▍       | 7962/10000 [47:59<12:13,  2.78it/s]\u001b[A\n",
      " 81%|█████████████████████████████▊       | 8062/10000 [48:35<11:41,  2.76it/s]\u001b[A\n",
      " 82%|██████████████████████████████▏      | 8162/10000 [49:11<11:05,  2.76it/s]\u001b[A\n",
      " 83%|██████████████████████████████▌      | 8262/10000 [49:49<10:33,  2.74it/s]\u001b[A\n",
      " 84%|██████████████████████████████▉      | 8362/10000 [50:26<10:02,  2.72it/s]\u001b[A\n",
      " 85%|███████████████████████████████▎     | 8461/10000 [51:03<09:29,  2.70it/s]\u001b[A\n",
      " 86%|███████████████████████████████▋     | 8561/10000 [51:41<08:55,  2.69it/s]\u001b[A\n",
      " 87%|████████████████████████████████     | 8661/10000 [52:19<08:21,  2.67it/s]\u001b[A\n",
      " 88%|████████████████████████████████▍    | 8761/10000 [52:57<07:47,  2.65it/s]\u001b[A\n",
      " 89%|████████████████████████████████▊    | 8861/10000 [53:37<07:15,  2.62it/s]\u001b[A\n",
      " 90%|█████████████████████████████████▏   | 8961/10000 [54:15<06:37,  2.61it/s]\u001b[A\n",
      " 91%|█████████████████████████████████▌   | 9061/10000 [54:53<05:58,  2.62it/s]\u001b[A\n",
      " 92%|█████████████████████████████████▉   | 9159/10000 [55:31<05:22,  2.60it/s]\u001b[A\n",
      " 93%|██████████████████████████████████▎  | 9259/10000 [56:09<04:44,  2.61it/s]\u001b[A\n",
      " 94%|██████████████████████████████████▋  | 9359/10000 [56:48<04:05,  2.61it/s]\u001b[A\n",
      " 95%|██████████████████████████████████▉  | 9459/10000 [57:26<03:27,  2.60it/s]\u001b[A\n",
      " 96%|███████████████████████████████████▎ | 9559/10000 [58:05<02:50,  2.59it/s]\u001b[A\n",
      " 97%|███████████████████████████████████▋ | 9658/10000 [58:44<02:12,  2.59it/s]\u001b[A\n",
      " 98%|████████████████████████████████████ | 9758/10000 [59:21<01:32,  2.61it/s]\u001b[A\n",
      " 99%|████████████████████████████████████▍| 9856/10000 [59:58<00:54,  2.62it/s]\u001b[A\n",
      "100%|██████████████████████████████████▊| 9956/10000 [1:00:36<00:16,  2.62it/s]\u001b[A"
     ]
    }
   ],
   "source": [
    "results = []\n",
    "nfes = 1e4 \n",
    "\n",
    "for scenario in scenarios:\n",
    "    convergence_metrics = [HyperVolume(minimum=[0,]*len(dike_model.outcomes), \n",
    "                                       maximum=[1000,]*len(dike_model.outcomes)),\n",
    "                           EpsilonProgress()]\n",
    "    epsilons = [0.1,]*len(dike_model.outcomes)\n",
    "    \n",
    "    results.append(optimize(scenario, nfes, dike_model, convergence_metrics, epsilons))"
   ]
  },
  {
   "cell_type": "code",
   "execution_count": null,
   "id": "6dbe574f-7b3a-483e-9dde-71af710665a3",
   "metadata": {},
   "outputs": [],
   "source": [
    "end_seq_hyp = time.time()\n",
    "time_hyp = end_seq_hyp - start_seq_hyp\n",
    "print(time_hyp) "
   ]
  },
  {
   "cell_type": "code",
   "execution_count": 22,
   "id": "d375c3db-a627-4686-9f75-55aab3c92e4b",
   "metadata": {
    "collapsed": true,
    "jupyter": {
     "outputs_hidden": true
    },
    "tags": []
   },
   "outputs": [
    {
     "data": {
      "text/plain": [
       "[(      0_RfR 0  0_RfR 1  0_RfR 2  1_RfR 0  1_RfR 1  1_RfR 2  2_RfR 0  2_RfR 1  \\\n",
       "  0           0        0        0        1        0        0        0        0   \n",
       "  1           1        1        0        0        1        0        1        1   \n",
       "  2           0        1        1        0        0        1        1        1   \n",
       "  3           0        1        0        0        0        0        1        0   \n",
       "  4           0        0        0        1        0        1        0        0   \n",
       "  ...       ...      ...      ...      ...      ...      ...      ...      ...   \n",
       "  2720        0        0        0        0        0        0        0        0   \n",
       "  2721        0        0        0        0        0        0        0        0   \n",
       "  2722        1        0        0        1        1        1        0        0   \n",
       "  2723        1        0        0        0        1        0        0        0   \n",
       "  2724        0        0        0        0        0        0        0        0   \n",
       "  \n",
       "        2_RfR 2  3_RfR 0  ...  A.3_Dike Investment Costs  \\\n",
       "  0           0        1  ...               9.016072e+07   \n",
       "  1           1        1  ...               7.394612e+07   \n",
       "  2           1        1  ...               1.218384e+08   \n",
       "  3           1        0  ...               1.127236e+08   \n",
       "  4           0        0  ...               9.017203e+07   \n",
       "  ...       ...      ...  ...                        ...   \n",
       "  2720        0        0  ...               6.226744e+07   \n",
       "  2721        0        0  ...               1.146802e+08   \n",
       "  2722        0        0  ...               2.216782e+07   \n",
       "  2723        0        0  ...               1.296633e+08   \n",
       "  2724        0        0  ...               9.336986e+07   \n",
       "  \n",
       "        A.3_Expected Number of Deaths  A.4_Expected Annual Damage  \\\n",
       "  0                          0.000000                0.000000e+00   \n",
       "  1                          0.001232                1.227901e+06   \n",
       "  2                          0.000000                0.000000e+00   \n",
       "  3                          0.000000                0.000000e+00   \n",
       "  4                          0.000265                0.000000e+00   \n",
       "  ...                             ...                         ...   \n",
       "  2720                       0.000000                1.134769e+07   \n",
       "  2721                       0.000000                0.000000e+00   \n",
       "  2722                       0.220635                0.000000e+00   \n",
       "  2723                       0.000000                7.545335e+06   \n",
       "  2724                       0.011028                0.000000e+00   \n",
       "  \n",
       "        A.4_Dike Investment Costs  A.4_Expected Number of Deaths  \\\n",
       "  0                  4.472502e+07                       0.000000   \n",
       "  1                  2.956188e+07                       0.000061   \n",
       "  2                  2.235621e+07                       0.000000   \n",
       "  3                  4.202662e+07                       0.000000   \n",
       "  4                  2.793940e+07                       0.000000   \n",
       "  ...                         ...                            ...   \n",
       "  2720               0.000000e+00                       0.005380   \n",
       "  2721               6.858454e+07                       0.000000   \n",
       "  2722               3.208695e+07                       0.000000   \n",
       "  2723               1.106877e+07                       0.001315   \n",
       "  2724               2.543379e+07                       0.000000   \n",
       "  \n",
       "        A.5_Expected Annual Damage  A.5_Dike Investment Costs  \\\n",
       "  0                   5.126274e+07               8.438415e+07   \n",
       "  1                   8.172632e+06               1.438453e+08   \n",
       "  2                   0.000000e+00               1.561659e+08   \n",
       "  3                   1.045399e+07               1.306541e+08   \n",
       "  4                   0.000000e+00               1.997303e+08   \n",
       "  ...                          ...                        ...   \n",
       "  2720                5.870489e+08               2.503721e+07   \n",
       "  2721                7.717934e+07               7.489644e+07   \n",
       "  2722                4.882991e+08               3.035153e+07   \n",
       "  2723                1.775117e+08               6.668707e+07   \n",
       "  2724                0.000000e+00               7.090316e+07   \n",
       "  \n",
       "        A.5_Expected Number of Deaths  RfR Total Costs  \\\n",
       "  0                          0.016604     1.228500e+09   \n",
       "  1                          0.000680     8.564000e+08   \n",
       "  2                          0.000000     1.354900e+09   \n",
       "  3                          0.002615     5.233000e+08   \n",
       "  4                          0.000000     8.129000e+08   \n",
       "  ...                             ...              ...   \n",
       "  2720                       0.516725     7.683000e+08   \n",
       "  2721                       0.019113     2.561000e+08   \n",
       "  2722                       0.428556     1.250200e+09   \n",
       "  2723                       0.051544     9.358000e+08   \n",
       "  2724                       0.000000     6.334000e+08   \n",
       "  \n",
       "        Expected Evacuation Costs  \n",
       "  0                   1647.564279  \n",
       "  1                    825.912398  \n",
       "  2                      0.000000  \n",
       "  3                    237.085750  \n",
       "  4                     59.619228  \n",
       "  ...                         ...  \n",
       "  2720                   0.000000  \n",
       "  2721                1765.482380  \n",
       "  2722                   0.000000  \n",
       "  2723                5479.743207  \n",
       "  2724                   0.000000  \n",
       "  \n",
       "  [2725 rows x 48 columns],\n",
       "      hypervolume  epsilon_progress   nfe\n",
       "  0           0.0                 0     0\n",
       "  1           0.0                90   100\n",
       "  2           0.0               463  1192\n",
       "  3           0.0               753  2290\n",
       "  4           0.0              1052  3387\n",
       "  5           0.0              1349  4481\n",
       "  6           0.0              1643  5575\n",
       "  7           0.0              1932  6669\n",
       "  8           0.0              2227  7760\n",
       "  9           0.0              2518  8855\n",
       "  10          0.0              2857  9950)]"
      ]
     },
     "execution_count": 22,
     "metadata": {},
     "output_type": "execute_result"
    }
   ],
   "source": [
    "results"
   ]
  },
  {
   "cell_type": "code",
   "execution_count": 23,
   "id": "a163e546-92fa-4229-adb4-42f8823f5b7c",
   "metadata": {},
   "outputs": [],
   "source": [
    "results_firstscenario = results.copy() #time first scenario: 22543.784339904785 "
   ]
  },
  {
   "cell_type": "code",
   "execution_count": 26,
   "id": "710831d5-3e5a-4dc9-a615-ff5f4a1bd433",
   "metadata": {},
   "outputs": [],
   "source": [
    "import pickle\n",
    "\n",
    "a_file = open(\"data.pkl\", \"wb\")\n",
    "pickle.dump(results_firstscenario, a_file)\n",
    "a_file.close()"
   ]
  },
  {
   "cell_type": "code",
   "execution_count": 24,
   "id": "ac15305c-40b0-4a39-8384-1cfb38ecd247",
   "metadata": {},
   "outputs": [],
   "source": [
    "df_results_firstscenario = pd.DataFrame(results_firstscenario) \n",
    "df_results_firstscenario.to_csv(\"results_firstscenario_hypervolume_noo100_nfe1000_s1000_p10.csv\") #save the dataframes"
   ]
  },
  {
   "cell_type": "code",
   "execution_count": null,
   "id": "c8514e0d-1266-47f7-bf25-b168f1c39368",
   "metadata": {},
   "outputs": [],
   "source": [
    "df_results = pd.DataFrame(results) \n",
    "df_results.to_csv(\"results_hypervolume_noo100_nfe1000_s1000_p10.csv\") #save the dataframes"
   ]
  },
  {
   "cell_type": "markdown",
   "id": "12d53482",
   "metadata": {
    "tags": []
   },
   "source": [
    "## Plots "
   ]
  },
  {
   "cell_type": "code",
   "execution_count": null,
   "id": "28787226",
   "metadata": {},
   "outputs": [],
   "source": [
    "fig, (ax1, ax2) = plt.subplots(ncols=2,figsize=(10,5))\n",
    "for i, (_, convergence) in enumerate(results):\n",
    "    ax1.plot(convergence.nfe, convergence.hypervolume, label=f'scenario {i}')\n",
    "    ax2.plot(convergence.nfe, convergence.epsilon_progress, label=f'scenario {i}')\n",
    "\n",
    "ax1.set_ylabel('hypervolume')\n",
    "ax1.set_xlabel('nfe')\n",
    "ax2.set_ylabel('$\\epsilon$ progress')\n",
    "ax2.set_xlabel('nfe')\n",
    "#fig.legend()\n",
    "plt.show()\n",
    "plt.savefig('Hypervol_noo100_nfe1e4_and_epsilon_0,1')"
   ]
  },
  {
   "cell_type": "code",
   "execution_count": null,
   "id": "a56edd8d",
   "metadata": {
    "tags": []
   },
   "outputs": [],
   "source": [
    "#determine thresholds based on the maxima that can be acquierd \n",
    "max_expected_annual_damage = float(data[['A.4_Expected Annual Damage']].max())\n",
    "max_number_deaths = float(data[['A.4_Expected Number of Deaths']].max()) \n",
    "max_evacuation_costs = float(data[['Expected Evacuation Costs']].max()) \n",
    "\n",
    "colors = iter(sns.color_palette())\n",
    "data = results[0][0].iloc[:, 5::]\n",
    "limits = parcoords.get_limits(results[0][0].iloc[:, 5::][['A.4_Expected Annual Damage', \n",
    "                                'A.4_Expected Number of Deaths','Expected Evacuation Costs']])\n",
    "\n",
    "limits.loc[0, 'A.4_Expected Annual Damage'] = max_expected_annual_damage\n",
    "limits.loc[0, 'A.4_Expected Number of Deaths'] = max_number_deaths \n",
    "limits.loc[0, 'Expected Evacuation Costs'] = max_evacuation_costs \n",
    "limits.loc[1, :] = 0\n",
    "\n",
    "paraxes = parcoords.ParallelAxes(limits)\n",
    "\n",
    "for i, (result, _) in enumerate(results):\n",
    "    color = next(colors)\n",
    "    data = result.iloc[:, 5::]\n",
    "    sns.set(rc = {'figure.figsize':(10,10)})\n",
    "    paraxes.plot(data, label=f'scenario {i}', color=color)\n",
    "\n",
    "paraxes.legend()\n",
    "plt.show()\n",
    "\n",
    "plt.savefig('Tradeoffs__noo100_nfe1e4_eps_0,1')"
   ]
  },
  {
   "cell_type": "markdown",
   "id": "4e954faa",
   "metadata": {
    "tags": []
   },
   "source": [
    "## Deep Uncertainty \n",
    "Reevaluate under deep uncertainty "
   ]
  },
  {
   "cell_type": "code",
   "execution_count": null,
   "id": "27ab11f8",
   "metadata": {
    "tags": []
   },
   "outputs": [],
   "source": [
    "#specify the policies \n",
    "\n",
    "policies = []\n",
    "for i, (result, _) in enumerate(results):\n",
    "    result = result.iloc[:, 0:31]\n",
    "    for j, row in result.iterrows():\n",
    "        policy = Policy(f'scenario {i} option {j}', **row.to_dict())\n",
    "        policies.append(policy)\n",
    "        "
   ]
  },
  {
   "cell_type": "code",
   "execution_count": null,
   "id": "8f747da4-67a8-43ef-9b1a-85ba0529e2b0",
   "metadata": {},
   "outputs": [],
   "source": [
    "#randomly select 50 policies \n",
    "\n",
    "sampled_policies = random.sample(policies, 50)"
   ]
  },
  {
   "cell_type": "code",
   "execution_count": null,
   "id": "0fb508fb",
   "metadata": {
    "tags": []
   },
   "outputs": [],
   "source": [
    "#running the model through EMA workbench\n",
    "ema_logging.log_to_stderr(ema_logging.INFO)\n",
    "\n",
    "#choose problem formulation number, between 0-5\n",
    "#each problem formulation has its own list of outcomes\n",
    "dike_model, planning_steps = get_model_for_problem_formulation(3) \n",
    "\n",
    "with MultiprocessingEvaluator(dike_model) as evaluator:\n",
    "    reeevaluation_results = evaluator.perform_experiments(1000, policies=sampled_policies)"
   ]
  },
  {
   "cell_type": "markdown",
   "id": "0ed5dd9b",
   "metadata": {},
   "source": [
    "Calculate both the maximum regret, and the domain criterion using the values provided in [Bartholomew and Kwakkel (2020)](https://doi.org/10.1016/j.envsoft.2020.104699). Ignore the max_P objective.\n",
    "\n"
   ]
  },
  {
   "cell_type": "code",
   "execution_count": null,
   "id": "df7786cd",
   "metadata": {},
   "outputs": [],
   "source": [
    "experiments_deep, outcomes_deep = reeevaluation_results\n",
    "\n",
    "#determine thresholds  \n",
    "# max_expected_annual_damage = float(data[['A.4_Expected Annual Damage']].max())\n",
    "# max_number_deaths = float(data[['A.4_Expected Number of Deaths']].max()) \n",
    "# max_evacuation_costs = float(data[['Expected Evacuation Costs']].max()) \n",
    "\n",
    "# max_expected_annual_damage = 9.28e+05\n",
    "# max_number_deaths = 0.00009\n",
    "# max_evacuation_costs = 4000\n",
    "\n",
    "thresholds = {'A.4_Expected Number of Deaths':max_number_deaths, \n",
    "              'A.4_Expected Annual Damage':max_expected_annual_damage,\n",
    "             'Expected Evacuation Costs':max_evacuation_costs}\n",
    "\n",
    "overall_scores = {}\n",
    "for policy in experiments_deep.policy.unique():\n",
    "    logical = experiments_deep.policy == policy\n",
    "    scores = {}\n",
    "    for k, v in outcomes_deep.items():\n",
    "        try:\n",
    "            n = np.sum(v[logical]>=thresholds[k])\n",
    "        except KeyError:\n",
    "            continue\n",
    "        scores[k] = n/1000 \n",
    "    overall_scores[policy] = scores\n",
    "        \n",
    "overall_scores = pd.DataFrame(overall_scores).T"
   ]
  },
  {
   "cell_type": "code",
   "execution_count": null,
   "id": "d50c3712",
   "metadata": {
    "tags": []
   },
   "outputs": [],
   "source": [
    "limits = parcoords.get_limits(overall_scores)\n",
    "paraxes = parcoords.ParallelAxes(limits)\n",
    "paraxes.plot(overall_scores)\n",
    "plt.show()"
   ]
  },
  {
   "cell_type": "code",
   "execution_count": null,
   "id": "b77c39ea-292e-4757-91fd-d3a14e3185db",
   "metadata": {},
   "outputs": [],
   "source": []
  }
 ],
 "metadata": {
  "kernelspec": {
   "display_name": "Python 3 (ipykernel)",
   "language": "python",
   "name": "python3"
  },
  "language_info": {
   "codemirror_mode": {
    "name": "ipython",
    "version": 3
   },
   "file_extension": ".py",
   "mimetype": "text/x-python",
   "name": "python",
   "nbconvert_exporter": "python",
   "pygments_lexer": "ipython3",
   "version": "3.9.7"
  }
 },
 "nbformat": 4,
 "nbformat_minor": 5
}
