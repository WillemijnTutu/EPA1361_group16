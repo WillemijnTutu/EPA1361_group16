{
 "cells": [
  {
   "cell_type": "markdown",
   "id": "49723759-2706-48a1-936b-689a1ce2fecb",
   "metadata": {
    "tags": []
   },
   "source": [
    "# Room for the river: Gorssel "
   ]
  },
  {
   "cell_type": "code",
   "execution_count": 1,
   "id": "9bda1d00-9961-40a9-b730-d53d2a8ddf6f",
   "metadata": {},
   "outputs": [
    {
     "name": "stdout",
     "output_type": "stream",
     "text": [
      "User Current Version:- 3.9.7 (default, Sep 16 2021, 08:50:36) \n",
      "[Clang 10.0.0 ]\n"
     ]
    }
   ],
   "source": [
    "import sys\n",
    "\n",
    "print(\"User Current Version:-\", sys.version)"
   ]
  },
  {
   "cell_type": "code",
   "execution_count": 29,
   "id": "8dc46da0-a4ae-4f9a-bc37-de03d4ce51c7",
   "metadata": {},
   "outputs": [],
   "source": [
    "#imports\n",
    "import numpy as np\n",
    "import scipy as sp\n",
    "import pandas as pd\n",
    "import matplotlib.pyplot as plt\n",
    "import seaborn as sns\n",
    "import networkx as nx\n",
    "\n",
    "from ema_workbench import (Model, CategoricalParameter,ScalarOutcome, IntegerParameter, RealParameter,\n",
    "                           MultiprocessingEvaluator, ema_logging, Constant, Policy, Scenario,\n",
    "                           perform_experiments, SequentialEvaluator,Constraint)\n",
    "from problem_formulation import get_model_for_problem_formulation\n",
    "\n",
    "from dike_model_function import DikeNetwork  # @UnresolvedImport\n",
    "\n",
    "from ema_workbench.em_framework.optimization import (HyperVolume, EpsilonProgress,GenerationalBorg)\n",
    "from ema_workbench.em_framework.evaluators import perform_experiments\n",
    "from ema_workbench.em_framework.samplers import sample_uncertainties\n",
    "from ema_workbench.util import ema_logging\n",
    "from ema_workbench.analysis import plotting, plotting_util, parcoords, feature_scoring, prim\n",
    "from ema_workbench import load_results \n",
    "\n",
    "from mpl_toolkits.mplot3d import Axes3D \n",
    "\n",
    "from sklearn import preprocessing\n",
    "\n",
    "import time\n",
    "import copy\n",
    "\n",
    "import itertools\n",
    "\n",
    "from concurrent.futures import ProcessPoolExecutor\n",
    "from concurrent.futures import ThreadPoolExecutor\n",
    "import os\n",
    "import functools\n",
    "\n",
    "import random"
   ]
  },
  {
   "cell_type": "code",
   "execution_count": 40,
   "id": "a29254f4-6620-4566-a931-fe5580f10f96",
   "metadata": {},
   "outputs": [],
   "source": [
    "from scipy.spatial.distance import pdist, squareform\n",
    "\n",
    "def evaluate_diversity_single(indices, distances, weight=0.5, distance='euclidean'):\n",
    "    '''\n",
    "    takes the outcomes and selected scenario set (decision variables), \n",
    "    returns a single 'diversity' value for the scenario set.\n",
    "    outcomes : outcomes dictionary of the scenario ensemble\n",
    "    decision vars : indices of the scenario set\n",
    "    weight : weight given to the mean in the diversity metric. If 0, only minimum; if 1, only mean\n",
    "    '''\n",
    "    i, j = [e for e in zip(*itertools.combinations(indices, 2))]\n",
    "    subset_distances = distances[i, j]\n",
    "    minimum = np.min(subset_distances)\n",
    "    mean = np.mean(subset_distances)\n",
    "    diversity = (1-weight)*minimum + weight*mean\n",
    "    \n",
    "    return [diversity]\n",
    "\n",
    "\n",
    "def find_maxdiverse_scenarios(distances, combinations):\n",
    "    scores = []\n",
    "    for indices in combinations:\n",
    "        diversity = evaluate_diversity_single(indices, distances)\n",
    "        scores.append((diversity, indices))\n",
    "\n",
    "    return scores\n",
    "\n",
    "def optimize(scenario, nfe, model, converge_metrics, epsilons):\n",
    "\n",
    "\n",
    "    with MultiprocessingEvaluator(model) as evaluator:\n",
    "        results, convergence = evaluator.optimize(nfe=nfe, searchover='levers',\n",
    "                                     convergence=convergence_metrics,\n",
    "                                     epsilons=epsilons,\n",
    "                                     reference=scenario)\n",
    "    return results, convergence\n"
   ]
  },
  {
   "cell_type": "markdown",
   "id": "e566a2f5-69ed-47c2-9b74-9e19e7de1327",
   "metadata": {
    "jp-MarkdownHeadingCollapsed": true,
    "tags": []
   },
   "source": [
    "# Scenario Selection "
   ]
  },
  {
   "cell_type": "code",
   "execution_count": 4,
   "id": "6afa29e9-1af1-42e2-819e-4a992acff7fc",
   "metadata": {},
   "outputs": [],
   "source": [
    "#Identify policies based on open exploration \n",
    "\n",
    "# policies = [Policy('policy 1', **{'0_RfR 0':1,\n",
    "#                                   '0_RfR 1':1,\n",
    "#                                   '0_RfR 2':1,\n",
    "#                                   'A.1_DikeIncrease 0':5}),\n",
    "#            Policy('policy 2', **{'4_RfR 0':1,\n",
    "#                                   '4_RfR 1':1,\n",
    "#                                   '4_RfR 2':1,\n",
    "#                                   'A.5_DikeIncrease 0':5}),\n",
    "#            Policy('policy 3', **{'1_RfR 0':1,\n",
    "#                                   '2_RfR 1':1,\n",
    "#                                   '3_RfR 2':1,\n",
    "#                                   'A.3_DikeIncrease 0':5})]\n",
    "\n"
   ]
  },
  {
   "cell_type": "code",
   "execution_count": 5,
   "id": "54e1fe78",
   "metadata": {},
   "outputs": [],
   "source": [
    "#running the model through EMA workbench\n",
    "ema_logging.log_to_stderr(ema_logging.INFO)\n",
    "\n",
    "#choose problem formulation number, between 0-5\n",
    "#each problem formulation has its own list of outcomes\n",
    "dike_model, planning_steps = get_model_for_problem_formulation(3) \n"
   ]
  },
  {
   "cell_type": "code",
   "execution_count": 6,
   "id": "3a07f38f-d9fd-4375-9b8c-f1f09053c225",
   "metadata": {},
   "outputs": [
    {
     "name": "stderr",
     "output_type": "stream",
     "text": [
      "[MainProcess/INFO] performing 10 scenarios * 5 policies * 1 model(s) = 50 experiments\n",
      "  0%|                                                   | 0/50 [00:00<?, ?it/s][MainProcess/INFO] performing experiments sequentially\n",
      "100%|██████████████████████████████████████████| 50/50 [01:03<00:00,  1.27s/it]\n",
      "[MainProcess/INFO] experiments finished\n"
     ]
    }
   ],
   "source": [
    "with SequentialEvaluator(dike_model) as evaluator:\n",
    "    results_MORDM = evaluator.perform_experiments(scenarios=10, policies=5) \n",
    "    #s for number of scenarios, p for number of experiments \n",
    "experiments_MORDM, outcomes_MORDM = results_MORDM \n",
    "#s for number of scenarios, p for number of experiments "
   ]
  },
  {
   "cell_type": "code",
   "execution_count": null,
   "id": "d1738de0-b23e-43a6-afc8-6f6c6047f2d3",
   "metadata": {},
   "outputs": [],
   "source": []
  },
  {
   "cell_type": "code",
   "execution_count": 7,
   "id": "58fb5955",
   "metadata": {},
   "outputs": [],
   "source": [
    "#save the initial results to be sure the original can be reused without having to run the model again \n",
    "raw_outcomes    = outcomes_MORDM.copy()\n",
    "raw_experiments = experiments_MORDM.copy()"
   ]
  },
  {
   "cell_type": "code",
   "execution_count": 8,
   "id": "1c63b5fd",
   "metadata": {},
   "outputs": [
    {
     "data": {
      "text/plain": [
       "Index(['A.0_ID flood wave shape', 'A.1_Bmax', 'A.1_Brate', 'A.1_pfail',\n",
       "       'A.2_Bmax', 'A.2_Brate', 'A.2_pfail', 'A.3_Bmax', 'A.3_Brate',\n",
       "       'A.3_pfail', 'A.4_Bmax', 'A.4_Brate', 'A.4_pfail', 'A.5_Bmax',\n",
       "       'A.5_Brate', 'A.5_pfail', 'discount rate 0', 'discount rate 1',\n",
       "       'discount rate 2', '0_RfR 0', '0_RfR 1', '0_RfR 2', '1_RfR 0',\n",
       "       '1_RfR 1', '1_RfR 2', '2_RfR 0', '2_RfR 1', '2_RfR 2', '3_RfR 0',\n",
       "       '3_RfR 1', '3_RfR 2', '4_RfR 0', '4_RfR 1', '4_RfR 2',\n",
       "       'A.1_DikeIncrease 0', 'A.1_DikeIncrease 1', 'A.1_DikeIncrease 2',\n",
       "       'A.2_DikeIncrease 0', 'A.2_DikeIncrease 1', 'A.2_DikeIncrease 2',\n",
       "       'A.3_DikeIncrease 0', 'A.3_DikeIncrease 1', 'A.3_DikeIncrease 2',\n",
       "       'A.4_DikeIncrease 0', 'A.4_DikeIncrease 1', 'A.4_DikeIncrease 2',\n",
       "       'A.5_DikeIncrease 0', 'A.5_DikeIncrease 1', 'A.5_DikeIncrease 2',\n",
       "       'EWS_DaysToThreat', 'scenario', 'policy', 'model'],\n",
       "      dtype='object')"
      ]
     },
     "execution_count": 8,
     "metadata": {},
     "output_type": "execute_result"
    }
   ],
   "source": [
    "df_experiments = pd.DataFrame(experiments_MORDM)\n",
    "\n",
    "df_outcomes =pd.DataFrame()\n",
    "for outcome in outcomes_MORDM.keys():\n",
    "    df_outcomes[outcome] = outcomes_MORDM[outcome]\n",
    "\n",
    "df_experiments\n",
    "df_experiments.columns"
   ]
  },
  {
   "cell_type": "code",
   "execution_count": 10,
   "id": "4ac56730-dbee-40b1-b63b-a54eb780c00e",
   "metadata": {},
   "outputs": [],
   "source": [
    "experiments = df_experiments.copy()\n",
    "outcomes = df_outcomes.copy()"
   ]
  },
  {
   "cell_type": "code",
   "execution_count": 11,
   "id": "0fbf78f2-5ebf-4826-8b44-cb5c01b08830",
   "metadata": {},
   "outputs": [
    {
     "data": {
      "text/plain": [
       "Index(['A.1_Expected Annual Damage', 'A.1_Dike Investment Costs',\n",
       "       'A.1_Expected Number of Deaths', 'A.2_Expected Annual Damage',\n",
       "       'A.2_Dike Investment Costs', 'A.2_Expected Number of Deaths',\n",
       "       'A.3_Expected Annual Damage', 'A.3_Dike Investment Costs',\n",
       "       'A.3_Expected Number of Deaths', 'A.4_Expected Annual Damage',\n",
       "       'A.4_Dike Investment Costs', 'A.4_Expected Number of Deaths',\n",
       "       'A.5_Expected Annual Damage', 'A.5_Dike Investment Costs',\n",
       "       'A.5_Expected Number of Deaths', 'RfR Total Costs',\n",
       "       'Expected Evacuation Costs'],\n",
       "      dtype='object')"
      ]
     },
     "execution_count": 11,
     "metadata": {},
     "output_type": "execute_result"
    }
   ],
   "source": [
    "outcomes.keys()"
   ]
  },
  {
   "cell_type": "code",
   "execution_count": 12,
   "id": "44e0b539-d808-4fbf-b09f-64f4e30dac14",
   "metadata": {},
   "outputs": [],
   "source": [
    "max_evacuation_costs = 5000\n",
    "max_expected_annual_damage = 1"
   ]
  },
  {
   "cell_type": "code",
   "execution_count": 13,
   "id": "2ffd19c8-ce73-43c0-96dd-d88fdb2cf4db",
   "metadata": {
    "tags": []
   },
   "outputs": [
    {
     "data": {
      "text/plain": [
       "0      True\n",
       "1      True\n",
       "2      True\n",
       "3      True\n",
       "4      True\n",
       "5      True\n",
       "6      True\n",
       "7      True\n",
       "8      True\n",
       "9      True\n",
       "10     True\n",
       "11    False\n",
       "12     True\n",
       "13     True\n",
       "14    False\n",
       "15     True\n",
       "16    False\n",
       "17    False\n",
       "18    False\n",
       "19     True\n",
       "20     True\n",
       "21     True\n",
       "22     True\n",
       "23     True\n",
       "24    False\n",
       "25     True\n",
       "26    False\n",
       "27    False\n",
       "28    False\n",
       "29     True\n",
       "30     True\n",
       "31     True\n",
       "32     True\n",
       "33     True\n",
       "34     True\n",
       "35     True\n",
       "36     True\n",
       "37    False\n",
       "38     True\n",
       "39     True\n",
       "40     True\n",
       "41     True\n",
       "42     True\n",
       "43     True\n",
       "44     True\n",
       "45     True\n",
       "46     True\n",
       "47     True\n",
       "48     True\n",
       "49    False\n",
       "dtype: bool"
      ]
     },
     "execution_count": 13,
     "metadata": {},
     "output_type": "execute_result"
    }
   ],
   "source": [
    "outcomes[['A.4_Expected Annual Damage','A.4_Dike Investment Costs', 'A.4_Expected Number of Deaths',\n",
    "          'RfR Total Costs','Expected Evacuation Costs']]\n",
    "\n",
    "outcomes_of_interest = outcomes[(outcomes['A.4_Expected Annual Damage']< max_expected_annual_damage) \n",
    "                                &( outcomes['Expected Evacuation Costs']<max_evacuation_costs)]\n",
    "\n",
    "y = (outcomes['A.4_Expected Annual Damage']< max_expected_annual_damage)&( outcomes['Expected Evacuation Costs']<max_evacuation_costs)\n",
    "#y"
   ]
  },
  {
   "cell_type": "code",
   "execution_count": 27,
   "id": "5fd621e9-9a81-4651-9e33-a7b02d6b885f",
   "metadata": {
    "tags": []
   },
   "outputs": [
    {
     "data": {
      "text/html": [
       "<div>\n",
       "<style scoped>\n",
       "    .dataframe tbody tr th:only-of-type {\n",
       "        vertical-align: middle;\n",
       "    }\n",
       "\n",
       "    .dataframe tbody tr th {\n",
       "        vertical-align: top;\n",
       "    }\n",
       "\n",
       "    .dataframe thead th {\n",
       "        text-align: right;\n",
       "    }\n",
       "</style>\n",
       "<table border=\"1\" class=\"dataframe\">\n",
       "  <thead>\n",
       "    <tr style=\"text-align: right;\">\n",
       "      <th></th>\n",
       "      <th>A.1_Expected Annual Damage</th>\n",
       "      <th>A.1_Dike Investment Costs</th>\n",
       "      <th>A.1_Expected Number of Deaths</th>\n",
       "      <th>A.2_Expected Annual Damage</th>\n",
       "      <th>A.2_Dike Investment Costs</th>\n",
       "      <th>A.2_Expected Number of Deaths</th>\n",
       "      <th>A.3_Expected Annual Damage</th>\n",
       "      <th>A.3_Dike Investment Costs</th>\n",
       "      <th>A.3_Expected Number of Deaths</th>\n",
       "      <th>A.4_Expected Annual Damage</th>\n",
       "      <th>A.4_Dike Investment Costs</th>\n",
       "      <th>A.4_Expected Number of Deaths</th>\n",
       "      <th>A.5_Expected Annual Damage</th>\n",
       "      <th>A.5_Dike Investment Costs</th>\n",
       "      <th>A.5_Expected Number of Deaths</th>\n",
       "      <th>RfR Total Costs</th>\n",
       "      <th>Expected Evacuation Costs</th>\n",
       "    </tr>\n",
       "  </thead>\n",
       "  <tbody>\n",
       "    <tr>\n",
       "      <th>0</th>\n",
       "      <td>0.0</td>\n",
       "      <td>1.842499e+08</td>\n",
       "      <td>0.0</td>\n",
       "      <td>0.0</td>\n",
       "      <td>1.128326e+08</td>\n",
       "      <td>0.0</td>\n",
       "      <td>0.0</td>\n",
       "      <td>1.433983e+08</td>\n",
       "      <td>0.0</td>\n",
       "      <td>0.0</td>\n",
       "      <td>2.922928e+07</td>\n",
       "      <td>0.0</td>\n",
       "      <td>1.371917e+07</td>\n",
       "      <td>1.708431e+08</td>\n",
       "      <td>0.004439</td>\n",
       "      <td>958900000.0</td>\n",
       "      <td>404.5171</td>\n",
       "    </tr>\n",
       "    <tr>\n",
       "      <th>1</th>\n",
       "      <td>0.0</td>\n",
       "      <td>1.842499e+08</td>\n",
       "      <td>0.0</td>\n",
       "      <td>0.0</td>\n",
       "      <td>1.128326e+08</td>\n",
       "      <td>0.0</td>\n",
       "      <td>0.0</td>\n",
       "      <td>1.433983e+08</td>\n",
       "      <td>0.0</td>\n",
       "      <td>0.0</td>\n",
       "      <td>2.922928e+07</td>\n",
       "      <td>0.0</td>\n",
       "      <td>0.000000e+00</td>\n",
       "      <td>1.708431e+08</td>\n",
       "      <td>0.000000</td>\n",
       "      <td>958900000.0</td>\n",
       "      <td>0.0000</td>\n",
       "    </tr>\n",
       "    <tr>\n",
       "      <th>2</th>\n",
       "      <td>0.0</td>\n",
       "      <td>1.842499e+08</td>\n",
       "      <td>0.0</td>\n",
       "      <td>0.0</td>\n",
       "      <td>1.128326e+08</td>\n",
       "      <td>0.0</td>\n",
       "      <td>0.0</td>\n",
       "      <td>1.433983e+08</td>\n",
       "      <td>0.0</td>\n",
       "      <td>0.0</td>\n",
       "      <td>2.922928e+07</td>\n",
       "      <td>0.0</td>\n",
       "      <td>0.000000e+00</td>\n",
       "      <td>1.708431e+08</td>\n",
       "      <td>0.000000</td>\n",
       "      <td>958900000.0</td>\n",
       "      <td>0.0000</td>\n",
       "    </tr>\n",
       "    <tr>\n",
       "      <th>3</th>\n",
       "      <td>0.0</td>\n",
       "      <td>1.842499e+08</td>\n",
       "      <td>0.0</td>\n",
       "      <td>0.0</td>\n",
       "      <td>1.128326e+08</td>\n",
       "      <td>0.0</td>\n",
       "      <td>0.0</td>\n",
       "      <td>1.433983e+08</td>\n",
       "      <td>0.0</td>\n",
       "      <td>0.0</td>\n",
       "      <td>2.922928e+07</td>\n",
       "      <td>0.0</td>\n",
       "      <td>0.000000e+00</td>\n",
       "      <td>1.708431e+08</td>\n",
       "      <td>0.000000</td>\n",
       "      <td>958900000.0</td>\n",
       "      <td>0.0000</td>\n",
       "    </tr>\n",
       "    <tr>\n",
       "      <th>4</th>\n",
       "      <td>0.0</td>\n",
       "      <td>1.842499e+08</td>\n",
       "      <td>0.0</td>\n",
       "      <td>0.0</td>\n",
       "      <td>1.128326e+08</td>\n",
       "      <td>0.0</td>\n",
       "      <td>0.0</td>\n",
       "      <td>1.433983e+08</td>\n",
       "      <td>0.0</td>\n",
       "      <td>0.0</td>\n",
       "      <td>2.922928e+07</td>\n",
       "      <td>0.0</td>\n",
       "      <td>0.000000e+00</td>\n",
       "      <td>1.708431e+08</td>\n",
       "      <td>0.000000</td>\n",
       "      <td>958900000.0</td>\n",
       "      <td>0.0000</td>\n",
       "    </tr>\n",
       "  </tbody>\n",
       "</table>\n",
       "</div>"
      ],
      "text/plain": [
       "   A.1_Expected Annual Damage  A.1_Dike Investment Costs  \\\n",
       "0                         0.0               1.842499e+08   \n",
       "1                         0.0               1.842499e+08   \n",
       "2                         0.0               1.842499e+08   \n",
       "3                         0.0               1.842499e+08   \n",
       "4                         0.0               1.842499e+08   \n",
       "\n",
       "   A.1_Expected Number of Deaths  A.2_Expected Annual Damage  \\\n",
       "0                            0.0                         0.0   \n",
       "1                            0.0                         0.0   \n",
       "2                            0.0                         0.0   \n",
       "3                            0.0                         0.0   \n",
       "4                            0.0                         0.0   \n",
       "\n",
       "   A.2_Dike Investment Costs  A.2_Expected Number of Deaths  \\\n",
       "0               1.128326e+08                            0.0   \n",
       "1               1.128326e+08                            0.0   \n",
       "2               1.128326e+08                            0.0   \n",
       "3               1.128326e+08                            0.0   \n",
       "4               1.128326e+08                            0.0   \n",
       "\n",
       "   A.3_Expected Annual Damage  A.3_Dike Investment Costs  \\\n",
       "0                         0.0               1.433983e+08   \n",
       "1                         0.0               1.433983e+08   \n",
       "2                         0.0               1.433983e+08   \n",
       "3                         0.0               1.433983e+08   \n",
       "4                         0.0               1.433983e+08   \n",
       "\n",
       "   A.3_Expected Number of Deaths  A.4_Expected Annual Damage  \\\n",
       "0                            0.0                         0.0   \n",
       "1                            0.0                         0.0   \n",
       "2                            0.0                         0.0   \n",
       "3                            0.0                         0.0   \n",
       "4                            0.0                         0.0   \n",
       "\n",
       "   A.4_Dike Investment Costs  A.4_Expected Number of Deaths  \\\n",
       "0               2.922928e+07                            0.0   \n",
       "1               2.922928e+07                            0.0   \n",
       "2               2.922928e+07                            0.0   \n",
       "3               2.922928e+07                            0.0   \n",
       "4               2.922928e+07                            0.0   \n",
       "\n",
       "   A.5_Expected Annual Damage  A.5_Dike Investment Costs  \\\n",
       "0                1.371917e+07               1.708431e+08   \n",
       "1                0.000000e+00               1.708431e+08   \n",
       "2                0.000000e+00               1.708431e+08   \n",
       "3                0.000000e+00               1.708431e+08   \n",
       "4                0.000000e+00               1.708431e+08   \n",
       "\n",
       "   A.5_Expected Number of Deaths  RfR Total Costs  Expected Evacuation Costs  \n",
       "0                       0.004439      958900000.0                   404.5171  \n",
       "1                       0.000000      958900000.0                     0.0000  \n",
       "2                       0.000000      958900000.0                     0.0000  \n",
       "3                       0.000000      958900000.0                     0.0000  \n",
       "4                       0.000000      958900000.0                     0.0000  "
      ]
     },
     "execution_count": 27,
     "metadata": {},
     "output_type": "execute_result"
    }
   ],
   "source": [
    "outcomes_of_interest.head()\n",
    "#shape(outcomes_of_interest) "
   ]
  },
  {
   "cell_type": "code",
   "execution_count": 28,
   "id": "a7267880-5a50-4f34-9596-c73b18d76579",
   "metadata": {
    "tags": []
   },
   "outputs": [
    {
     "data": {
      "text/html": [
       "<div>\n",
       "<style scoped>\n",
       "    .dataframe tbody tr th:only-of-type {\n",
       "        vertical-align: middle;\n",
       "    }\n",
       "\n",
       "    .dataframe tbody tr th {\n",
       "        vertical-align: top;\n",
       "    }\n",
       "\n",
       "    .dataframe thead th {\n",
       "        text-align: right;\n",
       "    }\n",
       "</style>\n",
       "<table border=\"1\" class=\"dataframe\">\n",
       "  <thead>\n",
       "    <tr style=\"text-align: right;\">\n",
       "      <th></th>\n",
       "      <th>A.0_ID flood wave shape</th>\n",
       "      <th>A.1_Bmax</th>\n",
       "      <th>A.1_Brate</th>\n",
       "      <th>A.1_pfail</th>\n",
       "      <th>A.2_Bmax</th>\n",
       "      <th>A.2_Brate</th>\n",
       "      <th>A.2_pfail</th>\n",
       "      <th>A.3_Bmax</th>\n",
       "      <th>A.3_Brate</th>\n",
       "      <th>A.3_pfail</th>\n",
       "      <th>...</th>\n",
       "      <th>A.4_DikeIncrease 0</th>\n",
       "      <th>A.4_DikeIncrease 1</th>\n",
       "      <th>A.4_DikeIncrease 2</th>\n",
       "      <th>A.5_DikeIncrease 0</th>\n",
       "      <th>A.5_DikeIncrease 1</th>\n",
       "      <th>A.5_DikeIncrease 2</th>\n",
       "      <th>EWS_DaysToThreat</th>\n",
       "      <th>scenario</th>\n",
       "      <th>policy</th>\n",
       "      <th>model</th>\n",
       "    </tr>\n",
       "  </thead>\n",
       "  <tbody>\n",
       "    <tr>\n",
       "      <th>0</th>\n",
       "      <td>118</td>\n",
       "      <td>99.402021</td>\n",
       "      <td>1.0</td>\n",
       "      <td>0.744131</td>\n",
       "      <td>347.220398</td>\n",
       "      <td>1.0</td>\n",
       "      <td>0.716350</td>\n",
       "      <td>179.239940</td>\n",
       "      <td>1.0</td>\n",
       "      <td>0.510779</td>\n",
       "      <td>...</td>\n",
       "      <td>10</td>\n",
       "      <td>1</td>\n",
       "      <td>0</td>\n",
       "      <td>7</td>\n",
       "      <td>7</td>\n",
       "      <td>7</td>\n",
       "      <td>1</td>\n",
       "      <td>5</td>\n",
       "      <td>0</td>\n",
       "      <td>dikesnet</td>\n",
       "    </tr>\n",
       "    <tr>\n",
       "      <th>1</th>\n",
       "      <td>5</td>\n",
       "      <td>86.105155</td>\n",
       "      <td>1.5</td>\n",
       "      <td>0.600363</td>\n",
       "      <td>271.003716</td>\n",
       "      <td>1.5</td>\n",
       "      <td>0.393702</td>\n",
       "      <td>322.908620</td>\n",
       "      <td>1.5</td>\n",
       "      <td>0.808188</td>\n",
       "      <td>...</td>\n",
       "      <td>10</td>\n",
       "      <td>1</td>\n",
       "      <td>0</td>\n",
       "      <td>7</td>\n",
       "      <td>7</td>\n",
       "      <td>7</td>\n",
       "      <td>1</td>\n",
       "      <td>6</td>\n",
       "      <td>0</td>\n",
       "      <td>dikesnet</td>\n",
       "    </tr>\n",
       "    <tr>\n",
       "      <th>2</th>\n",
       "      <td>129</td>\n",
       "      <td>239.723086</td>\n",
       "      <td>1.5</td>\n",
       "      <td>0.255171</td>\n",
       "      <td>122.153781</td>\n",
       "      <td>1.5</td>\n",
       "      <td>0.224914</td>\n",
       "      <td>97.738293</td>\n",
       "      <td>10</td>\n",
       "      <td>0.687598</td>\n",
       "      <td>...</td>\n",
       "      <td>10</td>\n",
       "      <td>1</td>\n",
       "      <td>0</td>\n",
       "      <td>7</td>\n",
       "      <td>7</td>\n",
       "      <td>7</td>\n",
       "      <td>1</td>\n",
       "      <td>7</td>\n",
       "      <td>0</td>\n",
       "      <td>dikesnet</td>\n",
       "    </tr>\n",
       "    <tr>\n",
       "      <th>3</th>\n",
       "      <td>56</td>\n",
       "      <td>269.923744</td>\n",
       "      <td>10</td>\n",
       "      <td>0.946785</td>\n",
       "      <td>199.693619</td>\n",
       "      <td>10</td>\n",
       "      <td>0.995455</td>\n",
       "      <td>280.138357</td>\n",
       "      <td>1.5</td>\n",
       "      <td>0.402688</td>\n",
       "      <td>...</td>\n",
       "      <td>10</td>\n",
       "      <td>1</td>\n",
       "      <td>0</td>\n",
       "      <td>7</td>\n",
       "      <td>7</td>\n",
       "      <td>7</td>\n",
       "      <td>1</td>\n",
       "      <td>8</td>\n",
       "      <td>0</td>\n",
       "      <td>dikesnet</td>\n",
       "    </tr>\n",
       "    <tr>\n",
       "      <th>4</th>\n",
       "      <td>18</td>\n",
       "      <td>312.491930</td>\n",
       "      <td>1.5</td>\n",
       "      <td>0.863513</td>\n",
       "      <td>226.436587</td>\n",
       "      <td>1.5</td>\n",
       "      <td>0.804544</td>\n",
       "      <td>90.162261</td>\n",
       "      <td>10</td>\n",
       "      <td>0.174627</td>\n",
       "      <td>...</td>\n",
       "      <td>10</td>\n",
       "      <td>1</td>\n",
       "      <td>0</td>\n",
       "      <td>7</td>\n",
       "      <td>7</td>\n",
       "      <td>7</td>\n",
       "      <td>1</td>\n",
       "      <td>9</td>\n",
       "      <td>0</td>\n",
       "      <td>dikesnet</td>\n",
       "    </tr>\n",
       "  </tbody>\n",
       "</table>\n",
       "<p>5 rows × 53 columns</p>\n",
       "</div>"
      ],
      "text/plain": [
       "   A.0_ID flood wave shape    A.1_Bmax A.1_Brate  A.1_pfail    A.2_Bmax  \\\n",
       "0                      118   99.402021       1.0   0.744131  347.220398   \n",
       "1                        5   86.105155       1.5   0.600363  271.003716   \n",
       "2                      129  239.723086       1.5   0.255171  122.153781   \n",
       "3                       56  269.923744        10   0.946785  199.693619   \n",
       "4                       18  312.491930       1.5   0.863513  226.436587   \n",
       "\n",
       "  A.2_Brate  A.2_pfail    A.3_Bmax A.3_Brate  A.3_pfail  ...  \\\n",
       "0       1.0   0.716350  179.239940       1.0   0.510779  ...   \n",
       "1       1.5   0.393702  322.908620       1.5   0.808188  ...   \n",
       "2       1.5   0.224914   97.738293        10   0.687598  ...   \n",
       "3        10   0.995455  280.138357       1.5   0.402688  ...   \n",
       "4       1.5   0.804544   90.162261        10   0.174627  ...   \n",
       "\n",
       "   A.4_DikeIncrease 0 A.4_DikeIncrease 1  A.4_DikeIncrease 2  \\\n",
       "0                  10                  1                   0   \n",
       "1                  10                  1                   0   \n",
       "2                  10                  1                   0   \n",
       "3                  10                  1                   0   \n",
       "4                  10                  1                   0   \n",
       "\n",
       "   A.5_DikeIncrease 0 A.5_DikeIncrease 1  A.5_DikeIncrease 2 EWS_DaysToThreat  \\\n",
       "0                   7                  7                   7                1   \n",
       "1                   7                  7                   7                1   \n",
       "2                   7                  7                   7                1   \n",
       "3                   7                  7                   7                1   \n",
       "4                   7                  7                   7                1   \n",
       "\n",
       "  scenario policy     model  \n",
       "0        5      0  dikesnet  \n",
       "1        6      0  dikesnet  \n",
       "2        7      0  dikesnet  \n",
       "3        8      0  dikesnet  \n",
       "4        9      0  dikesnet  \n",
       "\n",
       "[5 rows x 53 columns]"
      ]
     },
     "execution_count": 28,
     "metadata": {},
     "output_type": "execute_result"
    }
   ],
   "source": [
    "experiments.head()"
   ]
  },
  {
   "cell_type": "code",
   "execution_count": 16,
   "id": "65e83ac4-032f-4a93-b9d7-fcf0e91b804d",
   "metadata": {},
   "outputs": [],
   "source": [
    "experiments_of_interest = experiments.loc[y]\n",
    "outcomes_df = pd.DataFrame({k:v[y] for k,v in outcomes.items()})\n",
    "\n",
    "#normalize outcomes on unit interval to ensure equal weighting of outcomes\n",
    "x = outcomes_df.values \n",
    "min_max_scaler = preprocessing.MinMaxScaler()\n",
    "x_scaled = min_max_scaler.fit_transform(x)\n",
    "normalized_outcomes = pd.DataFrame(x_scaled, columns=outcomes_df.columns)"
   ]
  },
  {
   "cell_type": "code",
   "execution_count": 17,
   "id": "ede023c8-4373-4595-833d-559b38e60551",
   "metadata": {},
   "outputs": [],
   "source": [
    "n_scen = experiments.loc[y].shape[0]\n",
    "indices = range(n_scen)\n",
    "set_size = 5\n",
    "\n",
    "n_scen\n",
    "combinations = itertools.combinations(indices, set_size)\n",
    "combinations = list(combinations)"
   ]
  },
  {
   "cell_type": "code",
   "execution_count": 18,
   "id": "9447a716-bb75-4830-9bd7-abd1444a55ba",
   "metadata": {},
   "outputs": [
    {
     "name": "stdout",
     "output_type": "stream",
     "text": [
      "575757\n"
     ]
    }
   ],
   "source": [
    "#combinations\n",
    "print(len(combinations))"
   ]
  },
  {
   "cell_type": "code",
   "execution_count": 24,
   "id": "47718137-77ac-42d6-b9a6-e8b90853c1af",
   "metadata": {},
   "outputs": [],
   "source": [
    "sampled_combinations = random.sample(combinations, 100)"
   ]
  },
  {
   "cell_type": "code",
   "execution_count": 32,
   "id": "610304cc-1287-428e-be10-1a12f611dac9",
   "metadata": {},
   "outputs": [],
   "source": [
    "distances = squareform(pdist(normalized_outcomes.values))\n",
    "\n",
    "cores = os.cpu_count()\n",
    "partial_function = functools.partial(find_maxdiverse_scenarios, distances)\n",
    "\n",
    "\n",
    "#Difference ProcessPool en ThreadPool \n",
    "# https://superfastpython.com/threadpoolexecutor-vs-processpoolexecutor/#Comparison_of_ThreadPoolExecutor_vs_ProcessPoolExecutor\n",
    "#with ProcessPoolExecutor(max_workers=cores) as executor:\n",
    "with ThreadPoolExecutor(max_workers=cores) as executor:\n",
    "    worker_data = np.array_split(combinations, cores)\n",
    "    results = [e for e in executor.map(partial_function, worker_data)]\n",
    "    results = list(itertools.chain.from_iterable(results))"
   ]
  },
  {
   "cell_type": "code",
   "execution_count": 33,
   "id": "e5fd9fa1-dc8e-4680-b134-4094c57712ff",
   "metadata": {},
   "outputs": [
    {
     "data": {
      "text/plain": [
       "([1.9859722743530344], array([ 1, 10, 13, 15, 34]))"
      ]
     },
     "execution_count": 33,
     "metadata": {},
     "output_type": "execute_result"
    }
   ],
   "source": [
    "results.sort(key=lambda entry:entry[0], reverse=True)\n",
    "most_diverse = results[0]\n",
    "most_diverse"
   ]
  },
  {
   "cell_type": "code",
   "execution_count": 36,
   "id": "a2d91ea3-2e7c-412c-8740-20178309429e",
   "metadata": {},
   "outputs": [],
   "source": [
    "selected = experiments.loc[most_diverse[1], ['A.0_ID flood wave shape', 'A.1_Bmax', 'A.1_Brate', 'A.1_pfail',\n",
    "       'A.2_Bmax', 'A.2_Brate', 'A.2_pfail', 'A.3_Bmax', 'A.3_Brate',\n",
    "       'A.3_pfail', 'A.4_Bmax', 'A.4_Brate', 'A.4_pfail', 'A.5_Bmax',\n",
    "       'A.5_Brate', 'A.5_pfail', 'discount rate 0', 'discount rate 1',\n",
    "       'discount rate 2', '0_RfR 0', '0_RfR 1', '0_RfR 2', '1_RfR 0',\n",
    "       '1_RfR 1', '1_RfR 2', '2_RfR 0', '2_RfR 1', '2_RfR 2', '3_RfR 0',\n",
    "       '3_RfR 1', '3_RfR 2', '4_RfR 0', '4_RfR 1', '4_RfR 2',\n",
    "       'A.1_DikeIncrease 0', 'A.1_DikeIncrease 1', 'A.1_DikeIncrease 2',\n",
    "       'A.2_DikeIncrease 0', 'A.2_DikeIncrease 1', 'A.2_DikeIncrease 2',\n",
    "       'A.3_DikeIncrease 0', 'A.3_DikeIncrease 1', 'A.3_DikeIncrease 2',\n",
    "       'A.4_DikeIncrease 0', 'A.4_DikeIncrease 1', 'A.4_DikeIncrease 2',\n",
    "       'A.5_DikeIncrease 0', 'A.5_DikeIncrease 1', 'A.5_DikeIncrease 2',\n",
    "       'EWS_DaysToThreat', 'scenario', 'policy', 'model']]\n",
    "scenarios = [Scenario(f\"{index}\", **row) for index, row in selected.iterrows()]"
   ]
  },
  {
   "cell_type": "code",
   "execution_count": 39,
   "id": "7e96f40e-0725-4170-aee8-28bca0af1d7c",
   "metadata": {},
   "outputs": [
    {
     "data": {
      "text/plain": [
       "[Scenario({'A.0_ID flood wave shape': 5, 'A.1_Bmax': 86.10515505606122, 'A.1_Brate': 1.5, 'A.1_pfail': 0.600362982630473, 'A.2_Bmax': 271.00371575799124, 'A.2_Brate': 1.5, 'A.2_pfail': 0.39370221400841265, 'A.3_Bmax': 322.90861956267867, 'A.3_Brate': 1.5, 'A.3_pfail': 0.8081883631165219, 'A.4_Bmax': 241.06690016684723, 'A.4_Brate': 1.0, 'A.4_pfail': 0.4848215865929534, 'A.5_Bmax': 256.03963457360936, 'A.5_Brate': 1.5, 'A.5_pfail': 0.4807718874804777, 'discount rate 0': 2.5, 'discount rate 1': 4.5, 'discount rate 2': 2.5, '0_RfR 0': 0, '0_RfR 1': 0, '0_RfR 2': 1, '1_RfR 0': 1, '1_RfR 1': 0, '1_RfR 2': 1, '2_RfR 0': 1, '2_RfR 1': 0, '2_RfR 2': 1, '3_RfR 0': 0, '3_RfR 1': 1, '3_RfR 2': 0, '4_RfR 0': 0, '4_RfR 1': 0, '4_RfR 2': 1, 'A.1_DikeIncrease 0': 5, 'A.1_DikeIncrease 1': 2, 'A.1_DikeIncrease 2': 7, 'A.2_DikeIncrease 0': 6, 'A.2_DikeIncrease 1': 0, 'A.2_DikeIncrease 2': 1, 'A.3_DikeIncrease 0': 8, 'A.3_DikeIncrease 1': 5, 'A.3_DikeIncrease 2': 10, 'A.4_DikeIncrease 0': 10, 'A.4_DikeIncrease 1': 1, 'A.4_DikeIncrease 2': 0, 'A.5_DikeIncrease 0': 7, 'A.5_DikeIncrease 1': 7, 'A.5_DikeIncrease 2': 7, 'EWS_DaysToThreat': 1, 'scenario': 6, 'policy': 0, 'model': 'dikesnet'}),\n",
       " Scenario({'A.0_ID flood wave shape': 118, 'A.1_Bmax': 99.40202115834468, 'A.1_Brate': 1.0, 'A.1_pfail': 0.7441310013720301, 'A.2_Bmax': 347.2203977904782, 'A.2_Brate': 1.0, 'A.2_pfail': 0.7163496140215122, 'A.3_Bmax': 179.23994042006672, 'A.3_Brate': 1.0, 'A.3_pfail': 0.5107788998233858, 'A.4_Bmax': 206.24472193750893, 'A.4_Brate': 1.5, 'A.4_pfail': 0.9072169703610223, 'A.5_Bmax': 183.50638736677934, 'A.5_Brate': 10, 'A.5_pfail': 0.02448137915642832, 'discount rate 0': 2.5, 'discount rate 1': 3.5, 'discount rate 2': 2.5, '0_RfR 0': 1, '0_RfR 1': 1, '0_RfR 2': 1, '1_RfR 0': 1, '1_RfR 1': 0, '1_RfR 2': 0, '2_RfR 0': 1, '2_RfR 1': 1, '2_RfR 2': 0, '3_RfR 0': 0, '3_RfR 1': 0, '3_RfR 2': 1, '4_RfR 0': 1, '4_RfR 1': 1, '4_RfR 2': 1, 'A.1_DikeIncrease 0': 2, 'A.1_DikeIncrease 1': 7, 'A.1_DikeIncrease 2': 2, 'A.2_DikeIncrease 0': 1, 'A.2_DikeIncrease 1': 9, 'A.2_DikeIncrease 2': 2, 'A.3_DikeIncrease 0': 9, 'A.3_DikeIncrease 1': 7, 'A.3_DikeIncrease 2': 1, 'A.4_DikeIncrease 0': 0, 'A.4_DikeIncrease 1': 3, 'A.4_DikeIncrease 2': 10, 'A.5_DikeIncrease 0': 0, 'A.5_DikeIncrease 1': 2, 'A.5_DikeIncrease 2': 0, 'EWS_DaysToThreat': 0, 'scenario': 5, 'policy': 1, 'model': 'dikesnet'}),\n",
       " Scenario({'A.0_ID flood wave shape': 56, 'A.1_Bmax': 269.92374354241, 'A.1_Brate': 10, 'A.1_pfail': 0.9467846979367686, 'A.2_Bmax': 199.69361873857568, 'A.2_Brate': 10, 'A.2_pfail': 0.9954554517932174, 'A.3_Bmax': 280.1383573518709, 'A.3_Brate': 1.5, 'A.3_pfail': 0.402687781231598, 'A.4_Bmax': 33.793633537069184, 'A.4_Brate': 1.5, 'A.4_pfail': 0.8189921447801883, 'A.5_Bmax': 134.7941940917542, 'A.5_Brate': 1.0, 'A.5_pfail': 0.6928120400275717, 'discount rate 0': 2.5, 'discount rate 1': 1.5, 'discount rate 2': 3.5, '0_RfR 0': 1, '0_RfR 1': 1, '0_RfR 2': 1, '1_RfR 0': 1, '1_RfR 1': 0, '1_RfR 2': 0, '2_RfR 0': 1, '2_RfR 1': 1, '2_RfR 2': 0, '3_RfR 0': 0, '3_RfR 1': 0, '3_RfR 2': 1, '4_RfR 0': 1, '4_RfR 1': 1, '4_RfR 2': 1, 'A.1_DikeIncrease 0': 2, 'A.1_DikeIncrease 1': 7, 'A.1_DikeIncrease 2': 2, 'A.2_DikeIncrease 0': 1, 'A.2_DikeIncrease 1': 9, 'A.2_DikeIncrease 2': 2, 'A.3_DikeIncrease 0': 9, 'A.3_DikeIncrease 1': 7, 'A.3_DikeIncrease 2': 1, 'A.4_DikeIncrease 0': 0, 'A.4_DikeIncrease 1': 3, 'A.4_DikeIncrease 2': 10, 'A.5_DikeIncrease 0': 0, 'A.5_DikeIncrease 1': 2, 'A.5_DikeIncrease 2': 0, 'EWS_DaysToThreat': 0, 'scenario': 8, 'policy': 1, 'model': 'dikesnet'}),\n",
       " Scenario({'A.0_ID flood wave shape': 28, 'A.1_Bmax': 161.7355526944359, 'A.1_Brate': 1.0, 'A.1_pfail': 0.07284550041887089, 'A.2_Bmax': 172.47788862522034, 'A.2_Brate': 10, 'A.2_pfail': 0.13849946215631342, 'A.3_Bmax': 196.879193248871, 'A.3_Brate': 1.0, 'A.3_pfail': 0.9777139201016453, 'A.4_Bmax': 110.58429734406286, 'A.4_Brate': 10, 'A.4_pfail': 0.6755842431678151, 'A.5_Bmax': 234.89622474369273, 'A.5_Brate': 1.0, 'A.5_pfail': 0.5700316409843875, 'discount rate 0': 1.5, 'discount rate 1': 1.5, 'discount rate 2': 4.5, '0_RfR 0': 1, '0_RfR 1': 1, '0_RfR 2': 1, '1_RfR 0': 1, '1_RfR 1': 0, '1_RfR 2': 0, '2_RfR 0': 1, '2_RfR 1': 1, '2_RfR 2': 0, '3_RfR 0': 0, '3_RfR 1': 0, '3_RfR 2': 1, '4_RfR 0': 1, '4_RfR 1': 1, '4_RfR 2': 1, 'A.1_DikeIncrease 0': 2, 'A.1_DikeIncrease 1': 7, 'A.1_DikeIncrease 2': 2, 'A.2_DikeIncrease 0': 1, 'A.2_DikeIncrease 1': 9, 'A.2_DikeIncrease 2': 2, 'A.3_DikeIncrease 0': 9, 'A.3_DikeIncrease 1': 7, 'A.3_DikeIncrease 2': 1, 'A.4_DikeIncrease 0': 0, 'A.4_DikeIncrease 1': 3, 'A.4_DikeIncrease 2': 10, 'A.5_DikeIncrease 0': 0, 'A.5_DikeIncrease 1': 2, 'A.5_DikeIncrease 2': 0, 'EWS_DaysToThreat': 0, 'scenario': 10, 'policy': 1, 'model': 'dikesnet'}),\n",
       " Scenario({'A.0_ID flood wave shape': 18, 'A.1_Bmax': 312.4919299999464, 'A.1_Brate': 1.5, 'A.1_pfail': 0.8635129192389748, 'A.2_Bmax': 226.43658740151994, 'A.2_Brate': 1.5, 'A.2_pfail': 0.8045442733201553, 'A.3_Bmax': 90.16226104689677, 'A.3_Brate': 10, 'A.3_pfail': 0.17462684387725586, 'A.4_Bmax': 254.75363536513953, 'A.4_Brate': 10, 'A.4_pfail': 0.2573954822668172, 'A.5_Bmax': 211.01031829638015, 'A.5_Brate': 1.0, 'A.5_pfail': 0.9881702375530268, 'discount rate 0': 3.5, 'discount rate 1': 2.5, 'discount rate 2': 2.5, '0_RfR 0': 1, '0_RfR 1': 0, '0_RfR 2': 1, '1_RfR 0': 1, '1_RfR 1': 1, '1_RfR 2': 0, '2_RfR 0': 1, '2_RfR 1': 1, '2_RfR 2': 0, '3_RfR 0': 1, '3_RfR 1': 1, '3_RfR 2': 0, '4_RfR 0': 1, '4_RfR 1': 1, '4_RfR 2': 0, 'A.1_DikeIncrease 0': 8, 'A.1_DikeIncrease 1': 9, 'A.1_DikeIncrease 2': 0, 'A.2_DikeIncrease 0': 6, 'A.2_DikeIncrease 1': 7, 'A.2_DikeIncrease 2': 7, 'A.3_DikeIncrease 0': 3, 'A.3_DikeIncrease 1': 9, 'A.3_DikeIncrease 2': 3, 'A.4_DikeIncrease 0': 4, 'A.4_DikeIncrease 1': 6, 'A.4_DikeIncrease 2': 5, 'A.5_DikeIncrease 0': 5, 'A.5_DikeIncrease 1': 10, 'A.5_DikeIncrease 2': 9, 'EWS_DaysToThreat': 2, 'scenario': 9, 'policy': 3, 'model': 'dikesnet'})]"
      ]
     },
     "execution_count": 39,
     "metadata": {},
     "output_type": "execute_result"
    }
   ],
   "source": [
    "scenarios"
   ]
  },
  {
   "cell_type": "code",
   "execution_count": null,
   "id": "52560ec7-51f8-4809-94a5-3cd4299611e7",
   "metadata": {},
   "outputs": [],
   "source": []
  },
  {
   "cell_type": "code",
   "execution_count": null,
   "id": "051669c2-616f-4575-addc-a157768b1934",
   "metadata": {},
   "outputs": [],
   "source": []
  },
  {
   "cell_type": "code",
   "execution_count": null,
   "id": "92da0452-e1a2-47c3-b0c0-147ecbdbf098",
   "metadata": {},
   "outputs": [],
   "source": []
  },
  {
   "cell_type": "markdown",
   "id": "ce63545b-5636-45b7-b771-7366dc3432a0",
   "metadata": {},
   "source": [
    "# Mordm Run "
   ]
  },
  {
   "cell_type": "code",
   "execution_count": 43,
   "id": "2f6ec61e-f41e-423e-a07c-6bf73ebc0a26",
   "metadata": {},
   "outputs": [
    {
     "data": {
      "text/plain": [
       "Index(['A.1_Expected Annual Damage', 'A.1_Dike Investment Costs',\n",
       "       'A.1_Expected Number of Deaths', 'A.2_Expected Annual Damage',\n",
       "       'A.2_Dike Investment Costs', 'A.2_Expected Number of Deaths',\n",
       "       'A.3_Expected Annual Damage', 'A.3_Dike Investment Costs',\n",
       "       'A.3_Expected Number of Deaths', 'A.4_Expected Annual Damage',\n",
       "       'A.4_Dike Investment Costs', 'A.4_Expected Number of Deaths',\n",
       "       'A.5_Expected Annual Damage', 'A.5_Dike Investment Costs',\n",
       "       'A.5_Expected Number of Deaths', 'RfR Total Costs',\n",
       "       'Expected Evacuation Costs'],\n",
       "      dtype='object')"
      ]
     },
     "execution_count": 43,
     "metadata": {},
     "output_type": "execute_result"
    }
   ],
   "source": [
    "outcomes.keys()"
   ]
  },
  {
   "cell_type": "code",
   "execution_count": 42,
   "id": "89301dd0-c798-4180-b151-09c981b0fb92",
   "metadata": {},
   "outputs": [],
   "source": [
    "levers = ['A.0_ID flood wave shape', 'A.1_Bmax', 'A.1_Brate', 'A.1_pfail',\n",
    "       'A.2_Bmax', 'A.2_Brate', 'A.2_pfail', 'A.3_Bmax', 'A.3_Brate',\n",
    "       'A.3_pfail', 'A.4_Bmax', 'A.4_Brate', 'A.4_pfail', 'A.5_Bmax',\n",
    "       'A.5_Brate', 'A.5_pfail', 'discount rate 0', 'discount rate 1',\n",
    "       'discount rate 2', '0_RfR 0', '0_RfR 1', '0_RfR 2', '1_RfR 0',\n",
    "       '1_RfR 1', '1_RfR 2', '2_RfR 0', '2_RfR 1', '2_RfR 2', '3_RfR 0',\n",
    "       '3_RfR 1', '3_RfR 2', '4_RfR 0', '4_RfR 1', '4_RfR 2',\n",
    "       'A.1_DikeIncrease 0', 'A.1_DikeIncrease 1', 'A.1_DikeIncrease 2',\n",
    "       'A.2_DikeIncrease 0', 'A.2_DikeIncrease 1', 'A.2_DikeIncrease 2',\n",
    "       'A.3_DikeIncrease 0', 'A.3_DikeIncrease 1', 'A.3_DikeIncrease 2',\n",
    "       'A.4_DikeIncrease 0', 'A.4_DikeIncrease 1', 'A.4_DikeIncrease 2',\n",
    "       'A.5_DikeIncrease 0', 'A.5_DikeIncrease 1', 'A.5_DikeIncrease 2',\n",
    "       'EWS_DaysToThreat', 'scenario', 'policy', 'model']\n",
    "\n",
    "names_outcomes = ['A.1_Expected Annual Damage', 'A.1_Dike Investment Costs',\n",
    "       'A.1_Expected Number of Deaths', 'A.2_Expected Annual Damage',\n",
    "       'A.2_Dike Investment Costs', 'A.2_Expected Number of Deaths',\n",
    "       'A.3_Expected Annual Damage', 'A.3_Dike Investment Costs',\n",
    "       'A.3_Expected Number of Deaths', 'A.4_Expected Annual Damage',\n",
    "       'A.4_Dike Investment Costs', 'A.4_Expected Number of Deaths',\n",
    "       'A.5_Expected Annual Damage', 'A.5_Dike Investment Costs',\n",
    "       'A.5_Expected Number of Deaths', 'RfR Total Costs',\n",
    "       'Expected Evacuation Costs']"
   ]
  },
  {
   "cell_type": "code",
   "execution_count": null,
   "id": "32a6c493-651d-4f43-b2cd-cb7975418b03",
   "metadata": {},
   "outputs": [],
   "source": [
    "#Identify policies based on open exploration \n",
    "\n",
    "policies = [Policy('policy 1', **{'A.0_ID flood wave shape':, 'A.1_Bmax', 'A.1_Brate', 'A.1_pfail',\n",
    "       'A.2_Bmax', 'A.2_Brate', 'A.2_pfail', 'A.3_Bmax', 'A.3_Brate',\n",
    "       'A.3_pfail', 'A.4_Bmax', 'A.4_Brate', 'A.4_pfail', 'A.5_Bmax',\n",
    "       'A.5_Brate', 'A.5_pfail', 'discount rate 0', 'discount rate 1',\n",
    "       'discount rate 2', '0_RfR 0', '0_RfR 1', '0_RfR 2', '1_RfR 0',\n",
    "       '1_RfR 1', '1_RfR 2', '2_RfR 0', '2_RfR 1', '2_RfR 2', '3_RfR 0',\n",
    "       '3_RfR 1', '3_RfR 2', '4_RfR 0', '4_RfR 1', '4_RfR 2',\n",
    "       'A.1_DikeIncrease 0', 'A.1_DikeIncrease 1', 'A.1_DikeIncrease 2',\n",
    "       'A.2_DikeIncrease 0', 'A.2_DikeIncrease 1', 'A.2_DikeIncrease 2',\n",
    "       'A.3_DikeIncrease 0', 'A.3_DikeIncrease 1', 'A.3_DikeIncrease 2',\n",
    "       'A.4_DikeIncrease 0', 'A.4_DikeIncrease 1', 'A.4_DikeIncrease 2',\n",
    "       'A.5_DikeIncrease 0', 'A.5_DikeIncrease 1', 'A.5_DikeIncrease 2',\n",
    "       'EWS_DaysToThreat', 'scenario', 'policy', 'model'})]\n",
    "\n",
    "\n",
    "#            Policy('policy 2', **{'4_RfR 0':1,\n",
    "#                                   '4_RfR 1':1,\n",
    "#                                   '4_RfR 2':1,\n",
    "#                                   'A.5_DikeIncrease 0':5}),\n",
    "#            Policy('policy 3', **{'1_RfR 0':1,\n",
    "#                                   '2_RfR 1':1,\n",
    "#                                   '3_RfR 2':1,\n",
    "#                                   'A.3_DikeIncrease 0':5})]\n",
    "\n"
   ]
  },
  {
   "cell_type": "code",
   "execution_count": null,
   "id": "f1b489b7-0830-4156-b3f6-766a251305e8",
   "metadata": {},
   "outputs": [],
   "source": [
    "results = []\n",
    "for scenario in scenarios:\n",
    "    convergence_metrics = [HyperVolume(minimum=[0,0,0,0], maximum=[3, 2,1.01,1.01]),\n",
    "                           EpsilonProgress()]\n",
    "    epsilons = [0.1,]*len(model.outcomes)\n",
    "    \n",
    "    results.append(optimize(scenario, 1e4, model, convergence_metrics, epsilons))"
   ]
  },
  {
   "cell_type": "code",
   "execution_count": null,
   "id": "1743c6ef-6c2a-4e4a-8053-7c13e3af53ef",
   "metadata": {},
   "outputs": [],
   "source": []
  },
  {
   "cell_type": "code",
   "execution_count": null,
   "id": "0d2a0d66-7bfc-4755-aa2d-b90649e86a4e",
   "metadata": {},
   "outputs": [],
   "source": []
  },
  {
   "cell_type": "code",
   "execution_count": null,
   "id": "d3a9c6d8-4eda-4ddc-b9b8-107ea8d9fad1",
   "metadata": {},
   "outputs": [],
   "source": []
  },
  {
   "cell_type": "code",
   "execution_count": null,
   "id": "285d2472-f59d-4c16-826d-11821ceed2a8",
   "metadata": {},
   "outputs": [],
   "source": []
  },
  {
   "cell_type": "code",
   "execution_count": null,
   "id": "4f3e9f08-7bb3-4af1-a9a8-0e8951d15eeb",
   "metadata": {},
   "outputs": [],
   "source": []
  }
 ],
 "metadata": {
  "kernelspec": {
   "display_name": "Python 3 (ipykernel)",
   "language": "python",
   "name": "python3"
  },
  "language_info": {
   "codemirror_mode": {
    "name": "ipython",
    "version": 3
   },
   "file_extension": ".py",
   "mimetype": "text/x-python",
   "name": "python",
   "nbconvert_exporter": "python",
   "pygments_lexer": "ipython3",
   "version": "3.9.7"
  }
 },
 "nbformat": 4,
 "nbformat_minor": 5
}
