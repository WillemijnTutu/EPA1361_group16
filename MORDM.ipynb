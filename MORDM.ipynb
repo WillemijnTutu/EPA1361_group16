{
 "cells": [
  {
   "cell_type": "markdown",
   "id": "5d5b07ea",
   "metadata": {
    "tags": []
   },
   "source": [
    "# Room for the river: Gorssel "
   ]
  },
  {
   "cell_type": "markdown",
   "id": "3696bde3-f3c6-4cc2-9345-a20bf01784a4",
   "metadata": {
    "tags": []
   },
   "source": [
    "## Imports "
   ]
  },
  {
   "cell_type": "code",
   "execution_count": 1,
   "id": "b5c5fdfe",
   "metadata": {},
   "outputs": [],
   "source": [
    "#imports\n",
    "import numpy as np\n",
    "import scipy as sp\n",
    "import pandas as pd\n",
    "import matplotlib.pyplot as plt\n",
    "import seaborn as sns\n",
    "import networkx as nx\n",
    "import sys\n",
    "\n",
    "from ema_workbench import (Model, CategoricalParameter,ScalarOutcome, IntegerParameter, RealParameter,\n",
    "                           MultiprocessingEvaluator, ema_logging, Constant, Policy, Scenario,\n",
    "                           perform_experiments, SequentialEvaluator,Constraint)\n",
    "from problem_formulation import get_model_for_problem_formulation\n",
    "\n",
    "from dike_model_function import DikeNetwork  # @UnresolvedImport\n",
    "\n",
    "from ema_workbench.em_framework.optimization import (HyperVolume, EpsilonProgress,GenerationalBorg)\n",
    "from ema_workbench.em_framework.evaluators import (perform_experiments,BaseEvaluator)\n",
    "from ema_workbench.em_framework.samplers import sample_uncertainties\n",
    "from ema_workbench.util import ema_logging\n",
    "from ema_workbench.analysis import plotting, plotting_util, parcoords, feature_scoring, prim\n",
    "from ema_workbench import load_results \n",
    "\n",
    "from mpl_toolkits.mplot3d import Axes3D \n",
    "\n",
    "from sklearn import preprocessing\n",
    "\n",
    "import time\n",
    "import copy\n",
    "\n",
    "import itertools\n",
    "\n",
    "from concurrent.futures import ProcessPoolExecutor\n",
    "from concurrent.futures import ThreadPoolExecutor\n",
    "import os\n",
    "import functools\n",
    "\n",
    "import random\n"
   ]
  },
  {
   "cell_type": "code",
   "execution_count": 2,
   "id": "550506d3",
   "metadata": {},
   "outputs": [],
   "source": [
    "from scipy.spatial.distance import pdist, squareform\n",
    "\n",
    "def evaluate_diversity_single(indices, distances, weight=0.5, distance='euclidean'):\n",
    "    '''\n",
    "    takes the outcomes and selected scenario set (decision variables), \n",
    "    returns a single 'diversity' value for the scenario set.\n",
    "    outcomes : outcomes dictionary of the scenario ensemble\n",
    "    decision vars : indices of the scenario set\n",
    "    weight : weight given to the mean in the diversity metric. If 0, only minimum; if 1, only mean\n",
    "    '''\n",
    "    i, j = [e for e in zip(*itertools.combinations(indices, 2))]\n",
    "    subset_distances = distances[i, j]\n",
    "    minimum = np.min(subset_distances)\n",
    "    mean = np.mean(subset_distances)\n",
    "    diversity = (1-weight)*minimum + weight*mean\n",
    "    \n",
    "    return [diversity]\n",
    "\n",
    "\n",
    "def find_maxdiverse_scenarios(distances, combinations):\n",
    "    scores = []\n",
    "    for indices in combinations:\n",
    "        diversity = evaluate_diversity_single(indices, distances)\n",
    "        scores.append((diversity, indices))\n",
    "\n",
    "    return scores\n",
    "\n",
    "def optimize(scenario, nfe, model, converge_metrics, epsilons):\n",
    "    with SequentialEvaluator(model) as evaluator:\n",
    "    #with MultiprocessingEvaluator(model) as evaluator:\n",
    "        results, convergence = evaluator.optimize(nfe=nfe, searchover='levers',\n",
    "                                     convergence=convergence_metrics,\n",
    "                                     epsilons=epsilons,\n",
    "                                     reference=scenario)\n",
    "    return results, convergence\n",
    "\n",
    "def entries_to_remove(entries, the_dict):\n",
    "    for key in entries:\n",
    "        if key in the_dict:\n",
    "            del the_dict[key]"
   ]
  },
  {
   "cell_type": "markdown",
   "id": "ad865d25",
   "metadata": {
    "tags": []
   },
   "source": [
    "## Create Data "
   ]
  },
  {
   "cell_type": "markdown",
   "id": "beff434c-dd6e-497c-b9dc-acb38f23cd54",
   "metadata": {
    "tags": []
   },
   "source": [
    "### Run Model for outcomes and experiments "
   ]
  },
  {
   "cell_type": "code",
   "execution_count": 3,
   "id": "be198ee4",
   "metadata": {},
   "outputs": [],
   "source": [
    "#running the model through EMA workbench\n",
    "ema_logging.log_to_stderr(ema_logging.INFO)\n",
    "\n",
    "#choose problem formulation number, between 0-5\n",
    "#each problem formulation has its own list of outcomes\n",
    "dike_model, planning_steps = get_model_for_problem_formulation(3) \n"
   ]
  },
  {
   "cell_type": "code",
   "execution_count": 4,
   "id": "bf1cda88",
   "metadata": {
    "tags": []
   },
   "outputs": [
    {
     "name": "stderr",
     "output_type": "stream",
     "text": [
      "[MainProcess/INFO] performing 10 scenarios * 5 policies * 1 model(s) = 50 experiments\n",
      "  0%|                                                   | 0/50 [00:00<?, ?it/s][MainProcess/INFO] performing experiments sequentially\n",
      "100%|██████████████████████████████████████████| 50/50 [01:03<00:00,  1.28s/it]\n",
      "[MainProcess/INFO] experiments finished\n"
     ]
    }
   ],
   "source": [
    "with SequentialEvaluator(dike_model) as evaluator:\n",
    "    results_MORDM = evaluator.perform_experiments(scenarios=10, policies=5) \n",
    "    #s for number of scenarios, p for number of experiments \n",
    "    \n",
    "experiments_MORDM, outcomes_MORDM = results_MORDM \n",
    "#s for number of scenarios, p for number of experiments "
   ]
  },
  {
   "cell_type": "code",
   "execution_count": 5,
   "id": "dc1585da",
   "metadata": {},
   "outputs": [],
   "source": [
    "#save the initial results to be sure the original can be reused without having to run the model again \n",
    "raw_outcomes    = outcomes_MORDM.copy()\n",
    "raw_experiments = experiments_MORDM.copy()"
   ]
  },
  {
   "cell_type": "code",
   "execution_count": 6,
   "id": "2611422d",
   "metadata": {},
   "outputs": [
    {
     "data": {
      "text/plain": [
       "Index(['A.0_ID flood wave shape', 'A.1_Bmax', 'A.1_Brate', 'A.1_pfail',\n",
       "       'A.2_Bmax', 'A.2_Brate', 'A.2_pfail', 'A.3_Bmax', 'A.3_Brate',\n",
       "       'A.3_pfail', 'A.4_Bmax', 'A.4_Brate', 'A.4_pfail', 'A.5_Bmax',\n",
       "       'A.5_Brate', 'A.5_pfail', 'discount rate 0', 'discount rate 1',\n",
       "       'discount rate 2', '0_RfR 0', '0_RfR 1', '0_RfR 2', '1_RfR 0',\n",
       "       '1_RfR 1', '1_RfR 2', '2_RfR 0', '2_RfR 1', '2_RfR 2', '3_RfR 0',\n",
       "       '3_RfR 1', '3_RfR 2', '4_RfR 0', '4_RfR 1', '4_RfR 2',\n",
       "       'A.1_DikeIncrease 0', 'A.1_DikeIncrease 1', 'A.1_DikeIncrease 2',\n",
       "       'A.2_DikeIncrease 0', 'A.2_DikeIncrease 1', 'A.2_DikeIncrease 2',\n",
       "       'A.3_DikeIncrease 0', 'A.3_DikeIncrease 1', 'A.3_DikeIncrease 2',\n",
       "       'A.4_DikeIncrease 0', 'A.4_DikeIncrease 1', 'A.4_DikeIncrease 2',\n",
       "       'A.5_DikeIncrease 0', 'A.5_DikeIncrease 1', 'A.5_DikeIncrease 2',\n",
       "       'EWS_DaysToThreat', 'scenario', 'policy', 'model'],\n",
       "      dtype='object')"
      ]
     },
     "execution_count": 6,
     "metadata": {},
     "output_type": "execute_result"
    }
   ],
   "source": [
    "#create dataframes from the dictionaries \n",
    "\n",
    "df_experiments = pd.DataFrame(experiments_MORDM)\n",
    "\n",
    "df_outcomes =pd.DataFrame()\n",
    "for outcome in outcomes_MORDM.keys():\n",
    "    df_outcomes[outcome] = outcomes_MORDM[outcome]\n",
    "\n",
    "df_experiments\n",
    "df_experiments.columns"
   ]
  },
  {
   "cell_type": "markdown",
   "id": "a17af7b7-c334-44d4-aec5-41288ef776fa",
   "metadata": {
    "tags": []
   },
   "source": [
    "### Load in experiments and outcomes instead of running in this notebook "
   ]
  },
  {
   "cell_type": "code",
   "execution_count": 7,
   "id": "059187b4-ade3-4dea-9a01-6cf25b3ba4ec",
   "metadata": {},
   "outputs": [],
   "source": [
    "df_experiments_s1000_p10 = pd.read_csv(\"df_experiments_s1000_p10.csv\")\n",
    "df_outcomes_s1000_p10 = pd.read_csv(\"df_outcomes_s1000_p10.csv\")"
   ]
  },
  {
   "cell_type": "code",
   "execution_count": 8,
   "id": "cc263f97-3d16-456e-8d4f-5bcc31dc5224",
   "metadata": {},
   "outputs": [
    {
     "name": "stdout",
     "output_type": "stream",
     "text": [
      "(10000, 54)\n",
      "(10000, 18)\n"
     ]
    }
   ],
   "source": [
    "print(df_experiments_s1000_p10.shape) \n",
    "print(df_outcomes_s1000_p10.shape)"
   ]
  },
  {
   "cell_type": "markdown",
   "id": "57257c16-db13-4ccd-a4ec-f2637a69a641",
   "metadata": {
    "tags": []
   },
   "source": [
    "### Set experiments and outcomes "
   ]
  },
  {
   "cell_type": "code",
   "execution_count": 9,
   "id": "96d11f60",
   "metadata": {},
   "outputs": [],
   "source": [
    "#for now we choose to run the rest of the notebook with the smaller set of results, as created in this notebook \n",
    "experiments = df_experiments#_s1000_p10.copy()\n",
    "outcomes = df_outcomes#_s1000_p10.copy()\n"
   ]
  },
  {
   "cell_type": "code",
   "execution_count": 10,
   "id": "c577d076",
   "metadata": {},
   "outputs": [],
   "source": [
    "#outcomes.keys()"
   ]
  },
  {
   "cell_type": "markdown",
   "id": "6e08b309-3479-494b-8b3f-71253c6dbcea",
   "metadata": {
    "tags": []
   },
   "source": [
    "# Scenario Selection "
   ]
  },
  {
   "cell_type": "markdown",
   "id": "85c42931-5537-49df-866d-3f7484806754",
   "metadata": {
    "tags": []
   },
   "source": [
    "### Choose outcomes of interest "
   ]
  },
  {
   "cell_type": "code",
   "execution_count": 11,
   "id": "d7d0fe52",
   "metadata": {},
   "outputs": [],
   "source": [
    "#determine thresholds \n",
    "\n",
    "max_expected_annual_damage = 1\n",
    "#max_dike_investement = 10000\n",
    "#max_number_deaths = 1 \n",
    "#max_rfr_costs = 200000\n",
    "max_evacuation_costs = 5000\n",
    "\n"
   ]
  },
  {
   "cell_type": "code",
   "execution_count": 12,
   "id": "d57189e1",
   "metadata": {
    "tags": []
   },
   "outputs": [],
   "source": [
    "outcomes[['A.4_Expected Annual Damage','A.4_Dike Investment Costs', 'A.4_Expected Number of Deaths',\n",
    "          'RfR Total Costs','Expected Evacuation Costs']]\n",
    "\n",
    "outcomes_of_interest = outcomes[(outcomes['A.4_Expected Annual Damage']< max_expected_annual_damage) \n",
    "                                &( outcomes['Expected Evacuation Costs']<max_evacuation_costs)]\n",
    "\n",
    "y = (outcomes['A.4_Expected Annual Damage']< max_expected_annual_damage)&( outcomes['Expected Evacuation Costs']<max_evacuation_costs)\n",
    "#y"
   ]
  },
  {
   "cell_type": "code",
   "execution_count": 13,
   "id": "bb52c34d",
   "metadata": {
    "tags": []
   },
   "outputs": [
    {
     "data": {
      "text/html": [
       "<div>\n",
       "<style scoped>\n",
       "    .dataframe tbody tr th:only-of-type {\n",
       "        vertical-align: middle;\n",
       "    }\n",
       "\n",
       "    .dataframe tbody tr th {\n",
       "        vertical-align: top;\n",
       "    }\n",
       "\n",
       "    .dataframe thead th {\n",
       "        text-align: right;\n",
       "    }\n",
       "</style>\n",
       "<table border=\"1\" class=\"dataframe\">\n",
       "  <thead>\n",
       "    <tr style=\"text-align: right;\">\n",
       "      <th></th>\n",
       "      <th>A.1_Expected Annual Damage</th>\n",
       "      <th>A.1_Dike Investment Costs</th>\n",
       "      <th>A.1_Expected Number of Deaths</th>\n",
       "      <th>A.2_Expected Annual Damage</th>\n",
       "      <th>A.2_Dike Investment Costs</th>\n",
       "      <th>A.2_Expected Number of Deaths</th>\n",
       "      <th>A.3_Expected Annual Damage</th>\n",
       "      <th>A.3_Dike Investment Costs</th>\n",
       "      <th>A.3_Expected Number of Deaths</th>\n",
       "      <th>A.4_Expected Annual Damage</th>\n",
       "      <th>A.4_Dike Investment Costs</th>\n",
       "      <th>A.4_Expected Number of Deaths</th>\n",
       "      <th>A.5_Expected Annual Damage</th>\n",
       "      <th>A.5_Dike Investment Costs</th>\n",
       "      <th>A.5_Expected Number of Deaths</th>\n",
       "      <th>RfR Total Costs</th>\n",
       "      <th>Expected Evacuation Costs</th>\n",
       "    </tr>\n",
       "  </thead>\n",
       "  <tbody>\n",
       "    <tr>\n",
       "      <th>3</th>\n",
       "      <td>0.0</td>\n",
       "      <td>1.152729e+08</td>\n",
       "      <td>0.0</td>\n",
       "      <td>0.000000e+00</td>\n",
       "      <td>2.727317e+08</td>\n",
       "      <td>0.000000</td>\n",
       "      <td>0.000000e+00</td>\n",
       "      <td>1.306156e+08</td>\n",
       "      <td>0.000000</td>\n",
       "      <td>0.0</td>\n",
       "      <td>2.481566e+07</td>\n",
       "      <td>0.0</td>\n",
       "      <td>1.956190e+07</td>\n",
       "      <td>1.485042e+08</td>\n",
       "      <td>0.002629</td>\n",
       "      <td>756700000.0</td>\n",
       "      <td>1502.345827</td>\n",
       "    </tr>\n",
       "    <tr>\n",
       "      <th>4</th>\n",
       "      <td>0.0</td>\n",
       "      <td>1.152729e+08</td>\n",
       "      <td>0.0</td>\n",
       "      <td>0.000000e+00</td>\n",
       "      <td>2.727317e+08</td>\n",
       "      <td>0.000000</td>\n",
       "      <td>0.000000e+00</td>\n",
       "      <td>1.306156e+08</td>\n",
       "      <td>0.000000</td>\n",
       "      <td>0.0</td>\n",
       "      <td>2.481566e+07</td>\n",
       "      <td>0.0</td>\n",
       "      <td>0.000000e+00</td>\n",
       "      <td>1.485042e+08</td>\n",
       "      <td>0.000000</td>\n",
       "      <td>756700000.0</td>\n",
       "      <td>0.000000</td>\n",
       "    </tr>\n",
       "    <tr>\n",
       "      <th>7</th>\n",
       "      <td>0.0</td>\n",
       "      <td>1.152729e+08</td>\n",
       "      <td>0.0</td>\n",
       "      <td>0.000000e+00</td>\n",
       "      <td>2.727317e+08</td>\n",
       "      <td>0.000000</td>\n",
       "      <td>0.000000e+00</td>\n",
       "      <td>1.306156e+08</td>\n",
       "      <td>0.000000</td>\n",
       "      <td>0.0</td>\n",
       "      <td>2.481566e+07</td>\n",
       "      <td>0.0</td>\n",
       "      <td>0.000000e+00</td>\n",
       "      <td>1.485042e+08</td>\n",
       "      <td>0.000000</td>\n",
       "      <td>756700000.0</td>\n",
       "      <td>0.000000</td>\n",
       "    </tr>\n",
       "    <tr>\n",
       "      <th>8</th>\n",
       "      <td>0.0</td>\n",
       "      <td>1.152729e+08</td>\n",
       "      <td>0.0</td>\n",
       "      <td>0.000000e+00</td>\n",
       "      <td>2.727317e+08</td>\n",
       "      <td>0.000000</td>\n",
       "      <td>1.272344e+07</td>\n",
       "      <td>1.306156e+08</td>\n",
       "      <td>0.003345</td>\n",
       "      <td>0.0</td>\n",
       "      <td>2.481566e+07</td>\n",
       "      <td>0.0</td>\n",
       "      <td>0.000000e+00</td>\n",
       "      <td>1.485042e+08</td>\n",
       "      <td>0.000000</td>\n",
       "      <td>756700000.0</td>\n",
       "      <td>690.248432</td>\n",
       "    </tr>\n",
       "    <tr>\n",
       "      <th>10</th>\n",
       "      <td>0.0</td>\n",
       "      <td>1.345766e+08</td>\n",
       "      <td>0.0</td>\n",
       "      <td>7.308755e+06</td>\n",
       "      <td>3.269386e+08</td>\n",
       "      <td>0.001853</td>\n",
       "      <td>0.000000e+00</td>\n",
       "      <td>7.363550e+07</td>\n",
       "      <td>0.000000</td>\n",
       "      <td>0.0</td>\n",
       "      <td>4.411931e+07</td>\n",
       "      <td>0.0</td>\n",
       "      <td>0.000000e+00</td>\n",
       "      <td>1.470491e+08</td>\n",
       "      <td>0.000000</td>\n",
       "      <td>977600000.0</td>\n",
       "      <td>144.838708</td>\n",
       "    </tr>\n",
       "  </tbody>\n",
       "</table>\n",
       "</div>"
      ],
      "text/plain": [
       "    A.1_Expected Annual Damage  A.1_Dike Investment Costs  \\\n",
       "3                          0.0               1.152729e+08   \n",
       "4                          0.0               1.152729e+08   \n",
       "7                          0.0               1.152729e+08   \n",
       "8                          0.0               1.152729e+08   \n",
       "10                         0.0               1.345766e+08   \n",
       "\n",
       "    A.1_Expected Number of Deaths  A.2_Expected Annual Damage  \\\n",
       "3                             0.0                0.000000e+00   \n",
       "4                             0.0                0.000000e+00   \n",
       "7                             0.0                0.000000e+00   \n",
       "8                             0.0                0.000000e+00   \n",
       "10                            0.0                7.308755e+06   \n",
       "\n",
       "    A.2_Dike Investment Costs  A.2_Expected Number of Deaths  \\\n",
       "3                2.727317e+08                       0.000000   \n",
       "4                2.727317e+08                       0.000000   \n",
       "7                2.727317e+08                       0.000000   \n",
       "8                2.727317e+08                       0.000000   \n",
       "10               3.269386e+08                       0.001853   \n",
       "\n",
       "    A.3_Expected Annual Damage  A.3_Dike Investment Costs  \\\n",
       "3                 0.000000e+00               1.306156e+08   \n",
       "4                 0.000000e+00               1.306156e+08   \n",
       "7                 0.000000e+00               1.306156e+08   \n",
       "8                 1.272344e+07               1.306156e+08   \n",
       "10                0.000000e+00               7.363550e+07   \n",
       "\n",
       "    A.3_Expected Number of Deaths  A.4_Expected Annual Damage  \\\n",
       "3                        0.000000                         0.0   \n",
       "4                        0.000000                         0.0   \n",
       "7                        0.000000                         0.0   \n",
       "8                        0.003345                         0.0   \n",
       "10                       0.000000                         0.0   \n",
       "\n",
       "    A.4_Dike Investment Costs  A.4_Expected Number of Deaths  \\\n",
       "3                2.481566e+07                            0.0   \n",
       "4                2.481566e+07                            0.0   \n",
       "7                2.481566e+07                            0.0   \n",
       "8                2.481566e+07                            0.0   \n",
       "10               4.411931e+07                            0.0   \n",
       "\n",
       "    A.5_Expected Annual Damage  A.5_Dike Investment Costs  \\\n",
       "3                 1.956190e+07               1.485042e+08   \n",
       "4                 0.000000e+00               1.485042e+08   \n",
       "7                 0.000000e+00               1.485042e+08   \n",
       "8                 0.000000e+00               1.485042e+08   \n",
       "10                0.000000e+00               1.470491e+08   \n",
       "\n",
       "    A.5_Expected Number of Deaths  RfR Total Costs  Expected Evacuation Costs  \n",
       "3                        0.002629      756700000.0                1502.345827  \n",
       "4                        0.000000      756700000.0                   0.000000  \n",
       "7                        0.000000      756700000.0                   0.000000  \n",
       "8                        0.000000      756700000.0                 690.248432  \n",
       "10                       0.000000      977600000.0                 144.838708  "
      ]
     },
     "execution_count": 13,
     "metadata": {},
     "output_type": "execute_result"
    }
   ],
   "source": [
    "outcomes_of_interest.head()\n",
    "#shape(outcomes_of_interest) "
   ]
  },
  {
   "cell_type": "code",
   "execution_count": 14,
   "id": "9f64b3d4",
   "metadata": {
    "tags": []
   },
   "outputs": [
    {
     "data": {
      "text/html": [
       "<div>\n",
       "<style scoped>\n",
       "    .dataframe tbody tr th:only-of-type {\n",
       "        vertical-align: middle;\n",
       "    }\n",
       "\n",
       "    .dataframe tbody tr th {\n",
       "        vertical-align: top;\n",
       "    }\n",
       "\n",
       "    .dataframe thead th {\n",
       "        text-align: right;\n",
       "    }\n",
       "</style>\n",
       "<table border=\"1\" class=\"dataframe\">\n",
       "  <thead>\n",
       "    <tr style=\"text-align: right;\">\n",
       "      <th></th>\n",
       "      <th>A.0_ID flood wave shape</th>\n",
       "      <th>A.1_Bmax</th>\n",
       "      <th>A.1_Brate</th>\n",
       "      <th>A.1_pfail</th>\n",
       "      <th>A.2_Bmax</th>\n",
       "      <th>A.2_Brate</th>\n",
       "      <th>A.2_pfail</th>\n",
       "      <th>A.3_Bmax</th>\n",
       "      <th>A.3_Brate</th>\n",
       "      <th>A.3_pfail</th>\n",
       "      <th>...</th>\n",
       "      <th>A.4_DikeIncrease 0</th>\n",
       "      <th>A.4_DikeIncrease 1</th>\n",
       "      <th>A.4_DikeIncrease 2</th>\n",
       "      <th>A.5_DikeIncrease 0</th>\n",
       "      <th>A.5_DikeIncrease 1</th>\n",
       "      <th>A.5_DikeIncrease 2</th>\n",
       "      <th>EWS_DaysToThreat</th>\n",
       "      <th>scenario</th>\n",
       "      <th>policy</th>\n",
       "      <th>model</th>\n",
       "    </tr>\n",
       "  </thead>\n",
       "  <tbody>\n",
       "    <tr>\n",
       "      <th>0</th>\n",
       "      <td>100</td>\n",
       "      <td>199.729200</td>\n",
       "      <td>1.5</td>\n",
       "      <td>0.841227</td>\n",
       "      <td>179.631988</td>\n",
       "      <td>1.5</td>\n",
       "      <td>0.019861</td>\n",
       "      <td>203.901154</td>\n",
       "      <td>1.0</td>\n",
       "      <td>0.442921</td>\n",
       "      <td>...</td>\n",
       "      <td>2</td>\n",
       "      <td>1</td>\n",
       "      <td>4</td>\n",
       "      <td>4</td>\n",
       "      <td>10</td>\n",
       "      <td>3</td>\n",
       "      <td>3</td>\n",
       "      <td>5</td>\n",
       "      <td>0</td>\n",
       "      <td>dikesnet</td>\n",
       "    </tr>\n",
       "    <tr>\n",
       "      <th>1</th>\n",
       "      <td>61</td>\n",
       "      <td>253.740758</td>\n",
       "      <td>10</td>\n",
       "      <td>0.086528</td>\n",
       "      <td>270.111066</td>\n",
       "      <td>10</td>\n",
       "      <td>0.653221</td>\n",
       "      <td>80.952282</td>\n",
       "      <td>10</td>\n",
       "      <td>0.156632</td>\n",
       "      <td>...</td>\n",
       "      <td>2</td>\n",
       "      <td>1</td>\n",
       "      <td>4</td>\n",
       "      <td>4</td>\n",
       "      <td>10</td>\n",
       "      <td>3</td>\n",
       "      <td>3</td>\n",
       "      <td>6</td>\n",
       "      <td>0</td>\n",
       "      <td>dikesnet</td>\n",
       "    </tr>\n",
       "    <tr>\n",
       "      <th>2</th>\n",
       "      <td>118</td>\n",
       "      <td>275.480488</td>\n",
       "      <td>10</td>\n",
       "      <td>0.555356</td>\n",
       "      <td>190.810452</td>\n",
       "      <td>10</td>\n",
       "      <td>0.505669</td>\n",
       "      <td>322.780740</td>\n",
       "      <td>1.0</td>\n",
       "      <td>0.330517</td>\n",
       "      <td>...</td>\n",
       "      <td>2</td>\n",
       "      <td>1</td>\n",
       "      <td>4</td>\n",
       "      <td>4</td>\n",
       "      <td>10</td>\n",
       "      <td>3</td>\n",
       "      <td>3</td>\n",
       "      <td>7</td>\n",
       "      <td>0</td>\n",
       "      <td>dikesnet</td>\n",
       "    </tr>\n",
       "    <tr>\n",
       "      <th>3</th>\n",
       "      <td>73</td>\n",
       "      <td>95.429984</td>\n",
       "      <td>1.0</td>\n",
       "      <td>0.246126</td>\n",
       "      <td>334.636789</td>\n",
       "      <td>1.5</td>\n",
       "      <td>0.327103</td>\n",
       "      <td>291.730981</td>\n",
       "      <td>10</td>\n",
       "      <td>0.283566</td>\n",
       "      <td>...</td>\n",
       "      <td>2</td>\n",
       "      <td>1</td>\n",
       "      <td>4</td>\n",
       "      <td>4</td>\n",
       "      <td>10</td>\n",
       "      <td>3</td>\n",
       "      <td>3</td>\n",
       "      <td>8</td>\n",
       "      <td>0</td>\n",
       "      <td>dikesnet</td>\n",
       "    </tr>\n",
       "    <tr>\n",
       "      <th>4</th>\n",
       "      <td>51</td>\n",
       "      <td>298.670518</td>\n",
       "      <td>10</td>\n",
       "      <td>0.668636</td>\n",
       "      <td>307.345984</td>\n",
       "      <td>1.0</td>\n",
       "      <td>0.848143</td>\n",
       "      <td>137.646386</td>\n",
       "      <td>10</td>\n",
       "      <td>0.943071</td>\n",
       "      <td>...</td>\n",
       "      <td>2</td>\n",
       "      <td>1</td>\n",
       "      <td>4</td>\n",
       "      <td>4</td>\n",
       "      <td>10</td>\n",
       "      <td>3</td>\n",
       "      <td>3</td>\n",
       "      <td>9</td>\n",
       "      <td>0</td>\n",
       "      <td>dikesnet</td>\n",
       "    </tr>\n",
       "  </tbody>\n",
       "</table>\n",
       "<p>5 rows × 53 columns</p>\n",
       "</div>"
      ],
      "text/plain": [
       "   A.0_ID flood wave shape    A.1_Bmax A.1_Brate  A.1_pfail    A.2_Bmax  \\\n",
       "0                      100  199.729200       1.5   0.841227  179.631988   \n",
       "1                       61  253.740758        10   0.086528  270.111066   \n",
       "2                      118  275.480488        10   0.555356  190.810452   \n",
       "3                       73   95.429984       1.0   0.246126  334.636789   \n",
       "4                       51  298.670518        10   0.668636  307.345984   \n",
       "\n",
       "  A.2_Brate  A.2_pfail    A.3_Bmax A.3_Brate  A.3_pfail  ...  \\\n",
       "0       1.5   0.019861  203.901154       1.0   0.442921  ...   \n",
       "1        10   0.653221   80.952282        10   0.156632  ...   \n",
       "2        10   0.505669  322.780740       1.0   0.330517  ...   \n",
       "3       1.5   0.327103  291.730981        10   0.283566  ...   \n",
       "4       1.0   0.848143  137.646386        10   0.943071  ...   \n",
       "\n",
       "   A.4_DikeIncrease 0 A.4_DikeIncrease 1  A.4_DikeIncrease 2  \\\n",
       "0                   2                  1                   4   \n",
       "1                   2                  1                   4   \n",
       "2                   2                  1                   4   \n",
       "3                   2                  1                   4   \n",
       "4                   2                  1                   4   \n",
       "\n",
       "   A.5_DikeIncrease 0 A.5_DikeIncrease 1  A.5_DikeIncrease 2 EWS_DaysToThreat  \\\n",
       "0                   4                 10                   3                3   \n",
       "1                   4                 10                   3                3   \n",
       "2                   4                 10                   3                3   \n",
       "3                   4                 10                   3                3   \n",
       "4                   4                 10                   3                3   \n",
       "\n",
       "  scenario policy     model  \n",
       "0        5      0  dikesnet  \n",
       "1        6      0  dikesnet  \n",
       "2        7      0  dikesnet  \n",
       "3        8      0  dikesnet  \n",
       "4        9      0  dikesnet  \n",
       "\n",
       "[5 rows x 53 columns]"
      ]
     },
     "execution_count": 14,
     "metadata": {},
     "output_type": "execute_result"
    }
   ],
   "source": [
    "experiments.head()"
   ]
  },
  {
   "cell_type": "code",
   "execution_count": 15,
   "id": "9db12a75",
   "metadata": {},
   "outputs": [],
   "source": [
    "experiments_of_interest = experiments.loc[y]\n",
    "outcomes_df = pd.DataFrame({k:v[y] for k,v in outcomes.items()})\n",
    "\n",
    "#normalize outcomes on unit interval to ensure equal weighting of outcomes\n",
    "x = outcomes_df.values \n",
    "min_max_scaler = preprocessing.MinMaxScaler()\n",
    "x_scaled = min_max_scaler.fit_transform(x)\n",
    "normalized_outcomes = pd.DataFrame(x_scaled, columns=outcomes_df.columns)"
   ]
  },
  {
   "cell_type": "markdown",
   "id": "058a5b0d-b94b-4485-92ce-d79c4d9af06f",
   "metadata": {
    "tags": []
   },
   "source": [
    "### Create Combinations "
   ]
  },
  {
   "cell_type": "code",
   "execution_count": 16,
   "id": "1009aa87",
   "metadata": {},
   "outputs": [],
   "source": [
    "#Question: This cell doesn't run with a large dataframe as input for the outcomes and experiments. \n",
    "## How can we fix this? \n",
    "\n",
    "# foutmelding: \n",
    "#The kernel for Documents/GitHub/EPA1361_group16/MORDM.ipynb appears to have died. It will restart automatically. \n",
    "\n",
    "n_scen = experiments.loc[y].shape[0]\n",
    "indices = range(n_scen)\n",
    "set_size = 5\n",
    "\n",
    "n_scen\n",
    "combinations = itertools.combinations(indices, set_size)\n",
    "combinations = list(combinations)"
   ]
  },
  {
   "cell_type": "code",
   "execution_count": 17,
   "id": "2e039b1d",
   "metadata": {},
   "outputs": [],
   "source": [
    "sampled_combinations = random.sample(combinations, 100)"
   ]
  },
  {
   "cell_type": "code",
   "execution_count": 18,
   "id": "67f6bba2",
   "metadata": {},
   "outputs": [],
   "source": [
    "distances = squareform(pdist(normalized_outcomes.values))\n",
    "\n",
    "cores = os.cpu_count()\n",
    "partial_function = functools.partial(find_maxdiverse_scenarios, distances)\n",
    "\n",
    "\n",
    "#Difference ProcessPool en ThreadPool \n",
    "# https://superfastpython.com/threadpoolexecutor-vs-processpoolexecutor/#Comparison_of_ThreadPoolExecutor_vs_ProcessPoolExecutor\n",
    "#with ProcessPoolExecutor(max_workers=cores) as executor:\n",
    "\n",
    "with ThreadPoolExecutor(max_workers=cores) as executor:\n",
    "    worker_data = np.array_split(combinations, cores)\n",
    "    results = [e for e in executor.map(partial_function, worker_data)]\n",
    "    results = list(itertools.chain.from_iterable(results))\n",
    "    "
   ]
  },
  {
   "cell_type": "code",
   "execution_count": null,
   "id": "ccef6780-8d92-4cb4-94d6-e15f12dd8d6b",
   "metadata": {},
   "outputs": [],
   "source": []
  },
  {
   "cell_type": "code",
   "execution_count": 19,
   "id": "d4273343",
   "metadata": {},
   "outputs": [
    {
     "data": {
      "text/plain": [
       "([1.8961992780424732], array([ 1,  7, 13, 31, 33]))"
      ]
     },
     "execution_count": 19,
     "metadata": {},
     "output_type": "execute_result"
    }
   ],
   "source": [
    "results.sort(key=lambda entry:entry[0], reverse=True)\n",
    "most_diverse = results[0]\n",
    "most_diverse"
   ]
  },
  {
   "cell_type": "markdown",
   "id": "d68bfcf2-9b99-4c2a-8d69-878cee4f1e32",
   "metadata": {
    "jp-MarkdownHeadingCollapsed": true,
    "tags": []
   },
   "source": [
    "### create scenarios "
   ]
  },
  {
   "cell_type": "code",
   "execution_count": 20,
   "id": "98427f5d",
   "metadata": {},
   "outputs": [],
   "source": [
    "selected = experiments.loc[most_diverse[1], ['A.0_ID flood wave shape', 'A.1_Bmax', 'A.1_Brate', 'A.1_pfail',\n",
    "       'A.2_Bmax', 'A.2_Brate', 'A.2_pfail', 'A.3_Bmax', 'A.3_Brate',\n",
    "       'A.3_pfail', 'A.4_Bmax', 'A.4_Brate', 'A.4_pfail', 'A.5_Bmax',\n",
    "       'A.5_Brate', 'A.5_pfail', 'discount rate 0', 'discount rate 1',\n",
    "       'discount rate 2', '0_RfR 0', '0_RfR 1', '0_RfR 2', '1_RfR 0',\n",
    "       '1_RfR 1', '1_RfR 2', '2_RfR 0', '2_RfR 1', '2_RfR 2', '3_RfR 0',\n",
    "       '3_RfR 1', '3_RfR 2', '4_RfR 0', '4_RfR 1', '4_RfR 2',\n",
    "       'A.1_DikeIncrease 0', 'A.1_DikeIncrease 1', 'A.1_DikeIncrease 2',\n",
    "       'A.2_DikeIncrease 0', 'A.2_DikeIncrease 1', 'A.2_DikeIncrease 2',\n",
    "       'A.3_DikeIncrease 0', 'A.3_DikeIncrease 1', 'A.3_DikeIncrease 2',\n",
    "       'A.4_DikeIncrease 0', 'A.4_DikeIncrease 1', 'A.4_DikeIncrease 2',\n",
    "       'A.5_DikeIncrease 0', 'A.5_DikeIncrease 1', 'A.5_DikeIncrease 2',\n",
    "       'EWS_DaysToThreat', 'scenario', 'policy', 'model']]\n",
    "scenarios = [Scenario(f\"{index}\", **row) for index, row in selected.iterrows()]"
   ]
  },
  {
   "cell_type": "code",
   "execution_count": 21,
   "id": "3b962838",
   "metadata": {
    "tags": []
   },
   "outputs": [],
   "source": [
    "# Show what the scenarios entail \n",
    "\n",
    "# scenarios"
   ]
  },
  {
   "cell_type": "code",
   "execution_count": 22,
   "id": "f4eea637-f18a-4c44-8e87-64940ab09de3",
   "metadata": {},
   "outputs": [],
   "source": [
    "keys_notscenario = ['0_RfR 0', '0_RfR 1', '0_RfR 2', '1_RfR 0', '1_RfR 1', '1_RfR 2', \n",
    "               '2_RfR 0', '2_RfR 1', '2_RfR 2', '3_RfR 0', '3_RfR 1', '3_RfR 2', '4_RfR 0', \n",
    "               '4_RfR 1', '4_RfR 2', 'A.1_DikeIncrease 0', 'A.1_DikeIncrease 1', 'A.1_DikeIncrease 2', \n",
    "              'A.2_DikeIncrease 0', 'A.2_DikeIncrease 1', 'A.2_DikeIncrease 2', 'A.3_DikeIncrease 0', \n",
    "              'A.3_DikeIncrease 1', 'A.3_DikeIncrease 2', 'A.4_DikeIncrease 0', 'A.4_DikeIncrease 1', \n",
    "              'A.4_DikeIncrease 2', 'A.5_DikeIncrease 0', 'A.5_DikeIncrease 1', 'A.5_DikeIncrease 2', \n",
    "              'EWS_DaysToThreat', 'scenario', 'policy','model']"
   ]
  },
  {
   "cell_type": "code",
   "execution_count": 23,
   "id": "1c81fa6e-dc34-48eb-9694-65046189f864",
   "metadata": {},
   "outputs": [
    {
     "data": {
      "text/plain": [
       "Scenario({'A.0_ID flood wave shape': 90, 'A.1_Bmax': 148.5677699670607, 'A.1_Brate': 1.0, 'A.1_pfail': 0.47689171965852406, 'A.2_Bmax': 110.43089386411648, 'A.2_Brate': 1.0, 'A.2_pfail': 0.4561085337556638, 'A.3_Bmax': 243.05671074941174, 'A.3_Brate': 1.5, 'A.3_pfail': 0.5967027310168037, 'A.4_Bmax': 154.91711925061492, 'A.4_Brate': 10, 'A.4_pfail': 0.8135891355593321, 'A.5_Bmax': 230.680085073748, 'A.5_Brate': 1.5, 'A.5_pfail': 0.8904679647269454, 'discount rate 0': 4.5, 'discount rate 1': 3.5, 'discount rate 2': 4.5})"
      ]
     },
     "execution_count": 23,
     "metadata": {},
     "output_type": "execute_result"
    }
   ],
   "source": [
    "#create dictionary with only the uncertainties \n",
    "for i in range(0,5):\n",
    "    entries_to_remove(keys_notscenario, scenarios[i]) \n",
    "\n",
    "scenario_1 = scenarios[1]\n",
    "scenario_1"
   ]
  },
  {
   "cell_type": "code",
   "execution_count": 24,
   "id": "4afa300f-e067-422d-a466-4a09415e5b7b",
   "metadata": {
    "tags": []
   },
   "outputs": [
    {
     "data": {
      "text/plain": [
       "[Scenario({'A.0_ID flood wave shape': 61, 'A.1_Bmax': 253.7407581381288, 'A.1_Brate': 10, 'A.1_pfail': 0.08652849556785783, 'A.2_Bmax': 270.1110658331679, 'A.2_Brate': 10, 'A.2_pfail': 0.6532208478931818, 'A.3_Bmax': 80.95228151879678, 'A.3_Brate': 10, 'A.3_pfail': 0.1566316021173676, 'A.4_Bmax': 124.97865126441893, 'A.4_Brate': 1.5, 'A.4_pfail': 0.3959215531311364, 'A.5_Bmax': 308.79989245465845, 'A.5_Brate': 10, 'A.5_pfail': 0.23788454991600405, 'discount rate 0': 2.5, 'discount rate 1': 1.5, 'discount rate 2': 1.5}),\n",
       " Scenario({'A.0_ID flood wave shape': 90, 'A.1_Bmax': 148.5677699670607, 'A.1_Brate': 1.0, 'A.1_pfail': 0.47689171965852406, 'A.2_Bmax': 110.43089386411648, 'A.2_Brate': 1.0, 'A.2_pfail': 0.4561085337556638, 'A.3_Bmax': 243.05671074941174, 'A.3_Brate': 1.5, 'A.3_pfail': 0.5967027310168037, 'A.4_Bmax': 154.91711925061492, 'A.4_Brate': 10, 'A.4_pfail': 0.8135891355593321, 'A.5_Bmax': 230.680085073748, 'A.5_Brate': 1.5, 'A.5_pfail': 0.8904679647269454, 'discount rate 0': 4.5, 'discount rate 1': 3.5, 'discount rate 2': 4.5}),\n",
       " Scenario({'A.0_ID flood wave shape': 73, 'A.1_Bmax': 95.4299843712835, 'A.1_Brate': 1.0, 'A.1_pfail': 0.24612576751365428, 'A.2_Bmax': 334.63678901501646, 'A.2_Brate': 1.5, 'A.2_pfail': 0.32710319724431836, 'A.3_Bmax': 291.73098071881356, 'A.3_Brate': 10, 'A.3_pfail': 0.2835656586792134, 'A.4_Bmax': 315.0243858969299, 'A.4_Brate': 1.5, 'A.4_pfail': 0.7772014571695735, 'A.5_Bmax': 138.5222248597062, 'A.5_Brate': 1.0, 'A.5_pfail': 0.08138362141476341, 'discount rate 0': 3.5, 'discount rate 1': 3.5, 'discount rate 2': 2.5}),\n",
       " Scenario({'A.0_ID flood wave shape': 61, 'A.1_Bmax': 253.7407581381288, 'A.1_Brate': 10, 'A.1_pfail': 0.08652849556785783, 'A.2_Bmax': 270.1110658331679, 'A.2_Brate': 10, 'A.2_pfail': 0.6532208478931818, 'A.3_Bmax': 80.95228151879678, 'A.3_Brate': 10, 'A.3_pfail': 0.1566316021173676, 'A.4_Bmax': 124.97865126441893, 'A.4_Brate': 1.5, 'A.4_pfail': 0.3959215531311364, 'A.5_Bmax': 308.79989245465845, 'A.5_Brate': 10, 'A.5_pfail': 0.23788454991600405, 'discount rate 0': 2.5, 'discount rate 1': 1.5, 'discount rate 2': 1.5}),\n",
       " Scenario({'A.0_ID flood wave shape': 73, 'A.1_Bmax': 95.4299843712835, 'A.1_Brate': 1.0, 'A.1_pfail': 0.24612576751365428, 'A.2_Bmax': 334.63678901501646, 'A.2_Brate': 1.5, 'A.2_pfail': 0.32710319724431836, 'A.3_Bmax': 291.73098071881356, 'A.3_Brate': 10, 'A.3_pfail': 0.2835656586792134, 'A.4_Bmax': 315.0243858969299, 'A.4_Brate': 1.5, 'A.4_pfail': 0.7772014571695735, 'A.5_Bmax': 138.5222248597062, 'A.5_Brate': 1.0, 'A.5_pfail': 0.08138362141476341, 'discount rate 0': 3.5, 'discount rate 1': 3.5, 'discount rate 2': 2.5})]"
      ]
     },
     "execution_count": 24,
     "metadata": {},
     "output_type": "execute_result"
    }
   ],
   "source": [
    "scenarios"
   ]
  },
  {
   "cell_type": "markdown",
   "id": "2ef8ceed-8d9a-44a2-890d-bb9359cadabd",
   "metadata": {},
   "source": [
    "# Create Scenarios for full run "
   ]
  },
  {
   "cell_type": "code",
   "execution_count": 25,
   "id": "c5212196-e140-49bc-b779-66155e5ab294",
   "metadata": {},
   "outputs": [],
   "source": [
    "df_experiments_s1000_p10 = pd.read_csv(\"df_experiments_s1000_p10.csv\")\n",
    "df_outcomes_s1000_p10 = pd.read_csv(\"df_outcomes_s1000_p10.csv\")"
   ]
  },
  {
   "cell_type": "code",
   "execution_count": 26,
   "id": "a6d12186-aab0-40b2-9579-1a2dcd7d383e",
   "metadata": {},
   "outputs": [],
   "source": [
    "experiments_full = df_experiments_s1000_p10.copy()\n",
    "outcomes_full = df_outcomes_s1000_p10.copy()"
   ]
  },
  {
   "cell_type": "code",
   "execution_count": 27,
   "id": "dcf171a4-c117-48a8-a665-a6fa6d4d6ac0",
   "metadata": {},
   "outputs": [],
   "source": [
    "#determine thresholds \n",
    "\n",
    "max_expected_annual_damage = 1\n",
    "#max_dike_investement = 10000\n",
    "#max_number_deaths = 1 \n",
    "#max_rfr_costs = 200000\n",
    "max_evacuation_costs = 5000\n",
    "\n",
    "\n"
   ]
  },
  {
   "cell_type": "code",
   "execution_count": 28,
   "id": "996d20ef-5ad3-4af7-a5b1-e25943a7798f",
   "metadata": {},
   "outputs": [],
   "source": [
    "outcomes_full[['A.4_Expected Annual Damage','A.4_Dike Investment Costs', 'A.4_Expected Number of Deaths',\n",
    "          'RfR Total Costs','Expected Evacuation Costs']]\n",
    "\n",
    "outcomes_of_interest_full = outcomes_full[(outcomes_full['A.4_Expected Annual Damage']< max_expected_annual_damage) \n",
    "                                &( outcomes_full['Expected Evacuation Costs']<max_evacuation_costs)]\n",
    "\n",
    "y_full = (outcomes_full['A.4_Expected Annual Damage']< max_expected_annual_damage)&( outcomes_full['Expected Evacuation Costs']<max_evacuation_costs)\n",
    "#y"
   ]
  },
  {
   "cell_type": "code",
   "execution_count": 29,
   "id": "575cb2dc-c2cd-429f-80d1-ccc2ade0dc23",
   "metadata": {},
   "outputs": [],
   "source": [
    "experiments_of_interest_full = experiments_full.loc[y_full]\n",
    "outcomes_df_full = pd.DataFrame({k:v[y_full] for k,v in outcomes_full.items()})\n",
    "\n",
    "#normalize outcomes on unit interval to ensure equal weighting of outcomes\n",
    "x_full = outcomes_df_full.values \n",
    "min_max_scaler_full = preprocessing.MinMaxScaler()\n",
    "x_scaled_full = min_max_scaler_full.fit_transform(x_full)\n",
    "normalized_outcomes_full = pd.DataFrame(x_scaled_full, columns=outcomes_df_full.columns)"
   ]
  },
  {
   "cell_type": "code",
   "execution_count": 30,
   "id": "8edb3c9e-54b7-42e3-a338-989909cf8f54",
   "metadata": {},
   "outputs": [
    {
     "data": {
      "text/plain": [
       "7627"
      ]
     },
     "execution_count": 30,
     "metadata": {},
     "output_type": "execute_result"
    }
   ],
   "source": [
    "n_scen_full = experiments_full.loc[y_full].shape[0]\n",
    "indices_full = range(n_scen_full)\n",
    "set_size = 5\n",
    "\n",
    "n_scen_full\n",
    "#combinations_full = itertools.combinations(indices_full, set_size)\n",
    "#combinations_full = list(combinations_full)"
   ]
  },
  {
   "cell_type": "code",
   "execution_count": 31,
   "id": "6d98dfbf-7e7e-46f4-bbca-760d7f3f58c0",
   "metadata": {},
   "outputs": [
    {
     "data": {
      "text/plain": [
       "<itertools.combinations at 0x7fda5a9c99f0>"
      ]
     },
     "execution_count": 31,
     "metadata": {},
     "output_type": "execute_result"
    }
   ],
   "source": [
    "combinations_full = itertools.combinations(indices_full, set_size)\n",
    "#combinations_full = list(combinations_full)\n",
    "combinations_full"
   ]
  },
  {
   "cell_type": "code",
   "execution_count": 32,
   "id": "5cdf2995-01a8-4900-99d9-ee06b92523af",
   "metadata": {},
   "outputs": [],
   "source": [
    "#combinations_full = list(combinations_full)"
   ]
  },
  {
   "cell_type": "code",
   "execution_count": 33,
   "id": "30133406-c6bc-4105-b9ad-8c1e035ac99d",
   "metadata": {},
   "outputs": [],
   "source": [
    "# sampled_combinations_full = random.sample(combinations_full, 100)"
   ]
  },
  {
   "cell_type": "code",
   "execution_count": 34,
   "id": "56784c23-0cbf-402a-960b-3177e0317430",
   "metadata": {},
   "outputs": [],
   "source": [
    "# distances_full = squareform(pdist(normalized_outcomes_full.values))\n",
    "\n",
    "# cores = os.cpu_count()\n",
    "# partial_function_full = functools.partial(find_maxdiverse_scenarios, distances_full)\n",
    "\n",
    "\n",
    "# #Difference ProcessPool en ThreadPool \n",
    "# # https://superfastpython.com/threadpoolexecutor-vs-processpoolexecutor/#Comparison_of_ThreadPoolExecutor_vs_ProcessPoolExecutor\n",
    "# #with ProcessPoolExecutor(max_workers=cores) as executor:\n",
    "\n",
    "# with ThreadPoolExecutor(max_workers=cores) as executor:\n",
    "#     worker_data_full = np.array_split(combinations_full, cores)\n",
    "#     results_full = [e for e in executor.map(partial_function_full, worker_data_full)]\n",
    "#     results_full = list(itertools.chain.from_iterable(results_full))\n",
    "    "
   ]
  },
  {
   "cell_type": "code",
   "execution_count": 35,
   "id": "548a7e40-9ebf-4f7f-8e6f-6925b0ac728e",
   "metadata": {},
   "outputs": [],
   "source": [
    "# results_full.sort(key=lambda entry:entry[0], reverse=True)\n",
    "# most_diverse_full = results_full[0]\n",
    "# most_diverse_full"
   ]
  },
  {
   "cell_type": "code",
   "execution_count": 36,
   "id": "adb2c33c-88bc-465b-9f4f-b55e292163e4",
   "metadata": {},
   "outputs": [],
   "source": [
    "# selected_full = experiments_full.loc[most_diverse_full[1], ['A.0_ID flood wave shape', 'A.1_Bmax', 'A.1_Brate', 'A.1_pfail',\n",
    "#        'A.2_Bmax', 'A.2_Brate', 'A.2_pfail', 'A.3_Bmax', 'A.3_Brate',\n",
    "#        'A.3_pfail', 'A.4_Bmax', 'A.4_Brate', 'A.4_pfail', 'A.5_Bmax',\n",
    "#        'A.5_Brate', 'A.5_pfail', 'discount rate 0', 'discount rate 1',\n",
    "#        'discount rate 2', '0_RfR 0', '0_RfR 1', '0_RfR 2', '1_RfR 0',\n",
    "#        '1_RfR 1', '1_RfR 2', '2_RfR 0', '2_RfR 1', '2_RfR 2', '3_RfR 0',\n",
    "#        '3_RfR 1', '3_RfR 2', '4_RfR 0', '4_RfR 1', '4_RfR 2',\n",
    "#        'A.1_DikeIncrease 0', 'A.1_DikeIncrease 1', 'A.1_DikeIncrease 2',\n",
    "#        'A.2_DikeIncrease 0', 'A.2_DikeIncrease 1', 'A.2_DikeIncrease 2',\n",
    "#        'A.3_DikeIncrease 0', 'A.3_DikeIncrease 1', 'A.3_DikeIncrease 2',\n",
    "#        'A.4_DikeIncrease 0', 'A.4_DikeIncrease 1', 'A.4_DikeIncrease 2',\n",
    "#        'A.5_DikeIncrease 0', 'A.5_DikeIncrease 1', 'A.5_DikeIncrease 2',\n",
    "#        'EWS_DaysToThreat', 'scenario', 'policy', 'model']]\n",
    "# scenarios_full = [Scenario(f\"{index}\", **row) for index, row in selected_full.iterrows()]"
   ]
  },
  {
   "cell_type": "code",
   "execution_count": 37,
   "id": "1949f00c-8b21-4726-959c-76bdbbc510e1",
   "metadata": {},
   "outputs": [],
   "source": [
    "# scenarios_full"
   ]
  },
  {
   "cell_type": "code",
   "execution_count": null,
   "id": "e290ce5b-6bef-4a6d-9820-602e9a86673c",
   "metadata": {},
   "outputs": [],
   "source": []
  },
  {
   "cell_type": "code",
   "execution_count": null,
   "id": "7d3cbd6c-97d8-4e9b-9f3a-addbcefab1df",
   "metadata": {},
   "outputs": [],
   "source": []
  },
  {
   "cell_type": "markdown",
   "id": "642ea2dc",
   "metadata": {},
   "source": [
    "# Mordm Run "
   ]
  },
  {
   "cell_type": "markdown",
   "id": "a6ef873f-6526-49a6-aed4-0e6cf49e400e",
   "metadata": {
    "tags": []
   },
   "source": [
    "### Hypervolume determination "
   ]
  },
  {
   "cell_type": "code",
   "execution_count": 38,
   "id": "aa601d25",
   "metadata": {
    "tags": []
   },
   "outputs": [
    {
     "name": "stderr",
     "output_type": "stream",
     "text": [
      "  0%|                                                  | 0/100 [00:00<?, ?it/s]"
     ]
    },
    {
     "ename": "KeyboardInterrupt",
     "evalue": "",
     "output_type": "error",
     "traceback": [
      "\u001b[0;31m---------------------------------------------------------------------------\u001b[0m",
      "\u001b[0;31mKeyboardInterrupt\u001b[0m                         Traceback (most recent call last)",
      "\u001b[0;32m/var/folders/tl/_kt099d12lj0jm_6fymkgq7w0000gn/T/ipykernel_52729/1132712007.py\u001b[0m in \u001b[0;36m<module>\u001b[0;34m\u001b[0m\n\u001b[1;32m     10\u001b[0m     \u001b[0mepsilons\u001b[0m \u001b[0;34m=\u001b[0m \u001b[0;34m[\u001b[0m\u001b[0;36m0.1\u001b[0m\u001b[0;34m,\u001b[0m\u001b[0;34m]\u001b[0m\u001b[0;34m*\u001b[0m\u001b[0mlen\u001b[0m\u001b[0;34m(\u001b[0m\u001b[0mdike_model\u001b[0m\u001b[0;34m.\u001b[0m\u001b[0moutcomes\u001b[0m\u001b[0;34m)\u001b[0m\u001b[0;34m\u001b[0m\u001b[0;34m\u001b[0m\u001b[0m\n\u001b[1;32m     11\u001b[0m \u001b[0;34m\u001b[0m\u001b[0m\n\u001b[0;32m---> 12\u001b[0;31m     \u001b[0mresults\u001b[0m\u001b[0;34m.\u001b[0m\u001b[0mappend\u001b[0m\u001b[0;34m(\u001b[0m\u001b[0moptimize\u001b[0m\u001b[0;34m(\u001b[0m\u001b[0mscenario\u001b[0m\u001b[0;34m,\u001b[0m \u001b[0;36m100\u001b[0m\u001b[0;34m,\u001b[0m \u001b[0mdike_model\u001b[0m\u001b[0;34m,\u001b[0m \u001b[0mconvergence_metrics\u001b[0m\u001b[0;34m,\u001b[0m \u001b[0mepsilons\u001b[0m\u001b[0;34m)\u001b[0m\u001b[0;34m)\u001b[0m\u001b[0;34m\u001b[0m\u001b[0;34m\u001b[0m\u001b[0m\n\u001b[0m",
      "\u001b[0;32m/var/folders/tl/_kt099d12lj0jm_6fymkgq7w0000gn/T/ipykernel_52729/2313662014.py\u001b[0m in \u001b[0;36moptimize\u001b[0;34m(scenario, nfe, model, converge_metrics, epsilons)\u001b[0m\n\u001b[1;32m     29\u001b[0m     \u001b[0;32mwith\u001b[0m \u001b[0mSequentialEvaluator\u001b[0m\u001b[0;34m(\u001b[0m\u001b[0mmodel\u001b[0m\u001b[0;34m)\u001b[0m \u001b[0;32mas\u001b[0m \u001b[0mevaluator\u001b[0m\u001b[0;34m:\u001b[0m\u001b[0;34m\u001b[0m\u001b[0;34m\u001b[0m\u001b[0m\n\u001b[1;32m     30\u001b[0m     \u001b[0;31m#with MultiprocessingEvaluator(model) as evaluator:\u001b[0m\u001b[0;34m\u001b[0m\u001b[0;34m\u001b[0m\u001b[0m\n\u001b[0;32m---> 31\u001b[0;31m         results, convergence = evaluator.optimize(nfe=nfe, searchover='levers',\n\u001b[0m\u001b[1;32m     32\u001b[0m                                      \u001b[0mconvergence\u001b[0m\u001b[0;34m=\u001b[0m\u001b[0mconvergence_metrics\u001b[0m\u001b[0;34m,\u001b[0m\u001b[0;34m\u001b[0m\u001b[0;34m\u001b[0m\u001b[0m\n\u001b[1;32m     33\u001b[0m                                      \u001b[0mepsilons\u001b[0m\u001b[0;34m=\u001b[0m\u001b[0mepsilons\u001b[0m\u001b[0;34m,\u001b[0m\u001b[0;34m\u001b[0m\u001b[0;34m\u001b[0m\u001b[0m\n",
      "\u001b[0;32m/opt/anaconda3/lib/python3.9/site-packages/ema_workbench/em_framework/evaluators.py\u001b[0m in \u001b[0;36moptimize\u001b[0;34m(self, algorithm, nfe, searchover, reference, constraints, convergence_freq, logging_freq, **kwargs)\u001b[0m\n\u001b[1;32m    232\u001b[0m \u001b[0;34m\u001b[0m\u001b[0m\n\u001b[1;32m    233\u001b[0m         \"\"\"\n\u001b[0;32m--> 234\u001b[0;31m         return optimize(\n\u001b[0m\u001b[1;32m    235\u001b[0m             \u001b[0mself\u001b[0m\u001b[0;34m.\u001b[0m\u001b[0m_msis\u001b[0m\u001b[0;34m,\u001b[0m\u001b[0;34m\u001b[0m\u001b[0;34m\u001b[0m\u001b[0m\n\u001b[1;32m    236\u001b[0m             \u001b[0malgorithm\u001b[0m\u001b[0;34m=\u001b[0m\u001b[0malgorithm\u001b[0m\u001b[0;34m,\u001b[0m\u001b[0;34m\u001b[0m\u001b[0;34m\u001b[0m\u001b[0m\n",
      "\u001b[0;32m/opt/anaconda3/lib/python3.9/site-packages/ema_workbench/em_framework/evaluators.py\u001b[0m in \u001b[0;36moptimize\u001b[0;34m(models, algorithm, nfe, searchover, evaluator, reference, convergence, constraints, convergence_freq, logging_freq, **kwargs)\u001b[0m\n\u001b[1;32m    716\u001b[0m         \u001b[0mevaluator\u001b[0m \u001b[0;34m=\u001b[0m \u001b[0mSequentialEvaluator\u001b[0m\u001b[0;34m(\u001b[0m\u001b[0mmodels\u001b[0m\u001b[0;34m)\u001b[0m\u001b[0;34m\u001b[0m\u001b[0;34m\u001b[0m\u001b[0m\n\u001b[1;32m    717\u001b[0m \u001b[0;34m\u001b[0m\u001b[0m\n\u001b[0;32m--> 718\u001b[0;31m     return _optimize(\n\u001b[0m\u001b[1;32m    719\u001b[0m         \u001b[0mproblem\u001b[0m\u001b[0;34m,\u001b[0m\u001b[0;34m\u001b[0m\u001b[0;34m\u001b[0m\u001b[0m\n\u001b[1;32m    720\u001b[0m         \u001b[0mevaluator\u001b[0m\u001b[0;34m,\u001b[0m\u001b[0;34m\u001b[0m\u001b[0;34m\u001b[0m\u001b[0m\n",
      "\u001b[0;32m/opt/anaconda3/lib/python3.9/site-packages/ema_workbench/em_framework/optimization.py\u001b[0m in \u001b[0;36m_optimize\u001b[0;34m(problem, evaluator, algorithm, convergence, nfe, convergence_freq, logging_freq, **kwargs)\u001b[0m\n\u001b[1;32m    867\u001b[0m \u001b[0;34m\u001b[0m\u001b[0m\n\u001b[1;32m    868\u001b[0m     \u001b[0;32mwith\u001b[0m \u001b[0mtemporary_filter\u001b[0m\u001b[0;34m(\u001b[0m\u001b[0mname\u001b[0m\u001b[0;34m=\u001b[0m\u001b[0;34m[\u001b[0m\u001b[0mcallbacks\u001b[0m\u001b[0;34m.\u001b[0m\u001b[0m__name__\u001b[0m\u001b[0;34m,\u001b[0m \u001b[0mevaluators\u001b[0m\u001b[0;34m.\u001b[0m\u001b[0m__name__\u001b[0m\u001b[0;34m]\u001b[0m\u001b[0;34m,\u001b[0m \u001b[0mlevel\u001b[0m\u001b[0;34m=\u001b[0m\u001b[0mINFO\u001b[0m\u001b[0;34m)\u001b[0m\u001b[0;34m:\u001b[0m\u001b[0;34m\u001b[0m\u001b[0;34m\u001b[0m\u001b[0m\n\u001b[0;32m--> 869\u001b[0;31m         \u001b[0moptimizer\u001b[0m\u001b[0;34m.\u001b[0m\u001b[0mrun\u001b[0m\u001b[0;34m(\u001b[0m\u001b[0mnfe\u001b[0m\u001b[0;34m)\u001b[0m\u001b[0;34m\u001b[0m\u001b[0;34m\u001b[0m\u001b[0m\n\u001b[0m\u001b[1;32m    870\u001b[0m \u001b[0;34m\u001b[0m\u001b[0m\n\u001b[1;32m    871\u001b[0m     \u001b[0mconvergence\u001b[0m\u001b[0;34m(\u001b[0m\u001b[0moptimizer\u001b[0m\u001b[0;34m)\u001b[0m\u001b[0;34m\u001b[0m\u001b[0;34m\u001b[0m\u001b[0m\n",
      "\u001b[0;32m/opt/anaconda3/lib/python3.9/site-packages/platypus/core.py\u001b[0m in \u001b[0;36mrun\u001b[0;34m(self, condition, callback)\u001b[0m\n\u001b[1;32m    406\u001b[0m \u001b[0;34m\u001b[0m\u001b[0m\n\u001b[1;32m    407\u001b[0m         \u001b[0;32mwhile\u001b[0m \u001b[0;32mnot\u001b[0m \u001b[0mcondition\u001b[0m\u001b[0;34m(\u001b[0m\u001b[0mself\u001b[0m\u001b[0;34m)\u001b[0m\u001b[0;34m:\u001b[0m\u001b[0;34m\u001b[0m\u001b[0;34m\u001b[0m\u001b[0m\n\u001b[0;32m--> 408\u001b[0;31m             \u001b[0mself\u001b[0m\u001b[0;34m.\u001b[0m\u001b[0mstep\u001b[0m\u001b[0;34m(\u001b[0m\u001b[0;34m)\u001b[0m\u001b[0;34m\u001b[0m\u001b[0;34m\u001b[0m\u001b[0m\n\u001b[0m\u001b[1;32m    409\u001b[0m \u001b[0;34m\u001b[0m\u001b[0m\n\u001b[1;32m    410\u001b[0m             \u001b[0;32mif\u001b[0m \u001b[0mself\u001b[0m\u001b[0;34m.\u001b[0m\u001b[0mlog_frequency\u001b[0m \u001b[0;32mis\u001b[0m \u001b[0;32mnot\u001b[0m \u001b[0;32mNone\u001b[0m \u001b[0;32mand\u001b[0m \u001b[0mself\u001b[0m\u001b[0;34m.\u001b[0m\u001b[0mnfe\u001b[0m \u001b[0;34m>=\u001b[0m \u001b[0mlast_log\u001b[0m \u001b[0;34m+\u001b[0m \u001b[0mself\u001b[0m\u001b[0;34m.\u001b[0m\u001b[0mlog_frequency\u001b[0m\u001b[0;34m:\u001b[0m\u001b[0;34m\u001b[0m\u001b[0;34m\u001b[0m\u001b[0m\n",
      "\u001b[0;32m/opt/anaconda3/lib/python3.9/site-packages/platypus/algorithms.py\u001b[0m in \u001b[0;36mstep\u001b[0;34m(self)\u001b[0m\n\u001b[1;32m   1520\u001b[0m \u001b[0;34m\u001b[0m\u001b[0m\n\u001b[1;32m   1521\u001b[0m     \u001b[0;32mdef\u001b[0m \u001b[0mstep\u001b[0m\u001b[0;34m(\u001b[0m\u001b[0mself\u001b[0m\u001b[0;34m)\u001b[0m\u001b[0;34m:\u001b[0m\u001b[0;34m\u001b[0m\u001b[0;34m\u001b[0m\u001b[0m\n\u001b[0;32m-> 1522\u001b[0;31m         \u001b[0mself\u001b[0m\u001b[0;34m.\u001b[0m\u001b[0malgorithm\u001b[0m\u001b[0;34m.\u001b[0m\u001b[0mstep\u001b[0m\u001b[0;34m(\u001b[0m\u001b[0;34m)\u001b[0m\u001b[0;34m\u001b[0m\u001b[0;34m\u001b[0m\u001b[0m\n\u001b[0m\u001b[1;32m   1523\u001b[0m         \u001b[0mself\u001b[0m\u001b[0;34m.\u001b[0m\u001b[0miteration\u001b[0m \u001b[0;34m+=\u001b[0m \u001b[0;36m1\u001b[0m\u001b[0;34m\u001b[0m\u001b[0;34m\u001b[0m\u001b[0m\n\u001b[1;32m   1524\u001b[0m         \u001b[0mself\u001b[0m\u001b[0;34m.\u001b[0m\u001b[0mnfe\u001b[0m \u001b[0;34m=\u001b[0m \u001b[0mself\u001b[0m\u001b[0;34m.\u001b[0m\u001b[0malgorithm\u001b[0m\u001b[0;34m.\u001b[0m\u001b[0mnfe\u001b[0m\u001b[0;34m\u001b[0m\u001b[0;34m\u001b[0m\u001b[0m\n",
      "\u001b[0;32m/opt/anaconda3/lib/python3.9/site-packages/platypus/algorithms.py\u001b[0m in \u001b[0;36mstep\u001b[0;34m(self)\u001b[0m\n\u001b[1;32m    179\u001b[0m     \u001b[0;32mdef\u001b[0m \u001b[0mstep\u001b[0m\u001b[0;34m(\u001b[0m\u001b[0mself\u001b[0m\u001b[0;34m)\u001b[0m\u001b[0;34m:\u001b[0m\u001b[0;34m\u001b[0m\u001b[0;34m\u001b[0m\u001b[0m\n\u001b[1;32m    180\u001b[0m         \u001b[0;32mif\u001b[0m \u001b[0mself\u001b[0m\u001b[0;34m.\u001b[0m\u001b[0mnfe\u001b[0m \u001b[0;34m==\u001b[0m \u001b[0;36m0\u001b[0m\u001b[0;34m:\u001b[0m\u001b[0;34m\u001b[0m\u001b[0;34m\u001b[0m\u001b[0m\n\u001b[0;32m--> 181\u001b[0;31m             \u001b[0mself\u001b[0m\u001b[0;34m.\u001b[0m\u001b[0minitialize\u001b[0m\u001b[0;34m(\u001b[0m\u001b[0;34m)\u001b[0m\u001b[0;34m\u001b[0m\u001b[0;34m\u001b[0m\u001b[0m\n\u001b[0m\u001b[1;32m    182\u001b[0m         \u001b[0;32melse\u001b[0m\u001b[0;34m:\u001b[0m\u001b[0;34m\u001b[0m\u001b[0;34m\u001b[0m\u001b[0m\n\u001b[1;32m    183\u001b[0m             \u001b[0mself\u001b[0m\u001b[0;34m.\u001b[0m\u001b[0miterate\u001b[0m\u001b[0;34m(\u001b[0m\u001b[0;34m)\u001b[0m\u001b[0;34m\u001b[0m\u001b[0;34m\u001b[0m\u001b[0m\n",
      "\u001b[0;32m/opt/anaconda3/lib/python3.9/site-packages/platypus/algorithms.py\u001b[0m in \u001b[0;36minitialize\u001b[0;34m(self)\u001b[0m\n\u001b[1;32m    189\u001b[0m \u001b[0;34m\u001b[0m\u001b[0m\n\u001b[1;32m    190\u001b[0m     \u001b[0;32mdef\u001b[0m \u001b[0minitialize\u001b[0m\u001b[0;34m(\u001b[0m\u001b[0mself\u001b[0m\u001b[0;34m)\u001b[0m\u001b[0;34m:\u001b[0m\u001b[0;34m\u001b[0m\u001b[0;34m\u001b[0m\u001b[0m\n\u001b[0;32m--> 191\u001b[0;31m         \u001b[0msuper\u001b[0m\u001b[0;34m(\u001b[0m\u001b[0mNSGAII\u001b[0m\u001b[0;34m,\u001b[0m \u001b[0mself\u001b[0m\u001b[0;34m)\u001b[0m\u001b[0;34m.\u001b[0m\u001b[0minitialize\u001b[0m\u001b[0;34m(\u001b[0m\u001b[0;34m)\u001b[0m\u001b[0;34m\u001b[0m\u001b[0;34m\u001b[0m\u001b[0m\n\u001b[0m\u001b[1;32m    192\u001b[0m \u001b[0;34m\u001b[0m\u001b[0m\n\u001b[1;32m    193\u001b[0m         \u001b[0;32mif\u001b[0m \u001b[0mself\u001b[0m\u001b[0;34m.\u001b[0m\u001b[0marchive\u001b[0m \u001b[0;32mis\u001b[0m \u001b[0;32mnot\u001b[0m \u001b[0;32mNone\u001b[0m\u001b[0;34m:\u001b[0m\u001b[0;34m\u001b[0m\u001b[0;34m\u001b[0m\u001b[0m\n",
      "\u001b[0;32m/opt/anaconda3/lib/python3.9/site-packages/platypus/algorithms.py\u001b[0m in \u001b[0;36minitialize\u001b[0;34m(self)\u001b[0m\n\u001b[1;32m     70\u001b[0m     \u001b[0;32mdef\u001b[0m \u001b[0minitialize\u001b[0m\u001b[0;34m(\u001b[0m\u001b[0mself\u001b[0m\u001b[0;34m)\u001b[0m\u001b[0;34m:\u001b[0m\u001b[0;34m\u001b[0m\u001b[0;34m\u001b[0m\u001b[0m\n\u001b[1;32m     71\u001b[0m         \u001b[0mself\u001b[0m\u001b[0;34m.\u001b[0m\u001b[0mpopulation\u001b[0m \u001b[0;34m=\u001b[0m \u001b[0;34m[\u001b[0m\u001b[0mself\u001b[0m\u001b[0;34m.\u001b[0m\u001b[0mgenerator\u001b[0m\u001b[0;34m.\u001b[0m\u001b[0mgenerate\u001b[0m\u001b[0;34m(\u001b[0m\u001b[0mself\u001b[0m\u001b[0;34m.\u001b[0m\u001b[0mproblem\u001b[0m\u001b[0;34m)\u001b[0m \u001b[0;32mfor\u001b[0m \u001b[0m_\u001b[0m \u001b[0;32min\u001b[0m \u001b[0mrange\u001b[0m\u001b[0;34m(\u001b[0m\u001b[0mself\u001b[0m\u001b[0;34m.\u001b[0m\u001b[0mpopulation_size\u001b[0m\u001b[0;34m)\u001b[0m\u001b[0;34m]\u001b[0m\u001b[0;34m\u001b[0m\u001b[0;34m\u001b[0m\u001b[0m\n\u001b[0;32m---> 72\u001b[0;31m         \u001b[0mself\u001b[0m\u001b[0;34m.\u001b[0m\u001b[0mevaluate_all\u001b[0m\u001b[0;34m(\u001b[0m\u001b[0mself\u001b[0m\u001b[0;34m.\u001b[0m\u001b[0mpopulation\u001b[0m\u001b[0;34m)\u001b[0m\u001b[0;34m\u001b[0m\u001b[0;34m\u001b[0m\u001b[0m\n\u001b[0m\u001b[1;32m     73\u001b[0m \u001b[0;34m\u001b[0m\u001b[0m\n\u001b[1;32m     74\u001b[0m     \u001b[0;34m@\u001b[0m\u001b[0mabstractmethod\u001b[0m\u001b[0;34m\u001b[0m\u001b[0;34m\u001b[0m\u001b[0m\n",
      "\u001b[0;32m/opt/anaconda3/lib/python3.9/site-packages/platypus/core.py\u001b[0m in \u001b[0;36mevaluate_all\u001b[0;34m(self, solutions)\u001b[0m\n\u001b[1;32m    379\u001b[0m \u001b[0;34m\u001b[0m\u001b[0m\n\u001b[1;32m    380\u001b[0m         \u001b[0mjobs\u001b[0m \u001b[0;34m=\u001b[0m \u001b[0;34m[\u001b[0m\u001b[0m_EvaluateJob\u001b[0m\u001b[0;34m(\u001b[0m\u001b[0ms\u001b[0m\u001b[0;34m)\u001b[0m \u001b[0;32mfor\u001b[0m \u001b[0ms\u001b[0m \u001b[0;32min\u001b[0m \u001b[0munevaluated\u001b[0m\u001b[0;34m]\u001b[0m\u001b[0;34m\u001b[0m\u001b[0;34m\u001b[0m\u001b[0m\n\u001b[0;32m--> 381\u001b[0;31m         \u001b[0mresults\u001b[0m \u001b[0;34m=\u001b[0m \u001b[0mself\u001b[0m\u001b[0;34m.\u001b[0m\u001b[0mevaluator\u001b[0m\u001b[0;34m.\u001b[0m\u001b[0mevaluate_all\u001b[0m\u001b[0;34m(\u001b[0m\u001b[0mjobs\u001b[0m\u001b[0;34m)\u001b[0m\u001b[0;34m\u001b[0m\u001b[0;34m\u001b[0m\u001b[0m\n\u001b[0m\u001b[1;32m    382\u001b[0m \u001b[0;34m\u001b[0m\u001b[0m\n\u001b[1;32m    383\u001b[0m         \u001b[0;31m# if needed, update the original solution with the results\u001b[0m\u001b[0;34m\u001b[0m\u001b[0;34m\u001b[0m\u001b[0m\n",
      "\u001b[0;32m/opt/anaconda3/lib/python3.9/site-packages/ema_workbench/em_framework/evaluators.py\u001b[0m in \u001b[0;36mevaluate_all\u001b[0;34m(self, jobs, **kwargs)\u001b[0m\n\u001b[1;32m    160\u001b[0m \u001b[0;34m\u001b[0m\u001b[0m\n\u001b[1;32m    161\u001b[0m         \u001b[0;31m# overwrite the default 10 progress reports  with 5 reports\u001b[0m\u001b[0;34m\u001b[0m\u001b[0;34m\u001b[0m\u001b[0m\n\u001b[0;32m--> 162\u001b[0;31m         callback = perform_experiments(\n\u001b[0m\u001b[1;32m    163\u001b[0m             \u001b[0mself\u001b[0m\u001b[0;34m.\u001b[0m\u001b[0m_msis\u001b[0m\u001b[0;34m,\u001b[0m\u001b[0;34m\u001b[0m\u001b[0;34m\u001b[0m\u001b[0m\n\u001b[1;32m    164\u001b[0m             \u001b[0mevaluator\u001b[0m\u001b[0;34m=\u001b[0m\u001b[0mself\u001b[0m\u001b[0;34m,\u001b[0m\u001b[0;34m\u001b[0m\u001b[0;34m\u001b[0m\u001b[0m\n",
      "\u001b[0;32m/opt/anaconda3/lib/python3.9/site-packages/ema_workbench/em_framework/evaluators.py\u001b[0m in \u001b[0;36mperform_experiments\u001b[0;34m(models, scenarios, policies, evaluator, reporting_interval, reporting_frequency, uncertainty_union, lever_union, outcome_union, uncertainty_sampling, lever_sampling, callback, return_callback, combine, log_progress)\u001b[0m\n\u001b[1;32m    537\u001b[0m         \u001b[0mevaluator\u001b[0m \u001b[0;34m=\u001b[0m \u001b[0mSequentialEvaluator\u001b[0m\u001b[0;34m(\u001b[0m\u001b[0mmodels\u001b[0m\u001b[0;34m)\u001b[0m\u001b[0;34m\u001b[0m\u001b[0;34m\u001b[0m\u001b[0m\n\u001b[1;32m    538\u001b[0m \u001b[0;34m\u001b[0m\u001b[0m\n\u001b[0;32m--> 539\u001b[0;31m     \u001b[0mevaluator\u001b[0m\u001b[0;34m.\u001b[0m\u001b[0mevaluate_experiments\u001b[0m\u001b[0;34m(\u001b[0m\u001b[0mscenarios\u001b[0m\u001b[0;34m,\u001b[0m \u001b[0mpolicies\u001b[0m\u001b[0;34m,\u001b[0m \u001b[0mcallback\u001b[0m\u001b[0;34m,\u001b[0m \u001b[0mcombine\u001b[0m\u001b[0;34m=\u001b[0m\u001b[0mcombine\u001b[0m\u001b[0;34m)\u001b[0m\u001b[0;34m\u001b[0m\u001b[0;34m\u001b[0m\u001b[0m\n\u001b[0m\u001b[1;32m    540\u001b[0m \u001b[0;34m\u001b[0m\u001b[0m\n\u001b[1;32m    541\u001b[0m     \u001b[0;32mif\u001b[0m \u001b[0mcallback\u001b[0m\u001b[0;34m.\u001b[0m\u001b[0mi\u001b[0m \u001b[0;34m!=\u001b[0m \u001b[0mnr_of_exp\u001b[0m\u001b[0;34m:\u001b[0m\u001b[0;34m\u001b[0m\u001b[0;34m\u001b[0m\u001b[0m\n",
      "\u001b[0;32m/opt/anaconda3/lib/python3.9/site-packages/ema_workbench/em_framework/evaluators.py\u001b[0m in \u001b[0;36mevaluate_experiments\u001b[0;34m(self, scenarios, policies, callback, combine)\u001b[0m\n\u001b[1;32m    297\u001b[0m \u001b[0;34m\u001b[0m\u001b[0m\n\u001b[1;32m    298\u001b[0m         \u001b[0;32mfor\u001b[0m \u001b[0mexperiment\u001b[0m \u001b[0;32min\u001b[0m \u001b[0mex_gen\u001b[0m\u001b[0;34m:\u001b[0m\u001b[0;34m\u001b[0m\u001b[0;34m\u001b[0m\u001b[0m\n\u001b[0;32m--> 299\u001b[0;31m             \u001b[0moutcomes\u001b[0m \u001b[0;34m=\u001b[0m \u001b[0mrunner\u001b[0m\u001b[0;34m.\u001b[0m\u001b[0mrun_experiment\u001b[0m\u001b[0;34m(\u001b[0m\u001b[0mexperiment\u001b[0m\u001b[0;34m)\u001b[0m\u001b[0;34m\u001b[0m\u001b[0;34m\u001b[0m\u001b[0m\n\u001b[0m\u001b[1;32m    300\u001b[0m             \u001b[0mcallback\u001b[0m\u001b[0;34m(\u001b[0m\u001b[0mexperiment\u001b[0m\u001b[0;34m,\u001b[0m \u001b[0moutcomes\u001b[0m\u001b[0;34m)\u001b[0m\u001b[0;34m\u001b[0m\u001b[0;34m\u001b[0m\u001b[0m\n\u001b[1;32m    301\u001b[0m         \u001b[0mrunner\u001b[0m\u001b[0;34m.\u001b[0m\u001b[0mcleanup\u001b[0m\u001b[0;34m(\u001b[0m\u001b[0;34m)\u001b[0m\u001b[0;34m\u001b[0m\u001b[0;34m\u001b[0m\u001b[0m\n",
      "\u001b[0;32m/opt/anaconda3/lib/python3.9/site-packages/ema_workbench/util/ema_logging.py\u001b[0m in \u001b[0;36mwrapper\u001b[0;34m(*args, **kwargs)\u001b[0m\n\u001b[1;32m    150\u001b[0m             \u001b[0;31m# object instance as first arguments in args\u001b[0m\u001b[0;34m\u001b[0m\u001b[0;34m\u001b[0m\u001b[0m\n\u001b[1;32m    151\u001b[0m             \u001b[0mlogger\u001b[0m\u001b[0;34m.\u001b[0m\u001b[0mdebug\u001b[0m\u001b[0;34m(\u001b[0m\u001b[0;34m\"calling {} on {}\"\u001b[0m\u001b[0;34m.\u001b[0m\u001b[0mformat\u001b[0m\u001b[0;34m(\u001b[0m\u001b[0mfunc\u001b[0m\u001b[0;34m.\u001b[0m\u001b[0m__name__\u001b[0m\u001b[0;34m,\u001b[0m \u001b[0mclassname\u001b[0m\u001b[0;34m)\u001b[0m\u001b[0;34m)\u001b[0m\u001b[0;34m\u001b[0m\u001b[0;34m\u001b[0m\u001b[0m\n\u001b[0;32m--> 152\u001b[0;31m             \u001b[0mres\u001b[0m \u001b[0;34m=\u001b[0m \u001b[0mfunc\u001b[0m\u001b[0;34m(\u001b[0m\u001b[0;34m*\u001b[0m\u001b[0margs\u001b[0m\u001b[0;34m,\u001b[0m \u001b[0;34m**\u001b[0m\u001b[0mkwargs\u001b[0m\u001b[0;34m)\u001b[0m\u001b[0;34m\u001b[0m\u001b[0;34m\u001b[0m\u001b[0m\n\u001b[0m\u001b[1;32m    153\u001b[0m             \u001b[0mlogger\u001b[0m\u001b[0;34m.\u001b[0m\u001b[0mdebug\u001b[0m\u001b[0;34m(\u001b[0m\u001b[0;34m\"completed calling {} on {}\"\u001b[0m\u001b[0;34m.\u001b[0m\u001b[0mformat\u001b[0m\u001b[0;34m(\u001b[0m\u001b[0mfunc\u001b[0m\u001b[0;34m.\u001b[0m\u001b[0m__name__\u001b[0m\u001b[0;34m,\u001b[0m \u001b[0mclassname\u001b[0m\u001b[0;34m)\u001b[0m\u001b[0;34m)\u001b[0m\u001b[0;34m\u001b[0m\u001b[0;34m\u001b[0m\u001b[0m\n\u001b[1;32m    154\u001b[0m             \u001b[0;32mreturn\u001b[0m \u001b[0mres\u001b[0m\u001b[0;34m\u001b[0m\u001b[0;34m\u001b[0m\u001b[0m\n",
      "\u001b[0;32m/opt/anaconda3/lib/python3.9/site-packages/ema_workbench/em_framework/experiment_runner.py\u001b[0m in \u001b[0;36mrun_experiment\u001b[0;34m(self, experiment)\u001b[0m\n\u001b[1;32m     90\u001b[0m \u001b[0;34m\u001b[0m\u001b[0m\n\u001b[1;32m     91\u001b[0m         \u001b[0;32mtry\u001b[0m\u001b[0;34m:\u001b[0m\u001b[0;34m\u001b[0m\u001b[0;34m\u001b[0m\u001b[0m\n\u001b[0;32m---> 92\u001b[0;31m             \u001b[0mmodel\u001b[0m\u001b[0;34m.\u001b[0m\u001b[0mrun_model\u001b[0m\u001b[0;34m(\u001b[0m\u001b[0mscenario\u001b[0m\u001b[0;34m,\u001b[0m \u001b[0mpolicy\u001b[0m\u001b[0;34m)\u001b[0m\u001b[0;34m\u001b[0m\u001b[0;34m\u001b[0m\u001b[0m\n\u001b[0m\u001b[1;32m     93\u001b[0m         \u001b[0;32mexcept\u001b[0m \u001b[0mCaseError\u001b[0m \u001b[0;32mas\u001b[0m \u001b[0me\u001b[0m\u001b[0;34m:\u001b[0m\u001b[0;34m\u001b[0m\u001b[0;34m\u001b[0m\u001b[0m\n\u001b[1;32m     94\u001b[0m             \u001b[0m_logger\u001b[0m\u001b[0;34m.\u001b[0m\u001b[0mwarning\u001b[0m\u001b[0;34m(\u001b[0m\u001b[0mstr\u001b[0m\u001b[0;34m(\u001b[0m\u001b[0me\u001b[0m\u001b[0;34m)\u001b[0m\u001b[0;34m)\u001b[0m\u001b[0;34m\u001b[0m\u001b[0;34m\u001b[0m\u001b[0m\n",
      "\u001b[0;32m/opt/anaconda3/lib/python3.9/site-packages/ema_workbench/util/ema_logging.py\u001b[0m in \u001b[0;36mwrapper\u001b[0;34m(*args, **kwargs)\u001b[0m\n\u001b[1;32m    150\u001b[0m             \u001b[0;31m# object instance as first arguments in args\u001b[0m\u001b[0;34m\u001b[0m\u001b[0;34m\u001b[0m\u001b[0m\n\u001b[1;32m    151\u001b[0m             \u001b[0mlogger\u001b[0m\u001b[0;34m.\u001b[0m\u001b[0mdebug\u001b[0m\u001b[0;34m(\u001b[0m\u001b[0;34m\"calling {} on {}\"\u001b[0m\u001b[0;34m.\u001b[0m\u001b[0mformat\u001b[0m\u001b[0;34m(\u001b[0m\u001b[0mfunc\u001b[0m\u001b[0;34m.\u001b[0m\u001b[0m__name__\u001b[0m\u001b[0;34m,\u001b[0m \u001b[0mclassname\u001b[0m\u001b[0;34m)\u001b[0m\u001b[0;34m)\u001b[0m\u001b[0;34m\u001b[0m\u001b[0;34m\u001b[0m\u001b[0m\n\u001b[0;32m--> 152\u001b[0;31m             \u001b[0mres\u001b[0m \u001b[0;34m=\u001b[0m \u001b[0mfunc\u001b[0m\u001b[0;34m(\u001b[0m\u001b[0;34m*\u001b[0m\u001b[0margs\u001b[0m\u001b[0;34m,\u001b[0m \u001b[0;34m**\u001b[0m\u001b[0mkwargs\u001b[0m\u001b[0;34m)\u001b[0m\u001b[0;34m\u001b[0m\u001b[0;34m\u001b[0m\u001b[0m\n\u001b[0m\u001b[1;32m    153\u001b[0m             \u001b[0mlogger\u001b[0m\u001b[0;34m.\u001b[0m\u001b[0mdebug\u001b[0m\u001b[0;34m(\u001b[0m\u001b[0;34m\"completed calling {} on {}\"\u001b[0m\u001b[0;34m.\u001b[0m\u001b[0mformat\u001b[0m\u001b[0;34m(\u001b[0m\u001b[0mfunc\u001b[0m\u001b[0;34m.\u001b[0m\u001b[0m__name__\u001b[0m\u001b[0;34m,\u001b[0m \u001b[0mclassname\u001b[0m\u001b[0;34m)\u001b[0m\u001b[0;34m)\u001b[0m\u001b[0;34m\u001b[0m\u001b[0;34m\u001b[0m\u001b[0m\n\u001b[1;32m    154\u001b[0m             \u001b[0;32mreturn\u001b[0m \u001b[0mres\u001b[0m\u001b[0;34m\u001b[0m\u001b[0;34m\u001b[0m\u001b[0m\n",
      "\u001b[0;32m/opt/anaconda3/lib/python3.9/site-packages/ema_workbench/em_framework/model.py\u001b[0m in \u001b[0;36mrun_model\u001b[0;34m(self, scenario, policy)\u001b[0m\n\u001b[1;32m    348\u001b[0m         \u001b[0mexperiment\u001b[0m \u001b[0;34m=\u001b[0m \u001b[0mExperimentReplication\u001b[0m\u001b[0;34m(\u001b[0m\u001b[0mscenario\u001b[0m\u001b[0;34m,\u001b[0m \u001b[0mself\u001b[0m\u001b[0;34m.\u001b[0m\u001b[0mpolicy\u001b[0m\u001b[0;34m,\u001b[0m \u001b[0mconstants\u001b[0m\u001b[0;34m)\u001b[0m\u001b[0;34m\u001b[0m\u001b[0;34m\u001b[0m\u001b[0m\n\u001b[1;32m    349\u001b[0m \u001b[0;34m\u001b[0m\u001b[0m\n\u001b[0;32m--> 350\u001b[0;31m         \u001b[0moutputs\u001b[0m \u001b[0;34m=\u001b[0m \u001b[0mself\u001b[0m\u001b[0;34m.\u001b[0m\u001b[0mrun_experiment\u001b[0m\u001b[0;34m(\u001b[0m\u001b[0mexperiment\u001b[0m\u001b[0;34m)\u001b[0m\u001b[0;34m\u001b[0m\u001b[0;34m\u001b[0m\u001b[0m\n\u001b[0m\u001b[1;32m    351\u001b[0m \u001b[0;34m\u001b[0m\u001b[0m\n\u001b[1;32m    352\u001b[0m         \u001b[0mself\u001b[0m\u001b[0;34m.\u001b[0m\u001b[0moutcomes_output\u001b[0m \u001b[0;34m=\u001b[0m \u001b[0moutputs\u001b[0m\u001b[0;34m\u001b[0m\u001b[0;34m\u001b[0m\u001b[0m\n",
      "\u001b[0;32m/opt/anaconda3/lib/python3.9/site-packages/ema_workbench/util/ema_logging.py\u001b[0m in \u001b[0;36mwrapper\u001b[0;34m(*args, **kwargs)\u001b[0m\n\u001b[1;32m    150\u001b[0m             \u001b[0;31m# object instance as first arguments in args\u001b[0m\u001b[0;34m\u001b[0m\u001b[0;34m\u001b[0m\u001b[0m\n\u001b[1;32m    151\u001b[0m             \u001b[0mlogger\u001b[0m\u001b[0;34m.\u001b[0m\u001b[0mdebug\u001b[0m\u001b[0;34m(\u001b[0m\u001b[0;34m\"calling {} on {}\"\u001b[0m\u001b[0;34m.\u001b[0m\u001b[0mformat\u001b[0m\u001b[0;34m(\u001b[0m\u001b[0mfunc\u001b[0m\u001b[0;34m.\u001b[0m\u001b[0m__name__\u001b[0m\u001b[0;34m,\u001b[0m \u001b[0mclassname\u001b[0m\u001b[0;34m)\u001b[0m\u001b[0;34m)\u001b[0m\u001b[0;34m\u001b[0m\u001b[0;34m\u001b[0m\u001b[0m\n\u001b[0;32m--> 152\u001b[0;31m             \u001b[0mres\u001b[0m \u001b[0;34m=\u001b[0m \u001b[0mfunc\u001b[0m\u001b[0;34m(\u001b[0m\u001b[0;34m*\u001b[0m\u001b[0margs\u001b[0m\u001b[0;34m,\u001b[0m \u001b[0;34m**\u001b[0m\u001b[0mkwargs\u001b[0m\u001b[0;34m)\u001b[0m\u001b[0;34m\u001b[0m\u001b[0;34m\u001b[0m\u001b[0m\n\u001b[0m\u001b[1;32m    153\u001b[0m             \u001b[0mlogger\u001b[0m\u001b[0;34m.\u001b[0m\u001b[0mdebug\u001b[0m\u001b[0;34m(\u001b[0m\u001b[0;34m\"completed calling {} on {}\"\u001b[0m\u001b[0;34m.\u001b[0m\u001b[0mformat\u001b[0m\u001b[0;34m(\u001b[0m\u001b[0mfunc\u001b[0m\u001b[0;34m.\u001b[0m\u001b[0m__name__\u001b[0m\u001b[0;34m,\u001b[0m \u001b[0mclassname\u001b[0m\u001b[0;34m)\u001b[0m\u001b[0;34m)\u001b[0m\u001b[0;34m\u001b[0m\u001b[0;34m\u001b[0m\u001b[0m\n\u001b[1;32m    154\u001b[0m             \u001b[0;32mreturn\u001b[0m \u001b[0mres\u001b[0m\u001b[0;34m\u001b[0m\u001b[0;34m\u001b[0m\u001b[0m\n",
      "\u001b[0;32m/opt/anaconda3/lib/python3.9/site-packages/ema_workbench/em_framework/model.py\u001b[0m in \u001b[0;36mrun_experiment\u001b[0;34m(self, experiment)\u001b[0m\n\u001b[1;32m    401\u001b[0m \u001b[0;34m\u001b[0m\u001b[0m\n\u001b[1;32m    402\u001b[0m         \"\"\"\n\u001b[0;32m--> 403\u001b[0;31m         \u001b[0mmodel_output\u001b[0m \u001b[0;34m=\u001b[0m \u001b[0mself\u001b[0m\u001b[0;34m.\u001b[0m\u001b[0mfunction\u001b[0m\u001b[0;34m(\u001b[0m\u001b[0;34m**\u001b[0m\u001b[0mexperiment\u001b[0m\u001b[0;34m)\u001b[0m\u001b[0;34m\u001b[0m\u001b[0;34m\u001b[0m\u001b[0m\n\u001b[0m\u001b[1;32m    404\u001b[0m \u001b[0;34m\u001b[0m\u001b[0m\n\u001b[1;32m    405\u001b[0m         \u001b[0;31m# TODO: might it be possible to somehow abstract this\u001b[0m\u001b[0;34m\u001b[0m\u001b[0;34m\u001b[0m\u001b[0m\n",
      "\u001b[0;32m~/Documents/GitHub/EPA1361_group16/dike_model_function.py\u001b[0m in \u001b[0;36m__call__\u001b[0;34m(self, timestep, **kwargs)\u001b[0m\n\u001b[1;32m    232\u001b[0m                                     node['Qpol']) * self.timestepcorr\n\u001b[1;32m    233\u001b[0m \u001b[0;34m\u001b[0m\u001b[0m\n\u001b[0;32m--> 234\u001b[0;31m                             \u001b[0mArea\u001b[0m \u001b[0;34m=\u001b[0m \u001b[0mLookuplin\u001b[0m\u001b[0;34m(\u001b[0m\u001b[0mnode\u001b[0m\u001b[0;34m[\u001b[0m\u001b[0;34m'table'\u001b[0m\u001b[0;34m]\u001b[0m\u001b[0;34m,\u001b[0m \u001b[0;36m4\u001b[0m\u001b[0;34m,\u001b[0m \u001b[0;36m0\u001b[0m\u001b[0;34m,\u001b[0m \u001b[0mnode\u001b[0m\u001b[0;34m[\u001b[0m\u001b[0;34m'wl'\u001b[0m\u001b[0;34m]\u001b[0m\u001b[0;34m[\u001b[0m\u001b[0mt\u001b[0m\u001b[0;34m]\u001b[0m\u001b[0;34m)\u001b[0m\u001b[0;34m\u001b[0m\u001b[0;34m\u001b[0m\u001b[0m\n\u001b[0m\u001b[1;32m    235\u001b[0m                             \u001b[0mnode\u001b[0m\u001b[0;34m[\u001b[0m\u001b[0;34m'hbas'\u001b[0m\u001b[0;34m]\u001b[0m\u001b[0;34m[\u001b[0m\u001b[0mt\u001b[0m\u001b[0;34m]\u001b[0m \u001b[0;34m=\u001b[0m \u001b[0mnode\u001b[0m\u001b[0;34m[\u001b[0m\u001b[0;34m'cumVol'\u001b[0m\u001b[0;34m]\u001b[0m\u001b[0;34m[\u001b[0m\u001b[0mt\u001b[0m\u001b[0;34m]\u001b[0m \u001b[0;34m/\u001b[0m \u001b[0mfloat\u001b[0m\u001b[0;34m(\u001b[0m\u001b[0mArea\u001b[0m\u001b[0;34m)\u001b[0m\u001b[0;34m\u001b[0m\u001b[0;34m\u001b[0m\u001b[0m\n\u001b[1;32m    236\u001b[0m \u001b[0;34m\u001b[0m\u001b[0m\n",
      "\u001b[0;32m~/Documents/GitHub/EPA1361_group16/funs_dikes.py\u001b[0m in \u001b[0;36mLookuplin\u001b[0;34m(MyFile, inputcol, searchcol, inputvalue)\u001b[0m\n\u001b[1;32m     71\u001b[0m \u001b[0;34m\u001b[0m\u001b[0m\n\u001b[1;32m     72\u001b[0m     \u001b[0mA\u001b[0m \u001b[0;34m=\u001b[0m \u001b[0mnp\u001b[0m\u001b[0;34m.\u001b[0m\u001b[0mmax\u001b[0m\u001b[0;34m(\u001b[0m\u001b[0mMyFile\u001b[0m\u001b[0;34m[\u001b[0m\u001b[0mMyFile\u001b[0m\u001b[0;34m[\u001b[0m\u001b[0;34m:\u001b[0m\u001b[0;34m,\u001b[0m \u001b[0minputcol\u001b[0m\u001b[0;34m]\u001b[0m \u001b[0;34m<=\u001b[0m \u001b[0minputvalue\u001b[0m\u001b[0;34m,\u001b[0m \u001b[0minputcol\u001b[0m\u001b[0;34m]\u001b[0m\u001b[0;34m)\u001b[0m\u001b[0;34m\u001b[0m\u001b[0;34m\u001b[0m\u001b[0m\n\u001b[0;32m---> 73\u001b[0;31m     \u001b[0mB\u001b[0m \u001b[0;34m=\u001b[0m \u001b[0mnp\u001b[0m\u001b[0;34m.\u001b[0m\u001b[0mmin\u001b[0m\u001b[0;34m(\u001b[0m\u001b[0mMyFile\u001b[0m\u001b[0;34m[\u001b[0m\u001b[0mMyFile\u001b[0m\u001b[0;34m[\u001b[0m\u001b[0;34m:\u001b[0m\u001b[0;34m,\u001b[0m \u001b[0minputcol\u001b[0m\u001b[0;34m]\u001b[0m \u001b[0;34m>\u001b[0m \u001b[0minputvalue\u001b[0m\u001b[0;34m,\u001b[0m \u001b[0minputcol\u001b[0m\u001b[0;34m]\u001b[0m\u001b[0;34m)\u001b[0m\u001b[0;34m\u001b[0m\u001b[0;34m\u001b[0m\u001b[0m\n\u001b[0m\u001b[1;32m     74\u001b[0m     \u001b[0mC\u001b[0m \u001b[0;34m=\u001b[0m \u001b[0mnp\u001b[0m\u001b[0;34m.\u001b[0m\u001b[0mmax\u001b[0m\u001b[0;34m(\u001b[0m\u001b[0mMyFile\u001b[0m\u001b[0;34m[\u001b[0m\u001b[0mMyFile\u001b[0m\u001b[0;34m[\u001b[0m\u001b[0;34m:\u001b[0m\u001b[0;34m,\u001b[0m \u001b[0minputcol\u001b[0m\u001b[0;34m]\u001b[0m \u001b[0;34m==\u001b[0m \u001b[0mA\u001b[0m\u001b[0;34m,\u001b[0m \u001b[0msearchcol\u001b[0m\u001b[0;34m]\u001b[0m\u001b[0;34m)\u001b[0m\u001b[0;34m\u001b[0m\u001b[0;34m\u001b[0m\u001b[0m\n\u001b[1;32m     75\u001b[0m     \u001b[0mD\u001b[0m \u001b[0;34m=\u001b[0m \u001b[0mnp\u001b[0m\u001b[0;34m.\u001b[0m\u001b[0mmin\u001b[0m\u001b[0;34m(\u001b[0m\u001b[0mMyFile\u001b[0m\u001b[0;34m[\u001b[0m\u001b[0mMyFile\u001b[0m\u001b[0;34m[\u001b[0m\u001b[0;34m:\u001b[0m\u001b[0;34m,\u001b[0m \u001b[0minputcol\u001b[0m\u001b[0;34m]\u001b[0m \u001b[0;34m==\u001b[0m \u001b[0mB\u001b[0m\u001b[0;34m,\u001b[0m \u001b[0msearchcol\u001b[0m\u001b[0;34m]\u001b[0m\u001b[0;34m)\u001b[0m\u001b[0;34m\u001b[0m\u001b[0;34m\u001b[0m\u001b[0m\n",
      "\u001b[0;32m<__array_function__ internals>\u001b[0m in \u001b[0;36mamin\u001b[0;34m(*args, **kwargs)\u001b[0m\n",
      "\u001b[0;32m/opt/anaconda3/lib/python3.9/site-packages/numpy/core/fromnumeric.py\u001b[0m in \u001b[0;36mamin\u001b[0;34m(a, axis, out, keepdims, initial, where)\u001b[0m\n\u001b[1;32m   2856\u001b[0m     \u001b[0;36m6\u001b[0m\u001b[0;34m\u001b[0m\u001b[0;34m\u001b[0m\u001b[0m\n\u001b[1;32m   2857\u001b[0m     \"\"\"\n\u001b[0;32m-> 2858\u001b[0;31m     return _wrapreduction(a, np.minimum, 'min', axis, None, out,\n\u001b[0m\u001b[1;32m   2859\u001b[0m                           keepdims=keepdims, initial=initial, where=where)\n\u001b[1;32m   2860\u001b[0m \u001b[0;34m\u001b[0m\u001b[0m\n",
      "\u001b[0;32m/opt/anaconda3/lib/python3.9/site-packages/numpy/core/fromnumeric.py\u001b[0m in \u001b[0;36m_wrapreduction\u001b[0;34m(obj, ufunc, method, axis, dtype, out, **kwargs)\u001b[0m\n\u001b[1;32m     85\u001b[0m                 \u001b[0;32mreturn\u001b[0m \u001b[0mreduction\u001b[0m\u001b[0;34m(\u001b[0m\u001b[0maxis\u001b[0m\u001b[0;34m=\u001b[0m\u001b[0maxis\u001b[0m\u001b[0;34m,\u001b[0m \u001b[0mout\u001b[0m\u001b[0;34m=\u001b[0m\u001b[0mout\u001b[0m\u001b[0;34m,\u001b[0m \u001b[0;34m**\u001b[0m\u001b[0mpasskwargs\u001b[0m\u001b[0;34m)\u001b[0m\u001b[0;34m\u001b[0m\u001b[0;34m\u001b[0m\u001b[0m\n\u001b[1;32m     86\u001b[0m \u001b[0;34m\u001b[0m\u001b[0m\n\u001b[0;32m---> 87\u001b[0;31m     \u001b[0;32mreturn\u001b[0m \u001b[0mufunc\u001b[0m\u001b[0;34m.\u001b[0m\u001b[0mreduce\u001b[0m\u001b[0;34m(\u001b[0m\u001b[0mobj\u001b[0m\u001b[0;34m,\u001b[0m \u001b[0maxis\u001b[0m\u001b[0;34m,\u001b[0m \u001b[0mdtype\u001b[0m\u001b[0;34m,\u001b[0m \u001b[0mout\u001b[0m\u001b[0;34m,\u001b[0m \u001b[0;34m**\u001b[0m\u001b[0mpasskwargs\u001b[0m\u001b[0;34m)\u001b[0m\u001b[0;34m\u001b[0m\u001b[0;34m\u001b[0m\u001b[0m\n\u001b[0m\u001b[1;32m     88\u001b[0m \u001b[0;34m\u001b[0m\u001b[0m\n\u001b[1;32m     89\u001b[0m \u001b[0;34m\u001b[0m\u001b[0m\n",
      "\u001b[0;31mKeyboardInterrupt\u001b[0m: "
     ]
    }
   ],
   "source": [
    "#Question: This cell doesn't work, could you help us? \n",
    "\n",
    "ema_logging.log_to_stderr(ema_logging.INFO)\n",
    "\n",
    "results = []\n",
    "for scenario in scenarios:\n",
    "    convergence_metrics = [HyperVolume(minimum=[0,]*len(dike_model.outcomes), \n",
    "                                       maximum=[1000,]*len(dike_model.outcomes)),\n",
    "                           EpsilonProgress()]\n",
    "    epsilons = [0.1,]*len(dike_model.outcomes)\n",
    "    \n",
    "    results.append(optimize(scenario, 100, dike_model, convergence_metrics, epsilons))"
   ]
  },
  {
   "cell_type": "markdown",
   "id": "56527143-b9bb-46e0-910a-8a7e905c7858",
   "metadata": {},
   "source": [
    "### Epsilon volume determination "
   ]
  },
  {
   "cell_type": "code",
   "execution_count": null,
   "id": "0b781079-10d8-44bb-b5b3-11ecae7a26c5",
   "metadata": {
    "tags": []
   },
   "outputs": [
    {
     "name": "stderr",
     "output_type": "stream",
     "text": [
      "\n",
      "  0%|                                                 | 0/5000 [00:00<?, ?it/s]\u001b[A\n",
      "  2%|▊                                      | 100/5000 [00:28<23:27,  3.48it/s]\u001b[A\n",
      "  4%|█▌                                     | 200/5000 [00:56<22:26,  3.56it/s]\u001b[A\n",
      "  6%|██▎                                    | 300/5000 [01:25<22:26,  3.49it/s]\u001b[A\n",
      "  8%|███                                    | 400/5000 [01:55<22:12,  3.45it/s]\u001b[A\n",
      " 10%|███▉                                   | 500/5000 [02:25<22:08,  3.39it/s]\u001b[A\n",
      " 12%|████▋                                  | 600/5000 [02:56<21:55,  3.35it/s]\u001b[A\n",
      " 14%|█████▍                                 | 700/5000 [03:27<21:38,  3.31it/s]\u001b[A\n",
      " 16%|██████▏                                | 800/5000 [03:59<21:37,  3.24it/s]\u001b[A\n",
      " 18%|███████                                | 900/5000 [04:31<21:26,  3.19it/s]\u001b[A\n",
      " 20%|███████▊                               | 999/5000 [05:02<20:50,  3.20it/s]\u001b[A\n",
      " 22%|████████▎                             | 1099/5000 [05:35<20:36,  3.15it/s]\u001b[A\n",
      " 24%|█████████                             | 1198/5000 [06:07<20:20,  3.12it/s]\u001b[A"
     ]
    }
   ],
   "source": [
    "ema_logging.log_to_stderr(ema_logging.INFO)\n",
    "with MultiprocessingEvaluator(dike_model) as evaluator:\n",
    "    results1 = evaluator.optimize(nfe=5e3, searchover='levers',\n",
    "                                  epsilons=[1,]*len(dike_model.outcomes),reference = scenario_1)"
   ]
  },
  {
   "cell_type": "code",
   "execution_count": null,
   "id": "20754869-cf28-483c-ad7d-3393bf0dd551",
   "metadata": {},
   "outputs": [],
   "source": []
  },
  {
   "cell_type": "code",
   "execution_count": null,
   "id": "c7d2b019-f818-453b-8c95-3596aa7ed186",
   "metadata": {},
   "outputs": [],
   "source": []
  },
  {
   "cell_type": "markdown",
   "id": "12d53482",
   "metadata": {
    "tags": []
   },
   "source": [
    "## Plots "
   ]
  },
  {
   "cell_type": "code",
   "execution_count": null,
   "id": "28787226",
   "metadata": {},
   "outputs": [],
   "source": [
    "fig, (ax1, ax2) = plt.subplots(ncols=2)\n",
    "for i, (_, convergence) in enumerate(results):\n",
    "    ax1.plot(convergence.nfe, convergence.hypervolume, label=f'scenario {i}')\n",
    "    ax2.plot(convergence.nfe, convergence.epsilon_progress, label=f'scenario {i}')\n",
    "\n",
    "ax1.set_ylabel('hypervolume')\n",
    "ax1.set_xlabel('nfe')\n",
    "ax2.set_ylabel('$\\epsilon$ progress')\n",
    "ax2.set_xlabel('nfe')\n",
    "fig.legend()\n",
    "plt.show()"
   ]
  },
  {
   "cell_type": "markdown",
   "id": "4d448824-e491-4a95-8a40-8235a70a3410",
   "metadata": {},
   "source": [
    "# The part of the notebook below is not of interest for now "
   ]
  },
  {
   "cell_type": "code",
   "execution_count": null,
   "id": "a56edd8d",
   "metadata": {},
   "outputs": [],
   "source": [
    "colors = iter(sns.color_palette())\n",
    "\n",
    "data = results[0][0].iloc[:, 5::]\n",
    "limits = parcoords.get_limits(data)\n",
    "\n",
    "limits.loc[0, ['inertia', 'reliability']] = 1\n",
    "limits.loc[0, 'max_P'] = 4 # max over results based on quick inspection not shown here\n",
    "limits.loc[0, 'utility'] = 1 # max over results based on quick inspection not shown here\n",
    "limits.loc[1, :] = 0\n",
    "paraxes = parcoords.ParallelAxes(limits)\n",
    "\n",
    "\n",
    "for i, (result, _) in enumerate(results):\n",
    "    color = next(colors)\n",
    "    data = result.iloc[:, 5::]\n",
    "    paraxes.plot(data, label=f'scenario {i}', color=color)\n",
    "\n",
    "paraxes.legend()\n",
    "plt.show()\n",
    "\n"
   ]
  },
  {
   "cell_type": "markdown",
   "id": "4e954faa",
   "metadata": {
    "tags": []
   },
   "source": [
    "## Deep Uncertainty "
   ]
  },
  {
   "cell_type": "code",
   "execution_count": null,
   "id": "27ab11f8",
   "metadata": {
    "tags": []
   },
   "outputs": [],
   "source": [
    "#specify the policies \n",
    "\n",
    "policies = []\n",
    "for i, (result, _) in enumerate(results):\n",
    "    result = result.iloc[:, 0:5]\n",
    "    for j, row in result.iterrows():\n",
    "        policy = Policy(f'scenario {i} option {j}', **row.to_dict())\n",
    "        policies.append(policy)\n",
    "        \n",
    "## Our way: \n",
    "\n",
    "#Identify policies based on open exploration \n",
    "\n",
    "policies = [Policy('policy 1', **{'0_RfR 0':1,\n",
    "                                  '0_RfR 1':1,\n",
    "                                  '0_RfR 2':1,\n",
    "                                  'A.1_DikeIncrease 0':5,\n",
    "                                 'A.1_DikeIncrease 1':5}),\n",
    "           Policy('policy 2', **{'4_RfR 0':1,\n",
    "                                  '4_RfR 1':1,\n",
    "                                  '4_RfR 2':1,\n",
    "                                  'A.5_DikeIncrease 0':5}),\n",
    "           Policy('policy 3', **{'1_RfR 0':1,\n",
    "                                  '2_RfR 1':1,\n",
    "                                  '3_RfR 2':1,\n",
    "                                  'A.3_DikeIncrease 0':5})]\n",
    "        "
   ]
  },
  {
   "cell_type": "code",
   "execution_count": null,
   "id": "0fb508fb",
   "metadata": {},
   "outputs": [],
   "source": [
    "with MultiprocessingEvaluator(model) as evaluator:\n",
    "    reeevaluation_results = evaluator.perform_experiments(1000, policies=policies)"
   ]
  },
  {
   "cell_type": "markdown",
   "id": "0ed5dd9b",
   "metadata": {},
   "source": [
    "Calculate both the maximum regret, and the domain criterion using the values provided in [Bartholomew and Kwakkel (2020)](https://doi.org/10.1016/j.envsoft.2020.104699). Ignore the max_P objective.\n",
    "\n"
   ]
  },
  {
   "cell_type": "code",
   "execution_count": null,
   "id": "df7786cd",
   "metadata": {},
   "outputs": [],
   "source": [
    "\n",
    "experiments, outcomes = reeevaluation_results\n",
    "\n",
    "#as defined earlier: \n",
    "thresholds = {'utility':0.75, 'inertia':0.99, 'reliability':0.8}\n",
    "\n",
    "overall_scores = {}\n",
    "for policy in experiments.policy.unique():\n",
    "    logical = experiments.policy == policy\n",
    "    scores = {}\n",
    "    for k, v in outcomes.items():\n",
    "        try:\n",
    "            n = np.sum(v[logical]>=thresholds[k])\n",
    "        except KeyError:\n",
    "            continue\n",
    "        scores[k] = n/1000 \n",
    "    overall_scores[policy] = scores\n",
    "        \n",
    "overall_scores = pd.DataFrame(overall_scores).T"
   ]
  },
  {
   "cell_type": "code",
   "execution_count": null,
   "id": "d50c3712",
   "metadata": {},
   "outputs": [],
   "source": [
    "limits = parcoords.get_limits(overall_scores)\n",
    "paraxes = parcoords.ParallelAxes(limits)\n",
    "paraxes.plot(overall_scores)\n",
    "plt.show()"
   ]
  },
  {
   "cell_type": "markdown",
   "id": "4beb4a85",
   "metadata": {},
   "source": [
    "Alternative way?? "
   ]
  },
  {
   "cell_type": "code",
   "execution_count": null,
   "id": "de0d4d92",
   "metadata": {},
   "outputs": [],
   "source": [
    "overall_scores = {}\n",
    "regret = []\n",
    "for scenario in experiments.scenario.unique():\n",
    "    logical = experiments.scenario==scenario\n",
    "    temp_results = {k:v[logical] for k,v in outcomes.items()}\n",
    "    temp_results = pd.DataFrame(temp_results)\n",
    "    temp_experiments = experiments[experiments.scenario==scenario]\n",
    "        \n",
    "    best = temp_results.max()\n",
    "    best['max_P'] = temp_results.max_P.min()\n",
    "    scenario_regret = a - best\n",
    "    scenario_regret['policy'] = temp_experiments.policy.values    \n",
    "    regret.append(scenario_regret)\n",
    "\n"
   ]
  },
  {
   "cell_type": "code",
   "execution_count": null,
   "id": "2d4e37f8",
   "metadata": {},
   "outputs": [],
   "source": [
    "regret = pd.concat(regret)\n",
    "maxregret = regret.groupby('policy').max()"
   ]
  },
  {
   "cell_type": "code",
   "execution_count": null,
   "id": "5bc13d6c",
   "metadata": {},
   "outputs": [],
   "source": [
    "limits = parcoords.get_limits(maxregret)\n",
    "paraxes = parcoords.ParallelAxes(maxregret)\n",
    "paraxes.plot(maxregret)\n",
    "plt.show()"
   ]
  },
  {
   "cell_type": "code",
   "execution_count": null,
   "id": "7326cad9-fbbf-4622-aaad-0053c88b9d49",
   "metadata": {},
   "outputs": [],
   "source": []
  },
  {
   "cell_type": "code",
   "execution_count": null,
   "id": "9cd9ded8-91b0-4208-89ae-7e3d20c66c2a",
   "metadata": {},
   "outputs": [],
   "source": []
  },
  {
   "cell_type": "markdown",
   "id": "461ee81a-e874-418c-bc0f-fcd46757fb40",
   "metadata": {
    "tags": []
   },
   "source": [
    "## Notes "
   ]
  },
  {
   "cell_type": "code",
   "execution_count": null,
   "id": "37b98541-377f-4aea-9bdd-92a780441311",
   "metadata": {},
   "outputs": [],
   "source": [
    "outcomes[['A.4_Expected Annual Damage','A.4_Dike Investment Costs', 'A.4_Expected Number of Deaths',\n",
    "          'RfR Total Costs','Expected Evacuation Costs']]"
   ]
  },
  {
   "cell_type": "code",
   "execution_count": null,
   "id": "c837a7c7-ce07-438e-90cf-feaeafd4ed9f",
   "metadata": {},
   "outputs": [],
   "source": [
    "# dike_model.outcomes = [ScalarOutcome('A.4_Expected Annual Damage', kind=ScalarOutcome.MINIMIZE),\n",
    "#                        ScalarOutcome('A.4_Dike Investment Costs', kind=ScalarOutcome.MINIMIZE),\n",
    "#                        ScalarOutcome('A.4_Expected Number of Deaths', kind=ScalarOutcome.MINIMIZE),\n",
    "#                        ScalarOutcome('RfR Total Costs', kind=ScalarOutcome.MINIMIZE),\n",
    "#                        ScalarOutcome('Expected Evacuation Costs', kind=ScalarOutcome.MINIMIZE)] "
   ]
  },
  {
   "cell_type": "code",
   "execution_count": null,
   "id": "4bea1e0f-125b-421d-bf9b-a11403ad39c4",
   "metadata": {},
   "outputs": [],
   "source": [
    "levers = ['A.0_ID flood wave shape', \n",
    "        'A.1_Bmax', 'A.1_Brate', 'A.1_pfail',\n",
    "        'A.2_Bmax', 'A.2_Brate', 'A.2_pfail', \n",
    "        'A.3_Bmax', 'A.3_Brate', 'A.3_pfail', \n",
    "        'A.4_Bmax', 'A.4_Brate', 'A.4_pfail', \n",
    "        'A.5_Bmax', 'A.5_Brate', 'A.5_pfail', \n",
    "          'discount rate 0', 'discount rate 1','discount rate 2', \n",
    "          '0_RfR 0', '0_RfR 1', '0_RfR 2', \n",
    "          '1_RfR 0','1_RfR 1', '1_RfR 2', \n",
    "          '2_RfR 0', '2_RfR 1', '2_RfR 2', \n",
    "          '3_RfR 0','3_RfR 1', '3_RfR 2', \n",
    "          '4_RfR 0', '4_RfR 1', '4_RfR 2',\n",
    "       'A.1_DikeIncrease 0', 'A.1_DikeIncrease 1', 'A.1_DikeIncrease 2',\n",
    "       'A.2_DikeIncrease 0', 'A.2_DikeIncrease 1', 'A.2_DikeIncrease 2',\n",
    "       'A.3_DikeIncrease 0', 'A.3_DikeIncrease 1', 'A.3_DikeIncrease 2',\n",
    "       'A.4_DikeIncrease 0', 'A.4_DikeIncrease 1', 'A.4_DikeIncrease 2',\n",
    "       'A.5_DikeIncrease 0', 'A.5_DikeIncrease 1', 'A.5_DikeIncrease 2',\n",
    "       'EWS_DaysToThreat', 'scenario', 'policy', 'model']\n",
    "\n",
    "\n",
    "\n",
    "levers_of_interest = ['A.4_Bmax', 'A.4_Brate', 'A.4_pfail',\n",
    "        '0_RfR 0', '0_RfR 1', '0_RfR 2', \n",
    "        '1_RfR 0','1_RfR 1', '1_RfR 2', \n",
    "        '2_RfR 0','2_RfR 1', '2_RfR 2', \n",
    "        '3_RfR 0','3_RfR 1', '3_RfR 2', \n",
    "        '4_RfR 0','4_RfR 1', '4_RfR 2',\n",
    "       'A.1_DikeIncrease 0', 'A.1_DikeIncrease 1', 'A.1_DikeIncrease 2',\n",
    "       'A.2_DikeIncrease 0', 'A.2_DikeIncrease 1', 'A.2_DikeIncrease 2',\n",
    "       'A.3_DikeIncrease 0', 'A.3_DikeIncrease 1', 'A.3_DikeIncrease 2',\n",
    "       'A.4_DikeIncrease 0', 'A.4_DikeIncrease 1', 'A.4_DikeIncrease 2',\n",
    "       'A.5_DikeIncrease 0', 'A.5_DikeIncrease 1', 'A.5_DikeIncrease 2']\n",
    "\n",
    "names_outcomes = ['A.1_Expected Annual Damage', 'A.1_Dike Investment Costs',\n",
    "       'A.1_Expected Number of Deaths', 'A.2_Expected Annual Damage',\n",
    "       'A.2_Dike Investment Costs', 'A.2_Expected Number of Deaths',\n",
    "       'A.3_Expected Annual Damage', 'A.3_Dike Investment Costs',\n",
    "       'A.3_Expected Number of Deaths', 'A.4_Expected Annual Damage',\n",
    "       'A.4_Dike Investment Costs', 'A.4_Expected Number of Deaths',\n",
    "       'A.5_Expected Annual Damage', 'A.5_Dike Investment Costs',\n",
    "       'A.5_Expected Number of Deaths', 'RfR Total Costs',\n",
    "       'Expected Evacuation Costs']"
   ]
  },
  {
   "cell_type": "code",
   "execution_count": null,
   "id": "905f59be-da4f-49d8-87ca-6eac9002d1b5",
   "metadata": {},
   "outputs": [],
   "source": [
    "#Identify policies based on open exploration \n",
    "\n",
    "# policies = [Policy('policy 1', **{'A.0_ID flood wave shape':, 'A.1_Bmax', 'A.1_Brate', 'A.1_pfail',\n",
    "#        'A.2_Bmax', 'A.2_Brate', 'A.2_pfail', 'A.3_Bmax', 'A.3_Brate',\n",
    "#        'A.3_pfail', 'A.4_Bmax', 'A.4_Brate', 'A.4_pfail', 'A.5_Bmax',\n",
    "#        'A.5_Brate', 'A.5_pfail', 'discount rate 0', 'discount rate 1',\n",
    "#        'discount rate 2', '0_RfR 0', '0_RfR 1', '0_RfR 2', '1_RfR 0',\n",
    "#        '1_RfR 1', '1_RfR 2', '2_RfR 0', '2_RfR 1', '2_RfR 2', '3_RfR 0',\n",
    "#        '3_RfR 1', '3_RfR 2', '4_RfR 0', '4_RfR 1', '4_RfR 2',\n",
    "#        'A.1_DikeIncrease 0', 'A.1_DikeIncrease 1', 'A.1_DikeIncrease 2',\n",
    "#        'A.2_DikeIncrease 0', 'A.2_DikeIncrease 1', 'A.2_DikeIncrease 2',\n",
    "#        'A.3_DikeIncrease 0', 'A.3_DikeIncrease 1', 'A.3_DikeIncrease 2',\n",
    "#        'A.4_DikeIncrease 0', 'A.4_DikeIncrease 1', 'A.4_DikeIncrease 2',\n",
    "#        'A.5_DikeIncrease 0', 'A.5_DikeIncrease 1', 'A.5_DikeIncrease 2',\n",
    "#        'EWS_DaysToThreat', 'scenario', 'policy', 'model'})]\n",
    "\n",
    "\n",
    "#            Policy('policy 2', **{'4_RfR 0':1,\n",
    "#                                   '4_RfR 1':1,\n",
    "#                                   '4_RfR 2':1,\n",
    "#                                   'A.5_DikeIncrease 0':5}),\n",
    "#            Policy('policy 3', **{'1_RfR 0':1,\n",
    "#                                   '2_RfR 1':1,\n",
    "#                                   '3_RfR 2':1,\n",
    "#                                   'A.3_DikeIncrease 0':5})]\n",
    "\n",
    "\n"
   ]
  },
  {
   "cell_type": "markdown",
   "id": "3790d7e1-ba50-4f81-8d7b-4e40d469d09c",
   "metadata": {},
   "source": [
    "Notes van hypervolume en epsilon process "
   ]
  },
  {
   "cell_type": "code",
   "execution_count": null,
   "id": "40d9f21e-9347-4c8e-90da-94b376768a7b",
   "metadata": {},
   "outputs": [],
   "source": [
    "# for scenario in scenarios:\n",
    "#     results_epsilon = evaluator.optimize(scenario, nfe = 5e3 ,searchover='levers',\n",
    "#                                      epsilons=[0.1,]*len(dike_model.outcomes))"
   ]
  },
  {
   "cell_type": "code",
   "execution_count": null,
   "id": "c1329215-7285-4223-8d5f-ad3394b58bd6",
   "metadata": {},
   "outputs": [],
   "source": [
    "# #Question: This cell doesn't work, could you help us? \n",
    "# ema_logging.log_to_stderr(ema_logging.INFO)\n",
    "\n",
    "# with MultiprocessingEvaluator(dike_model) as evaluator:\n",
    "#     results = evaluator.optimize(nfe=5000, epsilons=[0.5, 0.5, 0.5, 0.5,0.5])"
   ]
  },
  {
   "cell_type": "code",
   "execution_count": null,
   "id": "6bc3ab65-24ef-434b-a759-cf12fd6d7db8",
   "metadata": {},
   "outputs": [],
   "source": [
    "# ema_logging.log_to_stderr(ema_logging.INFO)\n",
    "\n",
    "# for scenario in scenarios:\n",
    "#     with SequentialEvaluator(dike_model) as evaluator:\n",
    "#         results1 = evaluator.optimize(,scenario =scenario, nfe=5e3,dike_model ,searchover='levers',\n",
    "#                                      epsilons=[0.1,]*len(dike_model.outcomes)) "
   ]
  },
  {
   "cell_type": "code",
   "execution_count": null,
   "id": "1d0651af-ec08-42aa-b1ae-0427182f5afb",
   "metadata": {},
   "outputs": [],
   "source": [
    "ema_logging.log_to_stderr(ema_logging.INFO)\n",
    "\n",
    "results = []\n",
    "for scenario in scenarios:\n",
    "    #with MultiprocessingEvaluator(dike_model) as evaluator:\n",
    "    with SequentialEvaluator(dike_model) as evaluator:\n",
    "        results.append(evaluator.optimize(nfe=5e3, searchover='levers',\n",
    "                                     epsilons=[0.1,]*len(dike_model.outcomes),reference =scenario)) "
   ]
  },
  {
   "cell_type": "code",
   "execution_count": null,
   "id": "377bc80e-9c03-4853-8372-4dc6e1d5990b",
   "metadata": {},
   "outputs": [],
   "source": [
    "ema_logging.log_to_stderr(ema_logging.INFO)\n",
    "for scenario in scenarios: \n",
    "    with MultiprocessingEvaluator(dike_model) as evaluator:\n",
    "        results1 = evaluator.optimize(nfe=5e3, searchover='levers',\n",
    "                                     epsilons=[0.1,]*len(dike_model.outcomes),reference = scenario)"
   ]
  },
  {
   "cell_type": "code",
   "execution_count": null,
   "id": "1460fd1c-214b-4349-b70e-fec64ede7771",
   "metadata": {},
   "outputs": [],
   "source": []
  },
  {
   "cell_type": "code",
   "execution_count": null,
   "id": "ac7c2299-a964-4f4c-97e6-e6337edf3c25",
   "metadata": {},
   "outputs": [],
   "source": [
    "# Problem Formulation \n",
    "\n",
    "# dike_model.outcomes = [ScalarOutcome('A.4_Expected Annual Damage', kind=ScalarOutcome.MINIMIZE),\n",
    "#                        ScalarOutcome('A.4_Dike Investment Costs', kind=ScalarOutcome.MINIMIZE),\n",
    "#                        ScalarOutcome('A.4_Expected Number of Deaths', kind=ScalarOutcome.MINIMIZE),\n",
    "#                        ScalarOutcome('RfR Total Costs', kind=ScalarOutcome.MINIMIZE),\n",
    "#                        ScalarOutcome('Expected Evacuation Costs', kind=ScalarOutcome.MINIMIZE)]  \n",
    "\n",
    "#dike_model.uncertainties \n",
    "#dike_model.levers\n",
    "#dike_model.outcomes"
   ]
  },
  {
   "cell_type": "code",
   "execution_count": null,
   "id": "adb8f36e-14fb-450b-bc7c-09015880dc44",
   "metadata": {},
   "outputs": [],
   "source": []
  },
  {
   "cell_type": "code",
   "execution_count": null,
   "id": "9ac0da40-18b3-46d3-bb75-886ed2aad569",
   "metadata": {},
   "outputs": [],
   "source": [
    "## Single Scenario MORDM (Assignment 8)\n",
    "\n",
    "#running the model through EMA workbench\n",
    "ema_logging.log_to_stderr(ema_logging.INFO)\n",
    "\n",
    "#choose problem formulation number, between 0-5\n",
    "#each problem formulation has its own list of outcomes\n",
    "dike_model, planning_steps = get_model_for_problem_formulation(3) \n",
    "\n",
    "\n",
    "ema_logging.log_to_stderr(ema_logging.INFO)\n",
    "\n",
    "# with MultiprocessingEvaluator(dike_model) as evaluator:\n",
    "#     results1 = evaluator.optimize(nfe=5e3, searchover='levers',\n",
    "#                                  epsilons=[0.1,]*len(dike_model.outcomes))\n",
    "    \n",
    "with SequentialEvaluator(dike_model) as evaluator:\n",
    "    results1 = evaluator.optimize(nfe=5e3, searchover='levers',\n",
    "                                 epsilons=[0.1,]*len(dike_model.outcomes), reference = sce)"
   ]
  }
 ],
 "metadata": {
  "kernelspec": {
   "display_name": "Python 3 (ipykernel)",
   "language": "python",
   "name": "python3"
  },
  "language_info": {
   "codemirror_mode": {
    "name": "ipython",
    "version": 3
   },
   "file_extension": ".py",
   "mimetype": "text/x-python",
   "name": "python",
   "nbconvert_exporter": "python",
   "pygments_lexer": "ipython3",
   "version": "3.9.7"
  }
 },
 "nbformat": 4,
 "nbformat_minor": 5
}
