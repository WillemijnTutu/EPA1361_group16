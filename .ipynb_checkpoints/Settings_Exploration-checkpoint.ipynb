{
 "cells": [
  {
   "cell_type": "code",
   "execution_count": null,
   "id": "cd3f7670",
   "metadata": {},
   "outputs": [],
   "source": [
    "#imports\n",
    "import numpy as np\n",
    "import scipy as sp\n",
    "import pandas as pd\n",
    "import matplotlib.pyplot as plt\n",
    "import seaborn as sns\n",
    "import networkx as nx\n",
    "\n",
    "from ema_workbench import (Model, CategoricalParameter,ScalarOutcome, IntegerParameter, RealParameter,\n",
    "                           MultiprocessingEvaluator, ema_logging, Constant, Policy, Scenario,\n",
    "                           perform_experiments, SequentialEvaluator,Constraint)\n",
    "from problem_formulation import get_model_for_problem_formulation\n",
    "\n",
    "from dike_model_function import DikeNetwork  # @UnresolvedImport\n",
    "\n",
    "from ema_workbench.em_framework.optimization import (HyperVolume, EpsilonProgress,GenerationalBorg)\n",
    "from ema_workbench.em_framework.evaluators import perform_experiments\n",
    "from ema_workbench.em_framework.samplers import sample_uncertainties\n",
    "from ema_workbench.util import ema_logging\n",
    "from ema_workbench.analysis import plotting, plotting_util, parcoords, feature_scoring, prim\n",
    "\n",
    "import time\n",
    "import copy"
   ]
  },
  {
   "cell_type": "code",
   "execution_count": null,
   "id": "54e1fe78",
   "metadata": {},
   "outputs": [
    {
     "name": "stderr",
     "output_type": "stream",
     "text": [
      "[MainProcess/INFO] performing 100 scenarios * 5 policies * 1 model(s) = 500 experiments\n",
      "  0%|                                                  | 0/500 [00:00<?, ?it/s][MainProcess/INFO] performing experiments sequentially\n",
      " 43%|█████████████████▎                      | 216/500 [04:38<06:05,  1.29s/it]"
     ]
    }
   ],
   "source": [
    "#running the model through EMA workbench\n",
    "ema_logging.log_to_stderr(ema_logging.INFO)\n",
    "\n",
    "#choose problem formulation number, between 0-5\n",
    "#each problem formulation has its own list of outcomes\n",
    "dike_model, planning_steps = get_model_for_problem_formulation(3)\n",
    "\n",
    "with SequentialEvaluator(dike_model) as evaluator:\n",
    "    results_s100_p5 = evaluator.perform_experiments(scenarios=100, policies=5)"
   ]
  },
  {
   "cell_type": "code",
   "execution_count": null,
   "id": "58fb5955",
   "metadata": {},
   "outputs": [],
   "source": [
    "experiments_s100_p5, outcomes_s100_p5 = results_s100_p5"
   ]
  },
  {
   "cell_type": "code",
   "execution_count": null,
   "id": "1c63b5fd",
   "metadata": {},
   "outputs": [],
   "source": [
    "fd = pd.DataFrame(experiments_s100_p5)"
   ]
  },
  {
   "cell_type": "code",
   "execution_count": null,
   "id": "5ecdab43",
   "metadata": {},
   "outputs": [],
   "source": [
    "fd"
   ]
  },
  {
   "cell_type": "code",
   "execution_count": null,
   "id": "f8b7967c-178a-4bc5-ab91-d34ea2b638cb",
   "metadata": {},
   "outputs": [],
   "source": []
  },
  {
   "cell_type": "code",
   "execution_count": null,
   "id": "0578fbc0",
   "metadata": {},
   "outputs": [],
   "source": [
    "for outcome in outcomes.keys():\n",
    "    fd[outcome] = outcomes[outcome]"
   ]
  },
  {
   "cell_type": "code",
   "execution_count": null,
   "id": "79df11dc",
   "metadata": {},
   "outputs": [],
   "source": [
    "fd.columns"
   ]
  },
  {
   "cell_type": "code",
   "execution_count": null,
   "id": "b9e47c63",
   "metadata": {},
   "outputs": [],
   "source": [
    "fd.to_csv(\"results.csv\") "
   ]
  },
  {
   "cell_type": "code",
   "execution_count": null,
   "id": "ff7b78df",
   "metadata": {},
   "outputs": [],
   "source": [
    "x = experiments_s100_p5.copy()\n",
    "y = outcomes_s100_p5.copy()\n",
    "\n",
    "fs = feature_scoring.get_feature_scores_all(x, y)\n",
    "\n",
    "sns.set(rc = {'figure.figsize':(15,8)})\n",
    "sns.heatmap(fs, cmap=\"viridis\", annot=True)\n",
    "plt.show()"
   ]
  },
  {
   "cell_type": "code",
   "execution_count": null,
   "id": "a76b3231",
   "metadata": {},
   "outputs": [],
   "source": [
    "x[]"
   ]
  },
  {
   "cell_type": "code",
   "execution_count": null,
   "id": "d3b7825b",
   "metadata": {},
   "outputs": [],
   "source": [
    "x.columns"
   ]
  },
  {
   "cell_type": "code",
   "execution_count": null,
   "id": "48fd5201",
   "metadata": {},
   "outputs": [],
   "source": [
    "#running the model through EMA workbench\n",
    "ema_logging.log_to_stderr(ema_logging.INFO)\n",
    "\n",
    "#choose problem formulation number, between 0-5\n",
    "#each problem formulation has its own list of outcomes\n",
    "dike_model, planning_steps = get_model_for_problem_formulation(3)\n",
    "\n",
    "with SequentialEvaluator(dike_model) as evaluator:\n",
    "    results_improved = evaluator.perform_experiments(scenarios=100, policies=5)"
   ]
  },
  {
   "cell_type": "code",
   "execution_count": null,
   "id": "8102479f",
   "metadata": {},
   "outputs": [],
   "source": [
    "experiments_improved, outcomes_improved = results_improved"
   ]
  },
  {
   "cell_type": "code",
   "execution_count": null,
   "id": "bc17b838",
   "metadata": {},
   "outputs": [],
   "source": [
    "outcomes_improved.keys()"
   ]
  },
  {
   "cell_type": "code",
   "execution_count": null,
   "id": "bfb8cac8",
   "metadata": {},
   "outputs": [],
   "source": [
    "experiments_improved.columns"
   ]
  },
  {
   "cell_type": "code",
   "execution_count": null,
   "id": "54bf7fd9",
   "metadata": {},
   "outputs": [],
   "source": [
    "experiments_improved[['A.0_ID flood wave shape', 'A.1_Bmax']]"
   ]
  },
  {
   "cell_type": "code",
   "execution_count": null,
   "id": "9d8d429a",
   "metadata": {},
   "outputs": [],
   "source": [
    "\n",
    "x = experiments_improved[['A.0_ID flood wave shape', 'A.1_Bmax', 'A.1_Brate', 'A.1_pfail',\n",
    "       'A.2_Bmax', 'A.2_Brate', 'A.2_pfail', 'A.3_Bmax', 'A.3_Brate',\n",
    "       'A.3_pfail', 'A.4_Bmax', 'A.4_Brate', 'A.4_pfail', 'A.5_Bmax',\n",
    "       'A.5_Brate', 'A.5_pfail', 'discount rate 0', 'discount rate 1',\n",
    "       'discount rate 2']].copy()\n",
    "y = outcomes_improved.copy()\n",
    "\n",
    "fs = feature_scoring.get_feature_scores_all(x, y)\n",
    "\n",
    "sns.set(rc = {'figure.figsize':(15,8)})\n",
    "sns.heatmap(fs, cmap=\"viridis\", annot=True)\n",
    "plt.show()"
   ]
  },
  {
   "cell_type": "code",
   "execution_count": null,
   "id": "71a0a538",
   "metadata": {},
   "outputs": [],
   "source": [
    "x = experiments_improved[['0_RfR 0', '0_RfR 1', '0_RfR 2', '1_RfR 0',\n",
    "       '1_RfR 1', '1_RfR 2', '2_RfR 0', '2_RfR 1', '2_RfR 2', '3_RfR 0',\n",
    "       '3_RfR 1', '3_RfR 2', '4_RfR 0', '4_RfR 1', '4_RfR 2',\n",
    "       'A.1_DikeIncrease 0', 'A.1_DikeIncrease 1', 'A.1_DikeIncrease 2',\n",
    "       'A.2_DikeIncrease 0', 'A.2_DikeIncrease 1', 'A.2_DikeIncrease 2',\n",
    "       'A.3_DikeIncrease 0', 'A.3_DikeIncrease 1', 'A.3_DikeIncrease 2',\n",
    "       'A.4_DikeIncrease 0', 'A.4_DikeIncrease 1', 'A.4_DikeIncrease 2',\n",
    "       'A.5_DikeIncrease 0', 'A.5_DikeIncrease 1', 'A.5_DikeIncrease 2',\n",
    "       'EWS_DaysToThreat']].copy()\n",
    "y = outcomes_improved.copy()\n",
    "\n",
    "fs = feature_scoring.get_feature_scores_all(x, y)\n",
    "\n",
    "sns.set(rc = {'figure.figsize':(15,8)})\n",
    "sns.heatmap(fs, cmap=\"viridis\", annot=True)\n",
    "plt.show()"
   ]
  },
  {
   "cell_type": "code",
   "execution_count": null,
   "id": "44549e72",
   "metadata": {},
   "outputs": [],
   "source": [
    "outcomes_improved.keys()"
   ]
  },
  {
   "cell_type": "code",
   "execution_count": null,
   "id": "33ea61f9",
   "metadata": {},
   "outputs": [],
   "source": [
    "fig, ax = plt.subplots(figsize=(6,6))\n",
    "\n",
    "sc = ax.scatter(outcomes_improved['A.4 Total Costs'], experiments_improved['A.4_pfail'], c=experiments_improved['policy'])\n",
    "plt.colorbar(sc)\n",
    "\n",
    "ax.set_xlabel('A.4 Total Costs')\n",
    "ax.set_ylabel('A.4_pfail')\n",
    "plt.show()"
   ]
  },
  {
   "cell_type": "code",
   "execution_count": null,
   "id": "059cf4d2",
   "metadata": {},
   "outputs": [],
   "source": [
    "experiments_improved.columns"
   ]
  },
  {
   "cell_type": "code",
   "execution_count": null,
   "id": "55b6b3fd",
   "metadata": {},
   "outputs": [],
   "source": [
    "experiments_improved[experiments_improved['policy'] == 4][['0_RfR 0', '0_RfR 1', '0_RfR 2', '1_RfR 0',\n",
    "       '1_RfR 1', '1_RfR 2', '2_RfR 0', '2_RfR 1', '2_RfR 2', '3_RfR 0',\n",
    "       '3_RfR 1', '3_RfR 2', '4_RfR 0', '4_RfR 1', '4_RfR 2',\n",
    "       'A.1_DikeIncrease 0', 'A.1_DikeIncrease 1', 'A.1_DikeIncrease 2',\n",
    "       'A.2_DikeIncrease 0', 'A.2_DikeIncrease 1', 'A.2_DikeIncrease 2',\n",
    "       'A.3_DikeIncrease 0', 'A.3_DikeIncrease 1', 'A.3_DikeIncrease 2',\n",
    "       'A.4_DikeIncrease 0', 'A.4_DikeIncrease 1', 'A.4_DikeIncrease 2',\n",
    "       'A.5_DikeIncrease 0', 'A.5_DikeIncrease 1', 'A.5_DikeIncrease 2',\n",
    "       'EWS_DaysToThreat']].iloc[0]"
   ]
  },
  {
   "cell_type": "code",
   "execution_count": null,
   "id": "75c4bd74",
   "metadata": {},
   "outputs": [],
   "source": [
    "experiments_improved[experiments_improved['policy'] == 5][['0_RfR 0', '0_RfR 1', '0_RfR 2', '1_RfR 0',\n",
    "       '1_RfR 1', '1_RfR 2', '2_RfR 0', '2_RfR 1', '2_RfR 2', '3_RfR 0',\n",
    "       '3_RfR 1', '3_RfR 2', '4_RfR 0', '4_RfR 1', '4_RfR 2',\n",
    "       'A.1_DikeIncrease 0', 'A.1_DikeIncrease 1', 'A.1_DikeIncrease 2',\n",
    "       'A.2_DikeIncrease 0', 'A.2_DikeIncrease 1', 'A.2_DikeIncrease 2',\n",
    "       'A.3_DikeIncrease 0', 'A.3_DikeIncrease 1', 'A.3_DikeIncrease 2',\n",
    "       'A.4_DikeIncrease 0', 'A.4_DikeIncrease 1', 'A.4_DikeIncrease 2',\n",
    "       'A.5_DikeIncrease 0', 'A.5_DikeIncrease 1', 'A.5_DikeIncrease 2',\n",
    "       'EWS_DaysToThreat']].iloc[0]"
   ]
  },
  {
   "cell_type": "code",
   "execution_count": null,
   "id": "861b9946",
   "metadata": {
    "tags": []
   },
   "outputs": [],
   "source": [
    "ema_logging.log_to_stderr(ema_logging.INFO)\n",
    "\n",
    "#choose problem formulation number, between 0-5\n",
    "#each problem formulation has its own list of outcomes\n",
    "dike_model, planning_steps = get_model_for_problem_formulation(3)\n",
    "\n",
    "with SequentialEvaluator(dike_model) as evaluator:\n",
    "    results_s1_p500 = evaluator.perform_experiments(scenarios=1, policies=500)"
   ]
  },
  {
   "cell_type": "code",
   "execution_count": null,
   "id": "19558491",
   "metadata": {},
   "outputs": [],
   "source": [
    "experiments_levers, outcomes_levers = results_levers\n",
    "x = experiments_levers[['0_RfR 0', '0_RfR 1', '0_RfR 2', '1_RfR 0',\n",
    "       '1_RfR 1', '1_RfR 2', '2_RfR 0', '2_RfR 1', '2_RfR 2', '3_RfR 0',\n",
    "       '3_RfR 1', '3_RfR 2', '4_RfR 0', '4_RfR 1', '4_RfR 2',\n",
    "       'A.1_DikeIncrease 0', 'A.1_DikeIncrease 1', 'A.1_DikeIncrease 2',\n",
    "       'A.2_DikeIncrease 0', 'A.2_DikeIncrease 1', 'A.2_DikeIncrease 2',\n",
    "       'A.3_DikeIncrease 0', 'A.3_DikeIncrease 1', 'A.3_DikeIncrease 2',\n",
    "       'A.4_DikeIncrease 0', 'A.4_DikeIncrease 1', 'A.4_DikeIncrease 2',\n",
    "       'A.5_DikeIncrease 0', 'A.5_DikeIncrease 1', 'A.5_DikeIncrease 2',\n",
    "       'EWS_DaysToThreat']].copy()\n",
    "y = outcomes_levers.copy()\n",
    "\n",
    "fs = feature_scoring.get_feature_scores_all(x, y)\n",
    "\n",
    "sns.set(rc = {'figure.figsize':(15,8)})\n",
    "sns.heatmap(fs, cmap=\"viridis\", annot=True)\n",
    "plt.show()"
   ]
  },
  {
   "cell_type": "code",
   "execution_count": null,
   "id": "2aefabc5",
   "metadata": {},
   "outputs": [],
   "source": [
    "y_transformed = pd.DataFrame()\n",
    "for keys in y.keys():\n",
    "    y_transformed[keys] = y[keys] "
   ]
  },
  {
   "cell_type": "code",
   "execution_count": null,
   "id": "ac6ea9d8",
   "metadata": {},
   "outputs": [],
   "source": [
    "y_transformed['RfR Total Costs'].quantile()"
   ]
  },
  {
   "cell_type": "code",
   "execution_count": null,
   "id": "657ecc8f",
   "metadata": {},
   "outputs": [],
   "source": [
    "y_transformed['of_interest'] = y_transformed['RfR Total Costs'] < 1051100000.0"
   ]
  },
  {
   "cell_type": "code",
   "execution_count": null,
   "id": "007ab281",
   "metadata": {},
   "outputs": [],
   "source": [
    "y_transformed['of_interest']"
   ]
  },
  {
   "cell_type": "code",
   "execution_count": null,
   "id": "60c6b16f",
   "metadata": {},
   "outputs": [],
   "source": [
    "x = experiments_improved[['A.0_ID flood wave shape', 'A.1_Bmax', 'A.1_Brate', 'A.1_pfail',\n",
    "       'A.2_Bmax', 'A.2_Brate', 'A.2_pfail', 'A.3_Bmax', 'A.3_Brate',\n",
    "       'A.3_pfail', 'A.4_Bmax', 'A.4_Brate', 'A.4_pfail', 'A.5_Bmax',\n",
    "       'A.5_Brate', 'A.5_pfail', 'discount rate 0', 'discount rate 1',\n",
    "       'discount rate 2']].copy()"
   ]
  },
  {
   "cell_type": "code",
   "execution_count": null,
   "id": "fbc16d82",
   "metadata": {},
   "outputs": [],
   "source": [
    "y.keys()"
   ]
  },
  {
   "cell_type": "code",
   "execution_count": null,
   "id": "e2f4e140",
   "metadata": {},
   "outputs": [],
   "source": []
  },
  {
   "cell_type": "code",
   "execution_count": null,
   "id": "b1b3e635",
   "metadata": {},
   "outputs": [],
   "source": [
    "\n",
    "prim_alg = prim.Prim(x, y_transformed['of_interest'], threshold=0.8, peel_alpha=0.1)\n",
    "box1 = prim_alg.find_box()\n",
    "n=10\n",
    "box1.show_tradeoff()\n",
    "#print(box1.resample(n))\n",
    "box1.inspect(n)\n",
    "box1.inspect(n, style=\"graph\")\n",
    "box1.show_pairs_scatter(n)\n",
    "\n",
    "plt.show()"
   ]
  },
  {
   "cell_type": "code",
   "execution_count": null,
   "id": "4973ebe4",
   "metadata": {},
   "outputs": [],
   "source": []
  }
 ],
 "metadata": {
  "kernelspec": {
   "display_name": "Python 3 (ipykernel)",
   "language": "python",
   "name": "python3"
  },
  "language_info": {
   "codemirror_mode": {
    "name": "ipython",
    "version": 3
   },
   "file_extension": ".py",
   "mimetype": "text/x-python",
   "name": "python",
   "nbconvert_exporter": "python",
   "pygments_lexer": "ipython3",
   "version": "3.9.7"
  }
 },
 "nbformat": 4,
 "nbformat_minor": 5
}
