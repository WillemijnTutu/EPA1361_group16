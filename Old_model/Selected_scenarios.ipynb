{
 "cells": [
  {
   "cell_type": "code",
   "execution_count": 6,
   "id": "2ce3b627-7f59-4054-87a7-8d7db06212fe",
   "metadata": {},
   "outputs": [
    {
     "name": "stdout",
     "output_type": "stream",
     "text": [
      "Scenario({'A.0_ID flood wave shape': 106, 'A.1_Bmax': 249.4846270889405, 'A.1_Brate': 10.0, 'A.1_pfail': 0.6612945323442119, 'A.2_Bmax': 78.74878428858054, 'A.2_Brate': 10.0, 'A.2_pfail': 0.4380083684708462, 'A.3_Bmax': 65.12771542404141, 'A.3_Brate': 1.5, 'A.3_pfail': 0.5154844288969587, 'A.4_Bmax': 345.5313015266089, 'A.4_Brate': 10.0, 'A.4_pfail': 0.2560097778585071, 'A.5_Bmax': 111.6377675026396, 'A.5_Brate': 10.0, 'A.5_pfail': 0.72621572837228, 'discount rate 0': 3.5, 'discount rate 1': 2.5, 'discount rate 2': 4.5, '0_RfR 0': 0, '0_RfR 1': 0, '0_RfR 2': 1, '1_RfR 0': 0, '1_RfR 1': 0, '1_RfR 2': 1, '2_RfR 0': 0, '2_RfR 1': 0, '2_RfR 2': 0, '3_RfR 0': 1, '3_RfR 1': 0, '3_RfR 2': 0, '4_RfR 0': 1, '4_RfR 1': 0, '4_RfR 2': 1, 'A.1_DikeIncrease 0': 5, 'A.1_DikeIncrease 1': 0, 'A.1_DikeIncrease 2': 4, 'A.2_DikeIncrease 0': 1, 'A.2_DikeIncrease 1': 9, 'A.2_DikeIncrease 2': 4, 'A.3_DikeIncrease 0': 3, 'A.3_DikeIncrease 1': 0, 'A.3_DikeIncrease 2': 9, 'A.4_DikeIncrease 0': 9, 'A.4_DikeIncrease 1': 3, 'A.4_DikeIncrease 2': 7, 'A.5_DikeIncrease 0': 6, 'A.5_DikeIncrease 1': 9, 'A.5_DikeIncrease 2': 10, 'EWS_DaysToThreat': 2, 'scenario': 101, 'policy': 0, 'model': 'dikesnet'})\n"
     ]
    }
   ],
   "source": [
    "import pickle\n",
    "\n",
    "a_file = open(\"scenarios_MSMORDM_withpolicies.pkl\", \"rb\")\n",
    "results = pickle.load(a_file)\n",
    "print(results[4])\n",
    "\n"
   ]
  }
 ],
 "metadata": {
  "kernelspec": {
   "display_name": "Python 3 (ipykernel)",
   "language": "python",
   "name": "python3"
  },
  "language_info": {
   "codemirror_mode": {
    "name": "ipython",
    "version": 3
   },
   "file_extension": ".py",
   "mimetype": "text/x-python",
   "name": "python",
   "nbconvert_exporter": "python",
   "pygments_lexer": "ipython3",
   "version": "3.9.7"
  }
 },
 "nbformat": 4,
 "nbformat_minor": 5
}
